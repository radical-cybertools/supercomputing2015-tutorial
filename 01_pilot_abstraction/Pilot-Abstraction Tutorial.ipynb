{
 "cells": [
  {
   "cell_type": "markdown",
   "metadata": {},
   "source": [
    "# Introduction to Pilot-Abstraction\n",
    "\n",
    "## Import Pilot Library"
   ]
  },
  {
   "cell_type": "code",
   "execution_count": 6,
   "metadata": {
    "collapsed": false
   },
   "outputs": [
    {
     "name": "stdout",
     "output_type": "stream",
     "text": [
      "Populating the interactive namespace from numpy and matplotlib\n"
     ]
    }
   ],
   "source": [
    "%pylab inline\n",
    "import sys\n",
    "import os\n",
    "import time\n",
    "\n",
    "from pilot import PilotComputeService, ComputeDataService, State\n",
    "COORDINATION_URL = \"redis://EiFEvdHRy3mNBZDjsypraXGNQqJcAYKaTnHCZxgqLsykDoKXb@localhost:6379\""
   ]
  },
  {
   "cell_type": "markdown",
   "metadata": {},
   "source": [
    "## Start Pilot Compute on Local or Remote Resource"
   ]
  },
  {
   "cell_type": "code",
   "execution_count": 2,
   "metadata": {
    "collapsed": false
   },
   "outputs": [],
   "source": [
    "pilot_compute_service = PilotComputeService(coordination_url=COORDINATION_URL)\n",
    "\n",
    "# create pilot job service and initiate a pilot job\n",
    "pilot_compute_description = {\n",
    "                         \"service_url\": 'fork://localhost',\n",
    "                         \"number_of_processes\": 1,                             \n",
    "                        }\n",
    "\n",
    "pilotjob = pilot_compute_service.create_pilot(pilot_compute_description=pilot_compute_description)\n",
    "compute_data_service = ComputeDataService()\n",
    "compute_data_service.add_pilot_compute_service(pilot_compute_service)"
   ]
  },
  {
   "cell_type": "markdown",
   "metadata": {},
   "source": [
    "## Submit Applicaiton Workload to Pilot"
   ]
  },
  {
   "cell_type": "code",
   "execution_count": 5,
   "metadata": {
    "collapsed": true
   },
   "outputs": [
    {
     "name": "stdout",
     "output_type": "stream",
     "text": [
      "Finished setup. Waiting for scheduling of CU\n",
      "Final state check...\n",
      "Pilot Compute Service State {\n",
      " PJ: redis://EiFEvdHRy3mNBZDjsypraXGNQqJcAYKaTnHCZxgqLsykDoKXb@localhost:6379/bigjob:bj-b0cb253e-4f6c-11e5-a75e-44a842265a41:localhost, State: Done;\n",
      "}\n",
      "CU: <pilot.impl.pilotcompute_manager.ComputeUnit object at 0x7f83e0681a10> State: Unknown\n",
      "Final state check...\n",
      "Pilot Compute Service State {\n",
      " PJ: redis://EiFEvdHRy3mNBZDjsypraXGNQqJcAYKaTnHCZxgqLsykDoKXb@localhost:6379/bigjob:bj-b0cb253e-4f6c-11e5-a75e-44a842265a41:localhost, State: Done;\n",
      "}\n",
      "CU: <pilot.impl.pilotcompute_manager.ComputeUnit object at 0x7f83e0681a10> State: Unknown\n",
      "Final state check...\n",
      "Pilot Compute Service State {\n",
      " PJ: redis://EiFEvdHRy3mNBZDjsypraXGNQqJcAYKaTnHCZxgqLsykDoKXb@localhost:6379/bigjob:bj-b0cb253e-4f6c-11e5-a75e-44a842265a41:localhost, State: Done;\n",
      "}\n",
      "CU: <pilot.impl.pilotcompute_manager.ComputeUnit object at 0x7f83e0681a10> State: Unknown\n",
      "Final state check...\n",
      "Pilot Compute Service State {\n",
      " PJ: redis://EiFEvdHRy3mNBZDjsypraXGNQqJcAYKaTnHCZxgqLsykDoKXb@localhost:6379/bigjob:bj-b0cb253e-4f6c-11e5-a75e-44a842265a41:localhost, State: Done;\n",
      "}\n",
      "CU: <pilot.impl.pilotcompute_manager.ComputeUnit object at 0x7f83e0681a10> State: Unknown\n",
      "Final state check...\n",
      "Pilot Compute Service State {\n",
      " PJ: redis://EiFEvdHRy3mNBZDjsypraXGNQqJcAYKaTnHCZxgqLsykDoKXb@localhost:6379/bigjob:bj-b0cb253e-4f6c-11e5-a75e-44a842265a41:localhost, State: Done;\n",
      "}\n",
      "CU: <pilot.impl.pilotcompute_manager.ComputeUnit object at 0x7f83e0681a10> State: Unknown\n",
      "Final state check...\n",
      "Pilot Compute Service State {\n",
      " PJ: redis://EiFEvdHRy3mNBZDjsypraXGNQqJcAYKaTnHCZxgqLsykDoKXb@localhost:6379/bigjob:bj-b0cb253e-4f6c-11e5-a75e-44a842265a41:localhost, State: Done;\n",
      "}\n",
      "CU: <pilot.impl.pilotcompute_manager.ComputeUnit object at 0x7f83e0681a10> State: Unknown\n",
      "Final state check...\n",
      "Pilot Compute Service State {\n",
      " PJ: redis://EiFEvdHRy3mNBZDjsypraXGNQqJcAYKaTnHCZxgqLsykDoKXb@localhost:6379/bigjob:bj-b0cb253e-4f6c-11e5-a75e-44a842265a41:localhost, State: Done;\n",
      "}\n",
      "CU: <pilot.impl.pilotcompute_manager.ComputeUnit object at 0x7f83e0681a10> State: Unknown\n",
      "Final state check...\n",
      "Pilot Compute Service State {\n",
      " PJ: redis://EiFEvdHRy3mNBZDjsypraXGNQqJcAYKaTnHCZxgqLsykDoKXb@localhost:6379/bigjob:bj-b0cb253e-4f6c-11e5-a75e-44a842265a41:localhost, State: Done;\n",
      "}\n",
      "CU: <pilot.impl.pilotcompute_manager.ComputeUnit object at 0x7f83e0681a10> State: Unknown\n",
      "Final state check...\n",
      "Pilot Compute Service State {\n",
      " PJ: redis://EiFEvdHRy3mNBZDjsypraXGNQqJcAYKaTnHCZxgqLsykDoKXb@localhost:6379/bigjob:bj-b0cb253e-4f6c-11e5-a75e-44a842265a41:localhost, State: Done;\n",
      "}\n",
      "CU: <pilot.impl.pilotcompute_manager.ComputeUnit object at 0x7f83e0681a10> State: Unknown\n",
      "Final state check...\n",
      "Pilot Compute Service State {\n",
      " PJ: redis://EiFEvdHRy3mNBZDjsypraXGNQqJcAYKaTnHCZxgqLsykDoKXb@localhost:6379/bigjob:bj-b0cb253e-4f6c-11e5-a75e-44a842265a41:localhost, State: Done;\n",
      "}\n",
      "CU: <pilot.impl.pilotcompute_manager.ComputeUnit object at 0x7f83e0681a10> State: Unknown\n",
      "Final state check...\n",
      "Pilot Compute Service State {\n",
      " PJ: redis://EiFEvdHRy3mNBZDjsypraXGNQqJcAYKaTnHCZxgqLsykDoKXb@localhost:6379/bigjob:bj-b0cb253e-4f6c-11e5-a75e-44a842265a41:localhost, State: Done;\n",
      "}\n",
      "CU: <pilot.impl.pilotcompute_manager.ComputeUnit object at 0x7f83e0681a10> State: Unknown\n",
      "Final state check...\n",
      "Pilot Compute Service State {\n",
      " PJ: redis://EiFEvdHRy3mNBZDjsypraXGNQqJcAYKaTnHCZxgqLsykDoKXb@localhost:6379/bigjob:bj-b0cb253e-4f6c-11e5-a75e-44a842265a41:localhost, State: Done;\n",
      "}\n",
      "CU: <pilot.impl.pilotcompute_manager.ComputeUnit object at 0x7f83e0681a10> State: Unknown\n"
     ]
    },
    {
     "ename": "KeyboardInterrupt",
     "evalue": "",
     "output_type": "error",
     "traceback": [
      "\u001b[1;31m---------------------------------------------------------------------------\u001b[0m",
      "\u001b[1;31mKeyboardInterrupt\u001b[0m                         Traceback (most recent call last)",
      "\u001b[1;32m<ipython-input-5-ac1fdd6498e4>\u001b[0m in \u001b[0;36m<module>\u001b[1;34m()\u001b[0m\n\u001b[0;32m     21\u001b[0m     \u001b[1;32mif\u001b[0m \u001b[0mstate_cu\u001b[0m\u001b[1;33m==\u001b[0m\u001b[0mState\u001b[0m\u001b[1;33m.\u001b[0m\u001b[0mDone\u001b[0m\u001b[1;33m:\u001b[0m\u001b[1;33m\u001b[0m\u001b[0m\n\u001b[0;32m     22\u001b[0m         \u001b[1;32mbreak\u001b[0m\u001b[1;33m\u001b[0m\u001b[0m\n\u001b[1;32m---> 23\u001b[1;33m     \u001b[0mtime\u001b[0m\u001b[1;33m.\u001b[0m\u001b[0msleep\u001b[0m\u001b[1;33m(\u001b[0m\u001b[1;36m2\u001b[0m\u001b[1;33m)\u001b[0m\u001b[1;33m\u001b[0m\u001b[0m\n\u001b[0m\u001b[0;32m     24\u001b[0m \u001b[1;33m\u001b[0m\u001b[0m\n\u001b[0;32m     25\u001b[0m \u001b[1;33m\u001b[0m\u001b[0m\n",
      "\u001b[1;31mKeyboardInterrupt\u001b[0m: "
     ]
    }
   ],
   "source": [
    "# start work unit\n",
    "compute_unit_description = {\n",
    "        \"executable\": \"/bin/sleep\",\n",
    "        \"arguments\": [\"0\"],\n",
    "        \"number_of_processes\": 1,            \n",
    "        \"output\": \"stdout.txt\",\n",
    "        \"error\": \"stderr.txt\",   \n",
    "}   \n",
    "\n",
    "for i in range(0,14):\n",
    "    compute_unit = compute_data_service.submit_compute_unit(compute_unit_description)\n"
   ]
  },
  {
   "cell_type": "markdown",
   "metadata": {},
   "source": [
    "## Wait for Completion and Evaluate Results"
   ]
  },
  {
   "cell_type": "code",
   "execution_count": null,
   "metadata": {
    "collapsed": true
   },
   "outputs": [],
   "source": [
    "print(\"Finished setup. Waiting for scheduling of CU\")\n",
    "compute_data_service.wait()\n",
    "\n",
    "while compute_unit != State.Done:\n",
    "    print(\"Final state check...\")\n",
    "    state_cu = compute_unit.get_state()\n",
    "    print \"Pilot Compute Service State %s\" % pilot_compute_service\n",
    "    print \"CU: %s State: %s\"%(compute_unit, state_cu)\n",
    "    if state_cu==State.Done:\n",
    "        break\n",
    "    time.sleep(2)  \n",
    "\n",
    "\n",
    "print \"CU Details:\"\n",
    "print str(compute_unit.get_details())\n",
    "\n",
    "print \"PJ 1 Details:\"\n",
    "print str(pilotjob.get_details())\n",
    "print \"PJ 2 Details:\"\n",
    "#print str(pilotjob2.get_details())"
   ]
  },
  {
   "cell_type": "markdown",
   "metadata": {},
   "source": [
    "## Terminate Pilots"
   ]
  },
  {
   "cell_type": "code",
   "execution_count": null,
   "metadata": {
    "collapsed": true
   },
   "outputs": [],
   "source": [
    "print(\"Terminate Pilot Compute and Compute Data Service\")\n",
    "compute_data_service.cancel()    \n",
    "pilot_compute_service.cancel()"
   ]
  }
 ],
 "metadata": {
  "kernelspec": {
   "display_name": "Python 2",
   "language": "python",
   "name": "python2"
  },
  "language_info": {
   "codemirror_mode": {
    "name": "ipython",
    "version": 2
   },
   "file_extension": ".py",
   "mimetype": "text/x-python",
   "name": "python",
   "nbconvert_exporter": "python",
   "pygments_lexer": "ipython2",
   "version": "2.7.10"
  }
 },
 "nbformat": 4,
 "nbformat_minor": 0
}
