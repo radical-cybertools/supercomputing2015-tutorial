{
 "cells": [
  {
   "cell_type": "markdown",
   "metadata": {},
   "source": [
    "# Radical Pilot Tutorial\n",
    "\n",
    "\n",
    "## 1. Installation\n",
    "\n",
    "    pip install radical.pilot\n",
    "    \n",
    "## 2. Radical Pilot Setup\n",
    "\n",
    "Import dependency and create callbacks for state update\n",
    "\n",
    "Documentation: http://radicalpilot.readthedocs.org/en/latest/machconf.html#preconfigured-resources"
   ]
  },
  {
   "cell_type": "code",
   "execution_count": 1,
   "metadata": {
    "collapsed": false
   },
   "outputs": [],
   "source": [
    "import os, sys\n",
    "import commands\n",
    "import radical.pilot as rp\n",
    "\n",
    "os.environ[\"RADICAL_PILOT_DBURL\"]=\"mongodb://ec2-54-221-194-147.compute-1.amazonaws.com:24242/giannis\"\n",
    "\n",
    "#os.environ[\"RADICAL_PILOT_DBURL\"]=\"mongodb://129.114.108.124:27017/sctut15\"\n",
    "os.environ[\"RADICAL_PILOT_VERBOSE\"]=\"DEBUG\"\n",
    "\n",
    "\"\"\" DESCRIPTION: Tutorial 1: A Simple Workload consisting of a Bag-of-Tasks\n",
    "\"\"\"\n",
    "\n",
    "def pilot_state_cb (pilot, state):\n",
    "    if not pilot:\n",
    "        return\n",
    "    print \"[Callback]: ComputePilot '%s' state: %s.\" % (pilot.uid, state)\n",
    "    if state == rp.FAILED:\n",
    "        sys.exit (1)\n",
    "\n",
    "def unit_state_cb (unit, state):\n",
    "    if not unit:\n",
    "        return\n",
    "\n",
    "    global CNT\n",
    "    print \"[Callback]: unit %s on %s: %s.\" % (unit.uid, unit.pilot_id, state)\n",
    "    if state == rp.FAILED:\n",
    "        print \"stderr: %s\" % unit.stderr\n",
    "        sys.exit(2)"
   ]
  },
  {
   "cell_type": "code",
   "execution_count": 2,
   "metadata": {
    "collapsed": false
   },
   "outputs": [
    {
     "data": {
      "text/plain": [
       "(0, 'DEBUG')"
      ]
     },
     "execution_count": 2,
     "metadata": {},
     "output_type": "execute_result"
    }
   ],
   "source": [
    "commands.getstatusoutput('echo $RADICAL_PILOT_VERBOSE')"
   ]
  },
  {
   "cell_type": "markdown",
   "metadata": {},
   "source": [
    "## 3. Submit Pilot"
   ]
  },
  {
   "cell_type": "code",
   "execution_count": 4,
   "metadata": {
    "collapsed": false
   },
   "outputs": [
    {
     "name": "stdout",
     "output_type": "stream",
     "text": [
      "session id: rp.session.radical-5.jupyter.016688.0000\n",
      "Initializing Pilot Manager ...\n",
      "Submitting Compute Pilot to Pilot Manager ...\n",
      "Initializing Unit Manager ...\n",
      "Registering Compute Pilot with Unit Manager ...\n",
      "Submit Compute Units to Unit Manager ...\n",
      "[Callback]: unit unit.000031 on pilot.0001: PendingInputStaging.\n",
      "[Callback]: unit unit.000031 on pilot.0001: StagingInput.\n",
      "[Callback]: unit unit.000073 on pilot.0001: StagingInput.\n",
      "[Callback]: unit unit.000039 on pilot.0001: PendingInputStaging.\n",
      "[Callback]: unit unit.000032 on pilot.0001: PendingInputStaging.\n",
      "[Callback]: ComputePilot 'pilot.0001' state: Launching.\n",
      "[Callback]: unit unit.000031 on pilot.0001: PendingAgentInputStaging.\n",
      "[Callback]: unit unit.000073 on pilot.0001: PendingAgentInputStaging.\n",
      "[Callback]: unit unit.000039 on pilot.0001: PendingAgentInputStaging.\n",
      "[Callback]: unit unit.000032 on pilot.0001: PendingAgentInputStaging.\n",
      "[Callback]: unit unit.000070 on pilot.0001: PendingAgentInputStaging.\n",
      "[Callback]: unit unit.000074 on pilot.0001: PendingAgentInputStaging.\n",
      "[Callback]: unit unit.000077 on pilot.0001: PendingAgentInputStaging.\n",
      "[Callback]: unit unit.000033 on pilot.0001: PendingAgentInputStaging.\n",
      "[Callback]: unit unit.000045 on pilot.0001: PendingAgentInputStaging.\n",
      "[Callback]: unit unit.000020 on pilot.0001: PendingAgentInputStaging.\n",
      "[Callback]: unit unit.000034 on pilot.0001: PendingAgentInputStaging.\n",
      "[Callback]: unit unit.000056 on pilot.0001: PendingAgentInputStaging.\n",
      "[Callback]: unit unit.000021 on pilot.0001: PendingAgentInputStaging.\n",
      "[Callback]: unit unit.000044 on pilot.0001: PendingAgentInputStaging.\n",
      "[Callback]: unit unit.000052 on pilot.0001: PendingAgentInputStaging.\n",
      "[Callback]: unit unit.000047 on pilot.0001: PendingAgentInputStaging.\n",
      "[Callback]: unit unit.000060 on pilot.0001: StagingInput.\n",
      "[Callback]: unit unit.000036 on pilot.0001: PendingInputStaging.\n",
      "[Callback]: unit unit.000063 on pilot.0001: PendingInputStaging.\n",
      "[Callback]: unit unit.000079 on pilot.0001: PendingInputStaging.\n",
      "[Callback]: unit unit.000055 on pilot.0001: PendingInputStaging.\n",
      "[Callback]: unit unit.000037 on pilot.0001: PendingInputStaging.\n",
      "[Callback]: unit unit.000035 on pilot.0001: PendingInputStaging.\n",
      "[Callback]: unit unit.000042 on pilot.0001: PendingInputStaging.\n",
      "[Callback]: ComputePilot 'pilot.0001' state: Failed.\n",
      "need to exit now: \n",
      "closing session\n",
      "[Callback]: unit unit.000060 on pilot.0001: PendingAgentInputStaging.\n",
      "[Callback]: unit unit.000036 on pilot.0001: PendingAgentInputStaging.\n",
      "[Callback]: unit unit.000063 on pilot.0001: PendingAgentInputStaging.\n",
      "[Callback]: unit unit.000079 on pilot.0001: StagingInput.\n",
      "[Callback]: unit unit.000071 on pilot.0001: PendingInputStaging.\n",
      "[Callback]: unit unit.000051 on pilot.0001: PendingInputStaging.\n",
      "[Callback]: unit unit.000018 on pilot.0001: PendingInputStaging.\n",
      "[Callback]: unit unit.000079 on pilot.0001: PendingAgentInputStaging.\n",
      "[Callback]: unit unit.000055 on pilot.0001: PendingAgentInputStaging.\n",
      "[Callback]: unit unit.000037 on pilot.0001: StagingInput.\n",
      "[Callback]: unit unit.000037 on pilot.0001: PendingAgentInputStaging.\n",
      "[Callback]: unit unit.000035 on pilot.0001: PendingAgentInputStaging.\n",
      "[Callback]: unit unit.000042 on pilot.0001: StagingInput.\n",
      "[Callback]: unit unit.000042 on pilot.0001: PendingAgentInputStaging.\n",
      "[Callback]: unit unit.000071 on pilot.0001: PendingAgentInputStaging.\n",
      "[Callback]: unit unit.000051 on pilot.0001: StagingInput.\n",
      "[Callback]: unit unit.000051 on pilot.0001: PendingAgentInputStaging.\n",
      "[Callback]: unit unit.000018 on pilot.0001: StagingInput.\n"
     ]
    }
   ],
   "source": [
    "# Create a new session. No need to try/except this: if session creation\n",
    "# fails, there is not much we can do anyways...\n",
    "session = rp.Session()\n",
    "print \"session id: %s\" % session.uid\n",
    "# all other pilot code is now tried/excepted.  If an exception is caught, we\n",
    "# can rely on the session object to exist and be valid, and we can thus tear\n",
    "# the whole RP stack down via a 'session.close()' call in the 'finally'\n",
    "# clause...\n",
    "\n",
    "try:\n",
    "    # ----- CHANGE THIS -- CHANGE THIS -- CHANGE THIS -- CHANGE THIS ------\n",
    "    # \n",
    "    # Change the user name below if you are using a remote resource \n",
    "    # and your username on that resource is different from the username \n",
    "    # on your local machine. \n",
    "    #\n",
    "    c = rp.Context('ssh')\n",
    "    c.user_id = \"tg824689\"\n",
    "    session.add_context(c)\n",
    "    # Add a Pilot Manager. Pilot managers manage one or more ComputePilots.\n",
    "    print \"Initializing Pilot Manager ...\"\n",
    "    pmgr = rp.PilotManager(session=session)\n",
    "    # Register our callback with the PilotManager. This callback will get\n",
    "    # called every time any of the pilots managed by the PilotManager\n",
    "    # change their state.\n",
    "    pmgr.register_callback(pilot_state_cb)\n",
    "    # ----- CHANGE THIS -- CHANGE THIS -- CHANGE THIS -- CHANGE THIS ------\n",
    "    # \n",
    "    # If you want to run this example on your local machine, you don't have \n",
    "    # to change anything here. \n",
    "    # \n",
    "    # Change the resource below if you want to run on a remote resource. \n",
    "    # You also might have to set the 'project' to your allocation ID if \n",
    "    # your remote resource does compute time accounting. \n",
    "    #\n",
    "    # A list of preconfigured resources can be found at: \n",
    "    # http://radicalpilot.readthedocs.org/en/latest/machconf.html#preconfigured-resources\n",
    "    # \n",
    "    pdesc = rp.ComputePilotDescription ()\n",
    "    pdesc.resource = \"xsede.stampede\"  # NOTE: This is a \"label\", not a hostname\n",
    "    pdesc.runtime  = 10 # minutes\n",
    "    pdesc.cores    = 16\n",
    "    pdesc.cleanup  = False\n",
    "    pdesc.project  = 'TG-MCB090174'\n",
    "    pdesc.queue    = 'development'\n",
    "    # submit the pilot.\n",
    "    print \"Submitting Compute Pilot to Pilot Manager ...\"\n",
    "    pilot = pmgr.submit_pilots(pdesc)\n",
    "    # Combine the ComputePilot, the ComputeUnits and a scheduler via\n",
    "    # a UnitManager object.\n",
    "    print \"Initializing Unit Manager ...\"\n",
    "    umgr = rp.UnitManager (session=session,\n",
    "                           scheduler=rp.SCHED_DIRECT_SUBMISSION)\n",
    "    # Register our callback with the UnitManager. This callback will get\n",
    "    # called every time any of the units managed by the UnitManager\n",
    "    # change their state.\n",
    "    umgr.register_callback(unit_state_cb)\n",
    "    # Add the created ComputePilot to the UnitManager.\n",
    "    print \"Registering Compute Pilot with Unit Manager ...\"\n",
    "    umgr.add_pilots(pilot)\n",
    "    NUMBER_JOBS  = 64 # the total number of cus to run\n",
    "    # submit CUs to pilot job\n",
    "    cudesc_list = []\n",
    "    for i in range(NUMBER_JOBS):\n",
    "        # -------- BEGIN USER DEFINED CU DESCRIPTION --------- #\n",
    "        cudesc = rp.ComputeUnitDescription()\n",
    "        cudesc.environment = {'CU_NO': i}\n",
    "        cudesc.executable  = \"/bin/echo\"\n",
    "        cudesc.arguments   = ['I am CU number $CU_NO']\n",
    "        cudesc.cores       = 1\n",
    "        # -------- END USER DEFINED CU DESCRIPTION --------- #\n",
    "        cudesc_list.append(cudesc)\n",
    "    # Submit the previously created ComputeUnit descriptions to the\n",
    "    # PilotManager. This will trigger the selected scheduler to start\n",
    "    # assigning ComputeUnits to the ComputePilots.\n",
    "    print \"Submit Compute Units to Unit Manager ...\"\n",
    "    cu_set = umgr.submit_units (cudesc_list)\n",
    "    print \"Waiting for CUs to complete ...\"\n",
    "    umgr.wait_units()\n",
    "    print \"All CUs completed successfully!\"\n",
    "    for cu in cu_set:\n",
    "        print cu.stdout\n",
    "        \n",
    "except Exception as e:\n",
    "    # Something unexpected happened in the pilot code above\n",
    "    print \"caught Exception: %s\" % e\n",
    "    raise\n",
    "    \n",
    "except (KeyboardInterrupt, SystemExit) as e:\n",
    "    # the callback called sys.exit(), and we can here catch the\n",
    "    # corresponding KeyboardInterrupt exception for shutdown.  We also catch\n",
    "    # SystemExit (which gets raised if the main threads exits for some other\n",
    "    # reason).\n",
    "    print \"need to exit now: %s\" % e\n",
    "    \n",
    "finally:\n",
    "    # always clean up the session, no matter if we caught an exception or\n",
    "    # not.\n",
    "    print \"closing session\"\n",
    "    session.close ()\n",
    "\n",
    "    # the above is equivalent to\n",
    "    #\n",
    "    #   session.close (cleanup=True, terminate=True)\n",
    "    #\n",
    "    # it will thus both clean out the session's database record, and kill\n",
    "    # all remaining pilots (none in our example)."
   ]
  },
  {
   "cell_type": "code",
   "execution_count": null,
   "metadata": {
    "collapsed": true
   },
   "outputs": [],
   "source": []
  },
  {
   "cell_type": "code",
   "execution_count": null,
   "metadata": {
    "collapsed": true
   },
   "outputs": [],
   "source": []
  }
 ],
 "metadata": {
  "kernelspec": {
   "display_name": "Python 2",
   "language": "python",
   "name": "python2"
  },
  "language_info": {
   "codemirror_mode": {
    "name": "ipython",
    "version": 2
   },
   "file_extension": ".py",
   "mimetype": "text/x-python",
   "name": "python",
   "nbconvert_exporter": "python",
   "pygments_lexer": "ipython2",
   "version": "2.7.10"
  }
 },
 "nbformat": 4,
 "nbformat_minor": 0
}
