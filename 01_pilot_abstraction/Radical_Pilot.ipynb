{
 "cells": [
  {
   "cell_type": "markdown",
   "metadata": {},
   "source": [
    "# Radical Pilot Tutorial\n",
    "\n",
    "\n",
    "## 1. Installation\n",
    "\n",
    "    pip install radical.utils\n",
    "    pip install radical.pilot\n",
    "    \n",
    "## 2. Radical Pilot Setup\n",
    "\n",
    "Import dependency and create callbacks for state update\n",
    "\n",
    "Documentation: http://radicalpilot.readthedocs.org/en/latest/machconf.html#preconfigured-resources"
   ]
  },
  {
   "cell_type": "code",
   "execution_count": 16,
   "metadata": {
    "collapsed": false
   },
   "outputs": [],
   "source": [
    "import os, sys\n",
    "import radical.pilot as rp\n",
    "\n",
    "#os.environ[\"RADICAL_PILOT_DBURL\"]=\"mongodb://ec2-54-221-194-147.compute-1.amazonaws.com:24242\"\n",
    "\n",
    "os.environ[\"RADICAL_PILOT_DBURL\"]=\"mongodb://129.114.108.124:27017\"\n",
    "os.environ[\"RADICAL_VERBOSE\"]=\"100\"\n",
    "\n",
    "\"\"\" DESCRIPTION: Tutorial 1: A Simple Workload consisting of a Bag-of-Tasks\n",
    "\"\"\"\n",
    "\n",
    "def pilot_state_cb (pilot, state):\n",
    "    if not pilot:\n",
    "        return\n",
    "    print \"[Callback]: ComputePilot '%s' state: %s.\" % (pilot.uid, state)\n",
    "    if state == rp.FAILED:\n",
    "        sys.exit (1)\n",
    "\n",
    "def unit_state_cb (unit, state):\n",
    "    if not unit:\n",
    "        return\n",
    "\n",
    "    global CNT\n",
    "    print \"[Callback]: unit %s on %s: %s.\" % (unit.uid, unit.pilot_id, state)\n",
    "    if state == rp.FAILED:\n",
    "        print \"stderr: %s\" % unit.stderr\n",
    "        sys.exit(2)"
   ]
  },
  {
   "cell_type": "markdown",
   "metadata": {},
   "source": [
    "## 3. Submit Pilot"
   ]
  },
  {
   "cell_type": "code",
   "execution_count": 21,
   "metadata": {
    "collapsed": false
   },
   "outputs": [
    {
     "name": "stdout",
     "output_type": "stream",
     "text": [
      "session id: Pilot-Test\n",
      "Initializing Pilot Manager ...\n",
      "Submitting Compute Pilot to Pilot Manager ...\n",
      "caught Exception: Are there more flavours we need to support?! (ssh)\n",
      "closing session\n"
     ]
    },
    {
     "ename": "Exception",
     "evalue": "Are there more flavours we need to support?! (ssh)",
     "output_type": "error",
     "traceback": [
      "\u001b[1;31m---------------------------------------------------------------------------\u001b[0m",
      "\u001b[1;31mException\u001b[0m                                 Traceback (most recent call last)",
      "\u001b[1;32m<ipython-input-21-4858094a90db>\u001b[0m in \u001b[0;36m<module>\u001b[1;34m()\u001b[0m\n\u001b[0;32m     26\u001b[0m     \u001b[1;31m# submit the pilot.\u001b[0m\u001b[1;33m\u001b[0m\u001b[1;33m\u001b[0m\u001b[0m\n\u001b[0;32m     27\u001b[0m     \u001b[1;32mprint\u001b[0m \u001b[1;34m\"Submitting Compute Pilot to Pilot Manager ...\"\u001b[0m\u001b[1;33m\u001b[0m\u001b[0m\n\u001b[1;32m---> 28\u001b[1;33m     \u001b[0mpilot\u001b[0m \u001b[1;33m=\u001b[0m \u001b[0mpmgr\u001b[0m\u001b[1;33m.\u001b[0m\u001b[0msubmit_pilots\u001b[0m\u001b[1;33m(\u001b[0m\u001b[0mpdesc\u001b[0m\u001b[1;33m)\u001b[0m\u001b[1;33m\u001b[0m\u001b[0m\n\u001b[0m\u001b[0;32m     29\u001b[0m \u001b[1;33m\u001b[0m\u001b[0m\n\u001b[0;32m     30\u001b[0m     \u001b[1;31m# Combine the ComputePilot, the ComputeUnits and a scheduler via\u001b[0m\u001b[1;33m\u001b[0m\u001b[1;33m\u001b[0m\u001b[0m\n",
      "\u001b[1;32m/opt/anaconda/lib/python2.7/site-packages/radical/pilot/pilot_manager.pyc\u001b[0m in \u001b[0;36msubmit_pilots\u001b[1;34m(self, pilot_descriptions)\u001b[0m\n\u001b[0;32m    371\u001b[0m             pilot_uid = self._worker.register_start_pilot_request(\n\u001b[0;32m    372\u001b[0m                 \u001b[0mpilot\u001b[0m\u001b[1;33m=\u001b[0m\u001b[0mpilot\u001b[0m\u001b[1;33m,\u001b[0m\u001b[1;33m\u001b[0m\u001b[0m\n\u001b[1;32m--> 373\u001b[1;33m                 resource_config=resource_cfg)\n\u001b[0m\u001b[0;32m    374\u001b[0m \u001b[1;33m\u001b[0m\u001b[0m\n\u001b[0;32m    375\u001b[0m             \u001b[0mpilot\u001b[0m\u001b[1;33m.\u001b[0m\u001b[0m_uid\u001b[0m \u001b[1;33m=\u001b[0m \u001b[0mpilot_uid\u001b[0m\u001b[1;33m\u001b[0m\u001b[0m\n",
      "\u001b[1;32m/opt/anaconda/lib/python2.7/site-packages/radical/pilot/controller/pilot_manager_controller.pyc\u001b[0m in \u001b[0;36mregister_start_pilot_request\u001b[1;34m(self, pilot, resource_config)\u001b[0m\n\u001b[0;32m    419\u001b[0m                 \u001b[1;32mpass\u001b[0m\u001b[1;33m\u001b[0m\u001b[0m\n\u001b[0;32m    420\u001b[0m             \u001b[1;32melse\u001b[0m\u001b[1;33m:\u001b[0m\u001b[1;33m\u001b[0m\u001b[0m\n\u001b[1;32m--> 421\u001b[1;33m                 \u001b[1;32mraise\u001b[0m \u001b[0mException\u001b[0m\u001b[1;33m(\u001b[0m\u001b[1;34m\"Are there more flavours we need to support?! (%s)\"\u001b[0m \u001b[1;33m%\u001b[0m \u001b[0mjs_url\u001b[0m\u001b[1;33m.\u001b[0m\u001b[0mscheme\u001b[0m\u001b[1;33m)\u001b[0m\u001b[1;33m\u001b[0m\u001b[0m\n\u001b[0m\u001b[0;32m    422\u001b[0m \u001b[1;33m\u001b[0m\u001b[0m\n\u001b[0;32m    423\u001b[0m             \u001b[1;31m# TODO: Why is this 'translation' required?\u001b[0m\u001b[1;33m\u001b[0m\u001b[1;33m\u001b[0m\u001b[0m\n",
      "\u001b[1;31mException\u001b[0m: Are there more flavours we need to support?! (ssh)"
     ]
    }
   ],
   "source": [
    "# Create a new session. No need to try/except this: if session creation\n",
    "# fails, there is not much we can do anyways...\n",
    "session = rp.Session(name=\"Pilot-Test\")\n",
    "print \"session id: %s\" % session.uid\n",
    "\n",
    "\n",
    "try:\n",
    "    c = rp.Context('ssh')\n",
    "    c.user_id = \"radical_pilot\"\n",
    "    session.add_context(c)\n",
    "\n",
    "    # Add a Pilot Manager. Pilot managers manage one or more ComputePilots.\n",
    "    print \"Initializing Pilot Manager ...\"\n",
    "    pmgr = rp.PilotManager(session=session)\n",
    "    # Register our callback with the PilotManager.\n",
    "    pmgr.register_callback(pilot_state_cb)\n",
    "\n",
    "    pdesc = rp.ComputePilotDescription ()\n",
    "    pdesc.resource = \"local.localhost\"  # NOTE: This is a \"label\", not a hostname\n",
    "    #pdesc.resource = \"yarn.localhost\"  # NOTE: This is a \"label\", not a hostname\n",
    "    pdesc.runtime  = 10 # minutes\n",
    "    pdesc.cores    = 1\n",
    "    pdesc.cleanup  = True\n",
    "    pdesc.access_schema =\"ssh\"\n",
    "\n",
    "    # submit the pilot.\n",
    "    print \"Submitting Compute Pilot to Pilot Manager ...\"\n",
    "    pilot = pmgr.submit_pilots(pdesc)\n",
    "\n",
    "    # Combine the ComputePilot, the ComputeUnits and a scheduler via\n",
    "    # a UnitManager object.\n",
    "    print \"Initializing Unit Manager ...\"\n",
    "    umgr = rp.UnitManager (session=session,\n",
    "                           scheduler=rp.SCHED_DIRECT_SUBMISSION)\n",
    "\n",
    "    # Register our callback with the UnitManager. This callback will get\n",
    "    # called every time any of the units managed by the UnitManager\n",
    "    # change their state.\n",
    "    umgr.register_callback(unit_state_cb)\n",
    "\n",
    "    # Add the created ComputePilot to the UnitManager.\n",
    "    print \"Registering Compute Pilot with Unit Manager ...\"\n",
    "    umgr.add_pilots(pilot)\n",
    "\n",
    "    NUMBER_JOBS  = 10 # the total number of cus to run\n",
    "\n",
    "    # submit CUs to pilot job\n",
    "    cudesc_list = []\n",
    "    for i in range(NUMBER_JOBS):\n",
    "\n",
    "        # -------- BEGIN USER DEFINED CU DESCRIPTION --------- #\n",
    "        cudesc = rp.ComputeUnitDescription()\n",
    "        cudesc.environment = {'CU_NO': i}\n",
    "        cudesc.executable  = \"/bin/echo\"\n",
    "        cudesc.arguments   = ['I am CU number $CU_NO']\n",
    "        cudesc.cores       = 1\n",
    "        # -------- END USER DEFINED CU DESCRIPTION --------- #\n",
    "\n",
    "        cudesc_list.append(cudesc)\n",
    "\n",
    "    # Submit the previously created ComputeUnit descriptions to the\n",
    "    # PilotManager. This will trigger the selected scheduler to start\n",
    "    # assigning ComputeUnits to the ComputePilots.\n",
    "    print \"Submit Compute Units to Unit Manager ...\"\n",
    "    cu_set = umgr.submit_units (cudesc_list)\n",
    "\n",
    "    print \"Waiting for CUs to complete ...\"\n",
    "    umgr.wait_units()\n",
    "    print \"All CUs completed successfully!\"\n",
    "\n",
    "\n",
    "except Exception as e:\n",
    "    # Something unexpected happened in the pilot code above\n",
    "    print \"caught Exception: %s\" % e\n",
    "    raise\n",
    "\n",
    "except (KeyboardInterrupt, SystemExit) as e:\n",
    "    # the callback called sys.exit(), and we can here catch the\n",
    "    # corresponding KeyboardInterrupt exception for shutdown.  We also catch\n",
    "    # SystemExit (which gets raised if the main threads exits for some other\n",
    "    # reason).\n",
    "    print \"need to exit now: %s\" % e\n",
    "\n",
    "finally:\n",
    "    # always clean up the session, no matter if we caught an exception or not.\n",
    "    print \"closing session\"\n",
    "    session.close ()\n"
   ]
  },
  {
   "cell_type": "code",
   "execution_count": null,
   "metadata": {
    "collapsed": true
   },
   "outputs": [],
   "source": []
  },
  {
   "cell_type": "code",
   "execution_count": null,
   "metadata": {
    "collapsed": true
   },
   "outputs": [],
   "source": []
  }
 ],
 "metadata": {
  "kernelspec": {
   "display_name": "Python 2",
   "language": "python",
   "name": "python2"
  },
  "language_info": {
   "codemirror_mode": {
    "name": "ipython",
    "version": 2
   },
   "file_extension": ".py",
   "mimetype": "text/x-python",
   "name": "python",
   "nbconvert_exporter": "python",
   "pygments_lexer": "ipython2",
   "version": "2.7.10"
  }
 },
 "nbformat": 4,
 "nbformat_minor": 0
}
