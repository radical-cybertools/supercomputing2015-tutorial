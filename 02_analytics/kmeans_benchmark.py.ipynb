{
 "cells": [
  {
   "cell_type": "markdown",
   "metadata": {},
   "source": [
    "# KMeans Benchmark: Spark/MLlib, Scikit, Manual\n",
    "\n",
    "https://spark.apache.org/docs/latest/mllib-clustering.html#k-means\n",
    "\n",
    "1. Start Spark Cluster:\n",
    "\n",
    "Link to iPython Notebook: [Spark on Stampede](../02_hadoop_on_hpc/Stampede.ipynb)"
   ]
  },
  {
   "cell_type": "code",
   "execution_count": 1,
   "metadata": {
    "collapsed": false
   },
   "outputs": [
    {
     "name": "stdout",
     "output_type": "stream",
     "text": [
      "SPARK Home: /usr/hdp/2.3.0.0-2557/spark-1.5.0/\n"
     ]
    }
   ],
   "source": [
    "from numpy import array\n",
    "from math import sqrt\n",
    "\n",
    "%run ../env.py\n",
    "%run ../util/init_spark.py\n",
    "\n",
    "from pilot_hadoop import PilotComputeService as PilotSparkComputeService\n",
    "\n",
    "pilotcompute_description = {\n",
    "    \"service_url\": \"yarn-client://sc15.radical-cybertools.org\",\n",
    "    \"number_of_processes\": 5\n",
    "}\n",
    "pilot_spark = PilotSparkComputeService.create_pilot(pilotcompute_description=pilotcompute_description)\n",
    "sc = pilot_spark.get_spark_context()"
   ]
  },
  {
   "cell_type": "markdown",
   "metadata": {},
   "source": [
    "## MLLib KMeans"
   ]
  },
  {
   "cell_type": "code",
   "execution_count": 62,
   "metadata": {
    "collapsed": false
   },
   "outputs": [],
   "source": [
    "from pyspark.mllib.clustering import KMeans, KMeansModel\n",
    "# Load and parse the data\n",
    "\n",
    "# index for points\n",
    "idx = []\n",
    "for i in range(1000000):\n",
    "    idx.extend([i]*3)    \n",
    "idx_rdd = sc.parallelize(idx, numSlices=100)\n",
    "\n",
    "# 3D points stored on 3 lines\n",
    "data = sc.textFile(\"/data/kmeans/dataset_1M_3d.in\")\n",
    "parsedData = data.map(lambda x: float(x))"
   ]
  },
  {
   "cell_type": "code",
   "execution_count": 63,
   "metadata": {
    "collapsed": false
   },
   "outputs": [
    {
     "data": {
      "text/plain": [
       "3000000"
      ]
     },
     "execution_count": 63,
     "metadata": {},
     "output_type": "execute_result"
    }
   ],
   "source": [
    "parsedData.count()"
   ]
  },
  {
   "cell_type": "code",
   "execution_count": 64,
   "metadata": {
    "collapsed": false
   },
   "outputs": [],
   "source": [
    "# merge data\n",
    "parsedData = parsedData.repartition(1)\n",
    "idx_rdd = idx_rdd.repartition(1)\n",
    "rdd = idx_rdd.zip(parsedData)"
   ]
  },
  {
   "cell_type": "code",
   "execution_count": 72,
   "metadata": {
    "collapsed": false
   },
   "outputs": [],
   "source": [
    "input_data = rdd.groupByKey().mapValues(list).values()\n",
    "input_data = input_data.repartition(100)"
   ]
  },
  {
   "cell_type": "code",
   "execution_count": 79,
   "metadata": {
    "collapsed": false
   },
   "outputs": [
    {
     "data": {
      "text/plain": [
       "1000000"
      ]
     },
     "execution_count": 79,
     "metadata": {},
     "output_type": "execute_result"
    }
   ],
   "source": [
    "input_data.count()"
   ]
  },
  {
   "cell_type": "code",
   "execution_count": 76,
   "metadata": {
    "collapsed": false
   },
   "outputs": [
    {
     "data": {
      "text/plain": [
       "100"
      ]
     },
     "execution_count": 76,
     "metadata": {},
     "output_type": "execute_result"
    }
   ],
   "source": [
    "input_data.getNumPartitions()"
   ]
  },
  {
   "cell_type": "code",
   "execution_count": 77,
   "metadata": {
    "collapsed": false
   },
   "outputs": [
    {
     "name": "stdout",
     "output_type": "stream",
     "text": [
      "Training Time 19.2\n"
     ]
    }
   ],
   "source": [
    "start = time.time()\n",
    "# Build the model (cluster the data)\n",
    "clusters = KMeans.train(input_data, 50, maxIterations=10, runs=1, initializationMode=\"random\")\n",
    "end = time.time()\n",
    "print \"Training Time %.2f\"%(end-start)"
   ]
  },
  {
   "cell_type": "code",
   "execution_count": 78,
   "metadata": {
    "collapsed": false
   },
   "outputs": [
    {
     "name": "stdout",
     "output_type": "stream",
     "text": [
      "Within Set Sum of Squared Error = 5522621904.56\n"
     ]
    }
   ],
   "source": [
    "# Evaluate clustering by computing Within Set Sum of Squared Errors\n",
    "def error(point):\n",
    "    center = clusters.centers[clusters.predict(point)]\n",
    "    return sqrt(sum([x**2 for x in (point - center)]))\n",
    "\n",
    "WSSSE = input_data.map(lambda point: error(point)).reduce(lambda x, y: x + y)\n",
    "print(\"Within Set Sum of Squared Error = \" + str(WSSSE))\n"
   ]
  },
  {
   "cell_type": "code",
   "execution_count": 5,
   "metadata": {
    "collapsed": false
   },
   "outputs": [
    {
     "data": {
      "text/plain": [
       "'<pyspark.mllib.clustering.KMeansModel object at 0x2b03471b3810>'"
      ]
     },
     "execution_count": 5,
     "metadata": {},
     "output_type": "execute_result"
    }
   ],
   "source": [
    "str(clusters)"
   ]
  },
  {
   "cell_type": "markdown",
   "metadata": {},
   "source": [
    "## Scikit-Learn"
   ]
  },
  {
   "cell_type": "code",
   "execution_count": 2,
   "metadata": {
    "collapsed": false
   },
   "outputs": [
    {
     "name": "stdout",
     "output_type": "stream",
     "text": [
      "Loading Time: 6.37 sec\n"
     ]
    }
   ],
   "source": [
    "import numpy as np\n",
    "import time\n",
    "start = time.time()\n",
    "data = np.loadtxt(\"/data/kmeans/pilot-hadoop/dataset_1M_3d.in\")\n",
    "print \"Loading Time: %.2f sec\"%(time.time()-start)"
   ]
  },
  {
   "cell_type": "code",
   "execution_count": 3,
   "metadata": {
    "collapsed": true
   },
   "outputs": [],
   "source": [
    "num_dimensions = 3\n",
    "num_clusters = 50\n",
    "num_points = len(data)/num_dimensions "
   ]
  },
  {
   "cell_type": "code",
   "execution_count": 4,
   "metadata": {
    "collapsed": false
   },
   "outputs": [],
   "source": [
    "start = time.time()\n",
    "data=data.reshape(num_points, num_dimensions)\n",
    "print \"Preparation Time: %.2f sec\"%(time.time()-start)"
   ]
  },
  {
   "cell_type": "code",
   "execution_count": 9,
   "metadata": {
    "collapsed": false
   },
   "outputs": [
    {
     "name": "stdout",
     "output_type": "stream",
     "text": [
      "(1000000, 3)\n"
     ]
    }
   ],
   "source": [
    "print data.shape"
   ]
  },
  {
   "cell_type": "code",
   "execution_count": 6,
   "metadata": {
    "collapsed": false
   },
   "outputs": [
    {
     "name": "stdout",
     "output_type": "stream",
     "text": [
      "KMeans Training Time: 8.00 sec\n"
     ]
    }
   ],
   "source": [
    "start = time.time()\n",
    "from sklearn.cluster import KMeans\n",
    "number_cpus=-1\n",
    "kmeans = KMeans(n_clusters=50, max_iter=10, n_init=1, n_jobs=number_cpus)\n",
    "results = kmeans.fit_predict(data)\n",
    "print \"KMeans Training Time: %.2f sec\"%(time.time()-start)"
   ]
  },
  {
   "cell_type": "markdown",
   "metadata": {},
   "source": [
    "KMeans Training Time: 521.08 sec"
   ]
  },
  {
   "cell_type": "code",
   "execution_count": 7,
   "metadata": {
    "collapsed": false
   },
   "outputs": [
    {
     "name": "stdout",
     "output_type": "stream",
     "text": [
      "3.61515497588e+13\n"
     ]
    }
   ],
   "source": [
    "print kmeans.inertia_"
   ]
  },
  {
   "cell_type": "markdown",
   "metadata": {},
   "source": [
    "## Manual"
   ]
  },
  {
   "cell_type": "code",
   "execution_count": 32,
   "metadata": {
    "collapsed": true
   },
   "outputs": [],
   "source": [
    "import pandas as pd\n",
    "import sklearn\n",
    "from sklearn.metrics.pairwise import euclidean_distances\n",
    "\n",
    "def mapper(data, centroids):\n",
    "    # compute distances between all points and centroids\n",
    "    distance = sklearn.metrics.pairwise.euclidean_distances(data, clusters)\n",
    "    # compute cluster with min distance\n",
    "    cluster_id = np.argmin(distance, axis=1)\n",
    "    # reshape to row vector\n",
    "    cluster_id = cluster_id[:, np.newaxis]\n",
    "    # join data and cluster ids\n",
    "    data=np.column_stack((data, cluster_id))\n",
    "    return data\n",
    "\n",
    "\n",
    "def compute_new_centroids(distances):\n",
    "    df = pd.DataFrame(distances)\n",
    "    df[3] =  df[3].astype(int)\n",
    "    df = df.groupby(3)[0,1,2].mean()\n",
    "    centroids_np = df.as_matrix()\n",
    "    return centroids_np"
   ]
  },
  {
   "cell_type": "code",
   "execution_count": 39,
   "metadata": {
    "collapsed": false
   },
   "outputs": [
    {
     "name": "stdout",
     "output_type": "stream",
     "text": [
      "KMeans Compute Time: 7.3\n"
     ]
    }
   ],
   "source": [
    "start = time.time()\n",
    "clusters = data[np.random.choice(data.shape[0], 50, replace=False),:]\n",
    "for i in range(10):\n",
    "    points_cluster = mapper(data, clusters) \n",
    "    new_centroids = compute_new_centroids(points_cluster)\n",
    "    clusters=new_centroids\n",
    "end = time.time()\n",
    "print \"KMeans Compute Time: %.1f\"%(end-start)"
   ]
  }
 ],
 "metadata": {
  "kernelspec": {
   "display_name": "Python 2",
   "language": "python",
   "name": "python2"
  },
  "language_info": {
   "codemirror_mode": {
    "name": "ipython",
    "version": 2
   },
   "file_extension": ".py",
   "mimetype": "text/x-python",
   "name": "python",
   "nbconvert_exporter": "python",
   "pygments_lexer": "ipython2",
   "version": "2.7.10"
  }
 },
 "nbformat": 4,
 "nbformat_minor": 0
}
