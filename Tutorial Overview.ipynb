{
 "cells": [
  {
   "cell_type": "markdown",
   "metadata": {},
   "source": [
    "# Data-Intensive Applications on HPC Using Hadoop, Spark and RADICAL-Cybertools\n",
    "\n",
    "Shantenu Jha and Andre Luckow\n",
    "\n",
    "\n",
    "\n",
    "\n",
    "\n",
    "\n",
    "\n",
    "\n",
    "## 1. Pilot-Abstraction for distributed HPC and Apache Hadoop Big Data Stack (ABDS)\n",
    "\n",
    "The Pilot-Abstraction has been successfully used in HPC for supporting a diverse set of task-based workloads on distributed resources. A Pilot-Job is a placeholder job that is submitting to the resource management system and is used as a container for a dynamically determined set of compute tasks. The Pilot-Data abstraction extends the Pilot-Abstraction for supporting the management of data in conjunction with compute tasks. \n",
    "\n",
    "### 1.1 Pilot-Abstraction\n",
    "\n",
    "The Pilot-Abstraction supports a heterogeneous resources, in particular different kinds of cloud, HPC and Hadoop resources.\n",
    "\n",
    "![Pilot Abstraction](figures/interoperable_pilot_job.png)\n",
    "\n",
    "### 1.2 Example\n",
    "\n",
    "The following example demonstrates how the Pilot-Abstraction is used to manage a set of compute tasks.\n"
   ]
  },
  {
   "cell_type": "code",
   "execution_count": 33,
   "metadata": {
    "collapsed": false
   },
   "outputs": [
    {
     "name": "stdout",
     "output_type": "stream",
     "text": [
      "Populating the interactive namespace from numpy and matplotlib\n"
     ]
    }
   ],
   "source": [
    "%pylab inline\n",
    "import sys\n",
    "import os\n",
    "import time\n",
    "\n",
    "from pilot import PilotComputeService, ComputeDataService, State\n",
    "COORDINATION_URL = \"redis://EiFEvdHRy3mNBZDjsypraXGNQqJcAYKaTnHCZxgqLsykDoKXb@localhost:6379\"\n",
    "\n",
    "pilot_compute_service = PilotComputeService(coordination_url=COORDINATION_URL)\n",
    "\n",
    "pilot_compute_description = {\n",
    "                         \"service_url\": 'fork://localhost',\n",
    "                         \"number_of_processes\": 1,                             \n",
    "                        }\n",
    "\n",
    "pilotjob = pilot_compute_service.create_pilot(pilot_compute_description=pilot_compute_description)\n",
    "\n",
    "compute_unit_description = {\n",
    "        \"executable\": \"/bin/sleep\",\n",
    "        \"arguments\": [\"0\"],\n",
    "        \"number_of_processes\": 1,            \n",
    "        \"output\": \"stdout.txt\",\n",
    "        \"error\": \"stderr.txt\",   \n",
    "}   \n",
    "\n",
    "compute_unit = pilotjob.submit_compute_unit(compute_unit_description)\n",
    "\n",
    "compute_unit.wait()\n",
    "\n",
    "# compute_unit_stats = pd.DataFrame(compute_unit.get_details(), index=[0])\n",
    "\n",
    "compute_unit_stats = pd.DataFrame(compute_unit.get_details().values(), index=compute_unit.get_details().keys())\n",
    "\n",
    "pilot_compute_service.cancel()"
   ]
  },
  {
   "cell_type": "code",
   "execution_count": 34,
   "metadata": {
    "collapsed": false
   },
   "outputs": [
    {
     "data": {
      "text/html": [
       "<div>\n",
       "<table border=\"1\" class=\"dataframe\">\n",
       "  <thead>\n",
       "    <tr style=\"text-align: right;\">\n",
       "      <th></th>\n",
       "      <th>0</th>\n",
       "    </tr>\n",
       "  </thead>\n",
       "  <tbody>\n",
       "    <tr>\n",
       "      <th>run_host</th>\n",
       "      <td>radical-5</td>\n",
       "    </tr>\n",
       "    <tr>\n",
       "      <th>Executable</th>\n",
       "      <td>/bin/sleep</td>\n",
       "    </tr>\n",
       "    <tr>\n",
       "      <th>NumberOfProcesses</th>\n",
       "      <td>1</td>\n",
       "    </tr>\n",
       "    <tr>\n",
       "      <th>start_time</th>\n",
       "      <td>1440980773.78</td>\n",
       "    </tr>\n",
       "    <tr>\n",
       "      <th>agent_start_time</th>\n",
       "      <td>1440980773.9</td>\n",
       "    </tr>\n",
       "    <tr>\n",
       "      <th>state</th>\n",
       "      <td>Done</td>\n",
       "    </tr>\n",
       "    <tr>\n",
       "      <th>end_time</th>\n",
       "      <td>1440980779.13</td>\n",
       "    </tr>\n",
       "    <tr>\n",
       "      <th>Arguments</th>\n",
       "      <td>['0']</td>\n",
       "    </tr>\n",
       "    <tr>\n",
       "      <th>Error</th>\n",
       "      <td>stderr.txt</td>\n",
       "    </tr>\n",
       "    <tr>\n",
       "      <th>Output</th>\n",
       "      <td>stdout.txt</td>\n",
       "    </tr>\n",
       "    <tr>\n",
       "      <th>job-id</th>\n",
       "      <td>sj-e2ffd8e2-4f76-11e5-8106-44a842265a41</td>\n",
       "    </tr>\n",
       "    <tr>\n",
       "      <th>SPMDVariation</th>\n",
       "      <td>single</td>\n",
       "    </tr>\n",
       "    <tr>\n",
       "      <th>end_queue_time</th>\n",
       "      <td>1440980774.13</td>\n",
       "    </tr>\n",
       "  </tbody>\n",
       "</table>\n",
       "</div>"
      ],
      "text/plain": [
       "                                                         0\n",
       "run_host                                         radical-5\n",
       "Executable                                      /bin/sleep\n",
       "NumberOfProcesses                                        1\n",
       "start_time                                   1440980773.78\n",
       "agent_start_time                              1440980773.9\n",
       "state                                                 Done\n",
       "end_time                                     1440980779.13\n",
       "Arguments                                            ['0']\n",
       "Error                                           stderr.txt\n",
       "Output                                          stdout.txt\n",
       "job-id             sj-e2ffd8e2-4f76-11e5-8106-44a842265a41\n",
       "SPMDVariation                                       single\n",
       "end_queue_time                               1440980774.13"
      ]
     },
     "execution_count": 34,
     "metadata": {},
     "output_type": "execute_result"
    }
   ],
   "source": [
    "compute_unit_stats"
   ]
  },
  {
   "cell_type": "markdown",
   "metadata": {},
   "source": [
    "## 2. Pilot-Hadoop\n",
    "\n",
    "For the purpose of this tutorial we setup a Hadoop cluster on [Chameleon](https://www.chameleoncloud.org/):\n",
    "\n",
    "* YARN: http://129.114.108.119:8088/\n",
    "* HDFS: http://129.114.108.123:50070/\n",
    "* Ambari: http://129.114.108.119:8080/\n",
    "\n",
    "\n",
    "## 3. Advanced Analytics\n",
    "\n",
    "\n",
    "### 3.1 Setup Spark on YARN"
   ]
  },
  {
   "cell_type": "code",
   "execution_count": null,
   "metadata": {
    "collapsed": true
   },
   "outputs": [],
   "source": [
    "from numpy import array\n",
    "from math import sqrt\n",
    "\n",
    "%run env.py\n",
    "%run util/init_spark.py\n",
    "\n",
    "print \"SPARK HOME: %s\"%os.environ[\"SPARK_HOME\"]\n",
    "\n",
    "try:\n",
    "    sc\n",
    "except NameError:\n",
    "    conf = SparkConf()\n",
    "    conf.set(\"spark.num.executors\", \"4\")\n",
    "    conf.set(\"spark.executor.instances\", \"4\")\n",
    "    conf.set(\"spark.executor.memory\", \"5g\")\n",
    "    conf.set(\"spark.cores.max\", \"4\")\n",
    "    conf.setAppName(\"iPython Spark\")\n",
    "    conf.setMaster(\"yarn-client\")\n",
    "    sc = SparkContext(conf=conf)"
   ]
  },
  {
   "cell_type": "code",
   "execution_count": null,
   "metadata": {
    "collapsed": true
   },
   "outputs": [],
   "source": [
    "rdd = sc.parallelize(range(10))"
   ]
  },
  {
   "cell_type": "code",
   "execution_count": null,
   "metadata": {
    "collapsed": false
   },
   "outputs": [],
   "source": [
    "rdd.map(lambda a: a*a).collect()"
   ]
  },
  {
   "cell_type": "markdown",
   "metadata": {},
   "source": [
    "### 3.2 KMeans (Scikit)"
   ]
  },
  {
   "cell_type": "code",
   "execution_count": 21,
   "metadata": {
    "collapsed": false
   },
   "outputs": [
    {
     "name": "stdout",
     "output_type": "stream",
     "text": [
      "Populating the interactive namespace from numpy and matplotlib\n"
     ]
    }
   ],
   "source": [
    "%pylab inline\n",
    "import matplotlib.pyplot as plt\n",
    "from mpl_toolkits.mplot3d import Axes3D\n",
    "from sklearn import datasets\n",
    "from sklearn.decomposition import PCA\n",
    "import pandas as pd\n",
    "\n",
    "iris = datasets.load_iris()\n",
    "data = pd.DataFrame(iris.data, columns=iris.feature_names)"
   ]
  },
  {
   "cell_type": "code",
   "execution_count": 22,
   "metadata": {
    "collapsed": false
   },
   "outputs": [
    {
     "data": {
      "text/plain": [
       "<matplotlib.axes._subplots.AxesSubplot at 0x7f83f69bf750>"
      ]
     },
     "execution_count": 22,
     "metadata": {},
     "output_type": "execute_result"
    },
    {
     "data": {
      "image/png": "[encoded data removed]",
      "text/plain": [
       "<matplotlib.figure.Figure at 0x7f83f6b08ad0>"
      ]
     },
     "metadata": {},
     "output_type": "display_data"
    }
   ],
   "source": [
    "data.plot()"
   ]
  },
  {
   "cell_type": "code",
   "execution_count": 24,
   "metadata": {
    "collapsed": false
   },
   "outputs": [
    {
     "data": {
      "image/png": "[encoded data removed]",
      "text/plain": [
       "<matplotlib.figure.Figure at 0x7f83f4870190>"
      ]
     },
     "metadata": {},
     "output_type": "display_data"
    }
   ],
   "source": [
    "data.plot(kind='scatter', x='sepal length (cm)', y='sepal width (cm)');"
   ]
  },
  {
   "cell_type": "markdown",
   "metadata": {},
   "source": [
    "### 3.2 KMeans (Spark)\n",
    "\n",
    "https://spark.apache.org/docs/latest/mllib-clustering.html#k-means"
   ]
  },
  {
   "cell_type": "code",
   "execution_count": null,
   "metadata": {
    "collapsed": true
   },
   "outputs": [],
   "source": [
    "# Load and parse the data\n",
    "from pyspark.mllib.clustering import KMeans, KMeansModel\n",
    "data = sc.textFile(\"data_1000points.csv\")\n",
    "parsedData = data.map(lambda line: array([float(x) for x in line.split(',')]))\n",
    "\n",
    "# Build the model (cluster the data)\n",
    "clusters = KMeans.train(parsedData, 2, maxIterations=10,\n",
    "                        runs=10, initializationMode=\"random\")\n",
    "\n",
    "# Evaluate clustering by computing Within Set Sum of Squared Errors\n",
    "def error(point):\n",
    "    center = clusters.centers[clusters.predict(point)]\n",
    "    return sqrt(sum([x**2 for x in (point - center)]))\n",
    "\n",
    "WSSSE = parsedData.map(lambda point: error(point)).reduce(lambda x, y: x + y)\n",
    "print(\"Within Set Sum of Squared Error = \" + str(WSSSE))"
   ]
  },
  {
   "cell_type": "code",
   "execution_count": null,
   "metadata": {
    "collapsed": true
   },
   "outputs": [],
   "source": [
    "# Save and load model\n",
    "clusters.save(sc, \"kmeans.model\")\n",
    "sameModel = KMeansModel.load(sc, \"kmeans.model\")"
   ]
  },
  {
   "cell_type": "markdown",
   "metadata": {},
   "source": [
    "## Graph Analysis"
   ]
  },
  {
   "cell_type": "markdown",
   "metadata": {},
   "source": [
    "## Future Work\n",
    "\n",
    "Midas"
   ]
  },
  {
   "cell_type": "code",
   "execution_count": 35,
   "metadata": {
    "collapsed": false
   },
   "outputs": [
    {
     "name": "stdout",
     "output_type": "stream",
     "text": [
      "hadoop-on-hpc-viceverse.pdf  pilot-abds.png\r\n",
      "hadoop-on-hpc-viceverse.png  pilotabstraction-for-dataparallel-processing.png\r\n",
      "interoperable_pilot_job.pdf  pilotdata-hadoop-architecture.png\r\n",
      "interoperable_pilot_job.png\r\n"
     ]
    }
   ],
   "source": [
    "!ls figures"
   ]
  },
  {
   "cell_type": "code",
   "execution_count": null,
   "metadata": {
    "collapsed": true
   },
   "outputs": [],
   "source": []
  }
 ],
 "metadata": {
  "kernelspec": {
   "display_name": "Python 2",
   "language": "python",
   "name": "python2"
  },
  "language_info": {
   "codemirror_mode": {
    "name": "ipython",
    "version": 2
   },
   "file_extension": ".py",
   "mimetype": "text/x-python",
   "name": "python",
   "nbconvert_exporter": "python",
   "pygments_lexer": "ipython2",
   "version": "2.7.10"
  }
 },
 "nbformat": 4,
 "nbformat_minor": 0
}
