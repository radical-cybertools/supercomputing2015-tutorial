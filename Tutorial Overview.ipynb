{
 "cells": [
  {
   "cell_type": "markdown",
   "metadata": {},
   "source": [
    "# Data-Intensive Applications on HPC Using Hadoop, Spark and RADICAL-Cybertools\n",
    "\n",
    "*Shantenu Jha and Andre Luckow*\n",
    "\n",
    "The tutorial material is available as iPython notebook on Github:\n",
    "\n",
    "* https://github.com/radical-cybertools/supercomputing2015-tutorial\n",
    "\n",
    "## Requirements and Setup:\n",
    "\n",
    "For the purpose of this tutorial we setup a Hadoop cluster and iPython Notebook environment on Amazon Web Services (not active after tutorial):\n",
    "\n",
    "* Jupyterhub/iPython: http://sc15.radical-cybertools.org/\n",
    "* YARN: http://yarn-aws.radical-cybertools.org:8088/\n",
    "* HDFS: http://hdfs-aws.radical-cybertools.org:50070/\n",
    "* Ambari: http://ambari-aws.radical-cybertools.org:8080/\n",
    "\n",
    "Enclosed a list of dependency for installation on other machines:\n",
    "\n",
    "* iPython\n",
    "* Numpy\n",
    "* Pandas\n",
    "* Scikit-Learn\n",
    "* Matplotlib, Seaborn\n",
    "\n",
    "We recommend to use [Anaconda](http://continuum.io/downloads).\n",
    "\n",
    "\n",
    "## 1. Hadoop and Spark Introduction\n",
    "\n",
    "We begin with an overview of using Hadoop and Spark:\n",
    "\n",
    "Hadoop MapReduce: [Link to Notebook](./01_hadoop/MapReduce.ipynb)\n",
    "\n",
    "Spark: [Link to Notebook](./01_hadoop/Spark.ipynb)\n",
    "\n",
    "## 2. Pilot-Abstraction for distributed HPC and Apache Hadoop Big Data Stack (ABDS)\n",
    "\n",
    "The Pilot-Abstraction has been used to execute task-based workloads on distributed resources. A Pilot-Job is a placeholder job that is submitting to the resource management system and is used as a container for a dynamically determined set of compute tasks. The Pilot-Data abstraction extends the Pilot-Abstraction for supporting the management of data in conjunction with compute tasks. \n",
    "\n",
    "The Pilot-Abstraction supports heterogeneous resources, including cloud, HPC, and Hadoop resources.\n",
    "\n",
    "![Pilot Abstraction](./figures/interoperable_pilot_job.png)\n",
    "\n",
    "The following example demonstrates how the Pilot-Abstraction is used to manage a set of compute tasks.\n",
    "\n",
    "[Link to Notebook](./02_pilot/Radical_Pilot.ipynb)\n"
   ]
  },
  {
   "cell_type": "markdown",
   "metadata": {},
   "source": [
    "## 3. Advanced Analytics"
   ]
  },
  {
   "cell_type": "markdown",
   "metadata": {},
   "source": [
    "The following pairplots show the scatter-plot between each of the four features. Clusters for the different species are indicated by the color.\n",
    "\n",
    "[Link to Notebook](./03_analytics/Kmeans.ipynb)"
   ]
  },
  {
   "cell_type": "markdown",
   "metadata": {},
   "source": [
    "## 4. Future Work: Midas"
   ]
  },
  {
   "cell_type": "markdown",
   "metadata": {
    "collapsed": false
   },
   "source": [
    "![Midas](figures/midas.png)\n"
   ]
  }
 ],
 "metadata": {
  "kernelspec": {
   "display_name": "Python 2",
   "language": "python",
   "name": "python2"
  },
  "language_info": {
   "codemirror_mode": {
    "name": "ipython",
    "version": 2
   },
   "file_extension": ".py",
   "mimetype": "text/x-python",
   "name": "python",
   "nbconvert_exporter": "python",
   "pygments_lexer": "ipython2",
   "version": "2.7.10"
  }
 },
 "nbformat": 4,
 "nbformat_minor": 0
}
