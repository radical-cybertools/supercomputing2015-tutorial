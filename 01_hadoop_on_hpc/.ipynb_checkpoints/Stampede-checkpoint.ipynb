{
 "cells": [
  {
   "cell_type": "markdown",
   "metadata": {},
   "source": [
    "# Preparation\n",
    "\n",
    "Install Python: \n",
    "\n",
    "Recommendation is to use Anaconda:\n",
    "\n",
    "    http://continuum.io/downloads\n",
    "\n",
    "\n",
    "Install Spark:\n",
    "\n",
    "    $ wget http://apache.mirrors.hoobly.com/spark/spark-1.4.1/spark-1.4.1-bin-hadoop2.6.tgz\n",
    "    \n",
    "    $ tar -xzvf spark-1.4.1-bin-hadoop2.6.tgz\n",
    "    \n",
    "**(Remove all *.pyc files in SPARK_HOME/python after checkout)**\n",
    "    \n",
    "Note the location of your Spark binaries:\n",
    "\n",
    "Install SAGA-Hadoop:\n",
    "\n",
    "    $ pip install saga-hadoop\n",
    "\n",
    "    \n",
    "Setup SSH port forward:\n",
    "\n",
    "    ssh -fCN -L 8888:localhost:8888 sp\n",
    "    ssh -fND 4223 sp \n",
    "    \n",
    "SSH Config\n",
    "\n",
    "\n",
    "    $HOME/.ssh/config\n",
    "\n",
    "    Host sp\n",
    "        Hostname stampede.tacc.utexas.edu\n",
    "        User <user>"
   ]
  },
  {
   "cell_type": "markdown",
   "metadata": {},
   "source": [
    "## Start Spark Cluster on Stampede\n",
    "\n",
    "\n",
    "Commandline:\n",
    "\n",
    "    saga-hadoop --resource=slurm://localhost --queue=normal --framework spark --walltime=59 --number_cores=16 --project=TG-MCB090174\n",
    "\n",
    "Code:"
   ]
  },
  {
   "cell_type": "code",
   "execution_count": null,
   "metadata": {
    "collapsed": false
   },
   "outputs": [],
   "source": [
    "import os, sys\n",
    "\n",
    "# SPARK_HOME=\"/home1/01131/tg804093/src/spark-1.4.1-bin-hadoop2.6\"\n",
    "SPARK_HOME=\"/home1/01131/tg804093/src/supercomputing2015-tutorial/01_hadoop_on_hpc/work/spark-1.4.1-bin-hadoop2.6\"\n",
    "os.environ[\"SPARK_HOME\"]=SPARK_HOME\n",
    "sys.path.insert(0, os.path.join(SPARK_HOME, \"python\"))\n",
    "sys.path.insert(0, os.path.join(SPARK_HOME, 'python/lib/py4j-0.8.2.1-src.zip')) \n",
    "sys.path.insert(0, os.path.join(SPARK_HOME, 'bin') )\n",
    "\n",
    "from pilot_hadoop import PilotComputeService\n",
    "from IPython.display import HTML\n",
    "\n",
    "os.environ[\"SAGA_VERBOSE\"]=\"100\""
   ]
  },
  {
   "cell_type": "markdown",
   "metadata": {},
   "source": [
    "Cleanup before Starting Spark Cluster"
   ]
  },
  {
   "cell_type": "code",
   "execution_count": 4,
   "metadata": {
    "collapsed": false
   },
   "outputs": [
    {
     "name": "stdout",
     "output_type": "stream",
     "text": [
      "Check environment\n",
      "java version \"1.8.0_25\"\n",
      "Java(TM) SE Runtime Environment (build 1.8.0_25-b17)\n",
      "Java HotSpot(TM) 64-Bit Server VM (build 25.25-b02, mixed mode)\n",
      "/scratch/projects/xsede/jdk64/jdk1.8.0_25\n"
     ]
    }
   ],
   "source": [
    "!echo \"Check environment\"\n",
    "!rm work/spark_started\n",
    "!scancel -u tg804093\n",
    "!java -version\n",
    "!echo $JAVA_HOME"
   ]
  },
  {
   "cell_type": "code",
   "execution_count": 5,
   "metadata": {
    "collapsed": false
   },
   "outputs": [
    {
     "name": "stdout",
     "output_type": "stream",
     "text": [
      "Starting Spark bootstrap job...\n",
      "\n",
      "**** Job: [slurm+ssh://stampede]-[5563083] State : Pending\n",
      "SPARK installation directory: /home1/01131/tg804093/src/supercomputing2015-tutorial/01_hadoop_on_hpc/work/spark-1.4.1-bin-hadoop2.6\n",
      "(please allow some time until the SPARK cluster is completely initialized)\n",
      "export PATH=/home1/01131/tg804093/src/supercomputing2015-tutorial/01_hadoop_on_hpc/work/spark-1.4.1-bin-hadoop2.6/bin:$PATH\n",
      "Spark Web URL: http://129.114.66.15:8080\n",
      "Create Spark Context for URL: spark://129.114.66.15:7077\n"
     ]
    },
    {
     "data": {
      "text/html": [
       "<a target='blank' href='http://129.114.66.15:8080'>Spark Web UI</a>"
      ],
      "text/plain": [
       "<IPython.core.display.HTML object>"
      ]
     },
     "execution_count": 5,
     "metadata": {},
     "output_type": "execute_result"
    }
   ],
   "source": [
    "pilot_compute_description = {\n",
    "                            \"resource_url\":\"slurm+ssh://stampede\",\n",
    "                            \"number_cores\": 16,\n",
    "                            \"cores_per_node\":16,\n",
    "                            \"working_directory\": os.getcwd(),\n",
    "                            \"project\": \"TG-CCR140028\",\n",
    "                            \"queue\": \"normal\", \n",
    "                            \"walltime\": 59,\n",
    "                            \"type\":\"spark\"\n",
    "                            }\n",
    "pilot = PilotComputeService.create_pilot(pilot_compute_description);\n",
    "\n",
    "# print out details of Pilot-Spark\n",
    "details = pilot.get_details()\n",
    "HTML(\"<a target='blank' href='%s'>Spark Web UI</a>\"%details[\"web_ui_url\"])"
   ]
  },
  {
   "cell_type": "code",
   "execution_count": 6,
   "metadata": {
    "collapsed": false
   },
   "outputs": [
    {
     "data": {
      "text/plain": [
       "u'1.4.1'"
      ]
     },
     "execution_count": 6,
     "metadata": {},
     "output_type": "execute_result"
    }
   ],
   "source": [
    "sc = pilot.get_spark_context()\n",
    "sc.version"
   ]
  },
  {
   "cell_type": "code",
   "execution_count": null,
   "metadata": {
    "collapsed": false
   },
   "outputs": [],
   "source": [
    "rdd = sc.parallelize([1,2,3])"
   ]
  },
  {
   "cell_type": "code",
   "execution_count": null,
   "metadata": {
    "collapsed": false
   },
   "outputs": [],
   "source": [
    "rdd.count()"
   ]
  },
  {
   "cell_type": "markdown",
   "metadata": {},
   "source": [
    "## Random Graph Generation\n",
    "\n",
    "    count    24056.000000\n",
    "    mean         5.971566\n",
    "    std          1.305737\n",
    "    min          2.000000\n",
    "    25%          5.000000\n",
    "    50%          6.000000\n",
    "    75%          7.000000\n",
    "    max         12.000000"
   ]
  },
  {
   "cell_type": "code",
   "execution_count": null,
   "metadata": {
    "collapsed": false
   },
   "outputs": [],
   "source": [
    "import numpy as np\n",
    "import pandas as pd\n",
    "number_of_nodes = [10]\n",
    "\n",
    "for number in number_of_nodes:\n",
    "    degree_vector = np.random.normal(series.mean(), series.std(), number)\n"
   ]
  },
  {
   "cell_type": "code",
   "execution_count": 9,
   "metadata": {
    "collapsed": false
   },
   "outputs": [],
   "source": [
    "from pyspark.mllib.random import RandomRDDs\n",
    "r = RandomRDDs.normalRDD(sc, 10).map(lambda v: int(round(5.97 + 1.3057 * v)))"
   ]
  },
  {
   "cell_type": "code",
   "execution_count": 10,
   "metadata": {
    "collapsed": true
   },
   "outputs": [
    {
     "data": {
      "text/plain": [
       "[8, 4, 7, 5, 8, 6, 8, 7, 6, 5]"
      ]
     },
     "execution_count": 10,
     "metadata": {},
     "output_type": "execute_result"
    }
   ],
   "source": [
    "r.collect()"
   ]
  },
  {
   "cell_type": "code",
   "execution_count": 14,
   "metadata": {
    "collapsed": false
   },
   "outputs": [
    {
     "data": {
      "text/plain": [
       "[[(0, 0), (1, 0), (2, 0), (3, 0), (4, 0), (5, 0), (6, 0), (7, 0)],\n",
       " [(0, 0), (1, 0), (2, 0), (3, 0)],\n",
       " [(0, 0), (1, 0), (2, 0), (3, 0), (4, 0), (5, 0), (6, 0)],\n",
       " [(0, 0), (1, 0), (2, 0), (3, 0), (4, 0)],\n",
       " [(0, 0), (1, 0), (2, 0), (3, 0), (4, 0), (5, 0), (6, 0), (7, 0)],\n",
       " [(0, 0), (1, 0), (2, 0), (3, 0), (4, 0), (5, 0)],\n",
       " [(0, 0), (1, 0), (2, 0), (3, 0), (4, 0), (5, 0), (6, 0), (7, 0)],\n",
       " [(0, 0), (1, 0), (2, 0), (3, 0), (4, 0), (5, 0), (6, 0)],\n",
       " [(0, 0), (1, 0), (2, 0), (3, 0), (4, 0), (5, 0)],\n",
       " [(0, 0), (1, 0), (2, 0), (3, 0), (4, 0)]]"
      ]
     },
     "execution_count": 14,
     "metadata": {},
     "output_type": "execute_result"
    }
   ],
   "source": [
    "r.map(lambda v: [(i,0) for i in range(0, v)]).map(lambda v: v).collect()"
   ]
  },
  {
   "cell_type": "code",
   "execution_count": null,
   "metadata": {
    "collapsed": false
   },
   "outputs": [],
   "source": [
    "!ls work"
   ]
  },
  {
   "cell_type": "code",
   "execution_count": null,
   "metadata": {
    "collapsed": false
   },
   "outputs": [],
   "source": [
    "os.environ[\"SPARK_HOME\"]"
   ]
  },
  {
   "cell_type": "markdown",
   "metadata": {},
   "source": [
    "# FAQ\n",
    "\n",
    "1. OSError: [Errno 2] No such file or directory\n",
    "\n",
    "Very likely the Java Environment for initializing the Spark client is not correctly configured. On Stampede execute:\n",
    "\n",
    "    module load jdk64"
   ]
  },
  {
   "cell_type": "code",
   "execution_count": null,
   "metadata": {
    "collapsed": false
   },
   "outputs": [],
   "source": [
    "!pyspark"
   ]
  },
  {
   "cell_type": "markdown",
   "metadata": {},
   "source": [
    "# Scratchpad"
   ]
  },
  {
   "cell_type": "code",
   "execution_count": null,
   "metadata": {
    "collapsed": false,
    "scrolled": true
   },
   "outputs": [],
   "source": [
    "from pyspark import SparkContext, SparkConf, Accumulator, AccumulatorParam\n",
    "spark_context = SparkContext(\"spark://129.114.66.28:7077\",\n",
    "                             \"Pilot-Spark\",\n",
    "                               sparkHome=\"/home1/01131/tg804093/src/supercomputing2015-tutorial/01_hadoop_on_hpc/work/spark-1.4.1-bin-hadoop2.6\")"
   ]
  },
  {
   "cell_type": "code",
   "execution_count": null,
   "metadata": {
    "collapsed": true
   },
   "outputs": [],
   "source": []
  }
 ],
 "metadata": {
  "kernelspec": {
   "display_name": "Python 2",
   "language": "python",
   "name": "python2"
  },
  "language_info": {
   "codemirror_mode": {
    "name": "ipython",
    "version": 2
   },
   "file_extension": ".py",
   "mimetype": "text/x-python",
   "name": "python",
   "nbconvert_exporter": "python",
   "pygments_lexer": "ipython2",
   "version": "2.7.10"
  }
 },
 "nbformat": 4,
 "nbformat_minor": 0
}
