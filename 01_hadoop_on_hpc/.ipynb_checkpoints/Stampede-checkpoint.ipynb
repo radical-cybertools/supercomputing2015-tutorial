{
 "cells": [
  {
   "cell_type": "markdown",
   "metadata": {},
   "source": [
    "# Preparation\n",
    "\n",
    "Install SAGA-Hadoop\n",
    "\n",
    "    pip install saga-hadoop\n",
    "    saga-hadoop --resource=slurm://localhost --queue=normal --framework spark --walltime=59 --number_cores=16 --project=TG-MCB090174"
   ]
  },
  {
   "cell_type": "code",
   "execution_count": 1,
   "metadata": {
    "collapsed": false
   },
   "outputs": [
    {
     "ename": "SyntaxError",
     "evalue": "invalid syntax (<ipython-input-1-ef480047d863>, line 1)",
     "output_type": "error",
     "traceback": [
      "\u001b[0;36m  File \u001b[0;32m\"<ipython-input-1-ef480047d863>\"\u001b[0;36m, line \u001b[0;32m1\u001b[0m\n\u001b[0;31m    saga-hadoop --resource=slurm://localhost --queue=normal --framework spark --walltime=59 --number_cores=16 --project=TG-MCB090174\u001b[0m\n\u001b[0m                                ^\u001b[0m\n\u001b[0;31mSyntaxError\u001b[0m\u001b[0;31m:\u001b[0m invalid syntax\n"
     ]
    }
   ],
   "source": [
    "pilot_compute_description = {\n",
    "                            \"resource_url\":\"slurm+ssh://localhost\",\n",
    "                            \"number_cores\": 16,\n",
    "                            \"cores_per_node\":16,\n",
    "    \n",
    "                            \"type\":\"spark\"\n",
    "                            }\n",
    "pilot = PilotComputeService.create_pilot(pilot_compute_description);\n",
    "\n",
    "# print out details of Pilot-Spark\n",
    "details = pilot.get_details()\n",
    "HTML(\"<a target='blank' href='%s'>Spark Web UI</a>\"%details[\"web_ui_url\"])"
   ]
  },
  {
   "cell_type": "code",
   "execution_count": null,
   "metadata": {
    "collapsed": true
   },
   "outputs": [],
   "source": []
  }
 ],
 "metadata": {
  "kernelspec": {
   "display_name": "Python 2",
   "language": "python",
   "name": "python2"
  },
  "language_info": {
   "codemirror_mode": {
    "name": "ipython",
    "version": 2
   },
   "file_extension": ".py",
   "mimetype": "text/x-python",
   "name": "python",
   "nbconvert_exporter": "python",
   "pygments_lexer": "ipython2",
   "version": "2.7.10"
  }
 },
 "nbformat": 4,
 "nbformat_minor": 0
}
