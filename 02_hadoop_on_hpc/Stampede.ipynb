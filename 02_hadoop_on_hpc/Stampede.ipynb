{
 "cells": [
  {
   "cell_type": "markdown",
   "metadata": {},
   "source": [
    "# Preparation\n",
    "\n",
    "Install Python: \n",
    "\n",
    "Recommendation is to use Anaconda:\n",
    "\n",
    "    http://continuum.io/downloads\n",
    "\n",
    "\n",
    "Install Spark:\n",
    "\n",
    "    $ wget http://apache.mirrors.hoobly.com/spark/spark-1.4.1/spark-1.4.1-bin-hadoop2.6.tgz\n",
    "    \n",
    "    $ tar -xzvf spark-1.4.1-bin-hadoop2.6.tgz\n",
    "    \n",
    "**(Remove all *.pyc files in SPARK_HOME/python after checkout)**\n",
    "    \n",
    "Note the location of your Spark binaries:\n",
    "\n",
    "Install SAGA-Hadoop:\n",
    "\n",
    "    $ pip install saga-hadoop\n",
    "\n",
    "    \n",
    "Setup SSH port forward:\n",
    "\n",
    "    ssh -fCN -L 8888:localhost:8888 sp\n",
    "    ssh -fND 4223 sp \n",
    "    \n",
    "SSH Config\n",
    "\n",
    "\n",
    "    $HOME/.ssh/config\n",
    "\n",
    "    Host sp\n",
    "        Hostname stampede.tacc.utexas.edu\n",
    "        User <user>"
   ]
  },
  {
   "cell_type": "markdown",
   "metadata": {},
   "source": [
    "## Start Spark Cluster on Stampede\n",
    "\n",
    "\n",
    "Commandline:\n",
    "\n",
    "    saga-hadoop --resource=slurm://localhost --queue=normal --framework spark --walltime=59 --number_cores=16 --project=TG-MCB090174\n",
    "\n",
    "Code:"
   ]
  },
  {
   "cell_type": "code",
   "execution_count": 1,
   "metadata": {
    "collapsed": false
   },
   "outputs": [],
   "source": [
    "import os, sys\n",
    "\n",
    "# SPARK_HOME=\"/home1/01131/tg804093/src/spark-1.4.1-bin-hadoop2.6\"\n",
    "SPARK_HOME=\"/home1/01131/tg804093/src/supercomputing2015-tutorial/01_hadoop_on_hpc/work/spark-1.4.1-bin-hadoop2.6\"\n",
    "os.environ[\"SPARK_HOME\"]=SPARK_HOME\n",
    "sys.path.insert(0, os.path.join(SPARK_HOME, \"python\"))\n",
    "sys.path.insert(0, os.path.join(SPARK_HOME, 'python/lib/py4j-0.8.2.1-src.zip')) \n",
    "sys.path.insert(0, os.path.join(SPARK_HOME, 'bin') )\n",
    "\n",
    "from pilot_hadoop import PilotComputeService\n",
    "from IPython.display import HTML\n",
    "\n",
    "os.environ[\"SAGA_VERBOSE\"]=\"100\""
   ]
  },
  {
   "cell_type": "markdown",
   "metadata": {},
   "source": [
    "Cleanup before Starting Spark Cluster"
   ]
  },
  {
   "cell_type": "code",
   "execution_count": 4,
   "metadata": {
    "collapsed": false
   },
   "outputs": [
    {
     "name": "stdout",
     "output_type": "stream",
     "text": [
      "Check environment\n",
      "java version \"1.8.0_25\"\n",
      "Java(TM) SE Runtime Environment (build 1.8.0_25-b17)\n",
      "Java HotSpot(TM) 64-Bit Server VM (build 25.25-b02, mixed mode)\n",
      "/scratch/projects/xsede/jdk64/jdk1.8.0_25\n"
     ]
    }
   ],
   "source": [
    "!echo \"Check environment\"\n",
    "!rm work/spark_started\n",
    "!scancel -u tg804093\n",
    "!java -version\n",
    "!echo $JAVA_HOME"
   ]
  },
  {
   "cell_type": "code",
   "execution_count": 2,
   "metadata": {
    "collapsed": false
   },
   "outputs": [
    {
     "name": "stdout",
     "output_type": "stream",
     "text": [
      "Cleanup old Spark Installation\n",
      "Starting Spark bootstrap job...\n",
      "\n",
      "**** Job: [slurm+ssh://stampede]-[5574684] State : Pending\n",
      "An error occurred: global name 'masters' is not defined\n",
      "Open master file: /home1/01131/tg804093/src/supercomputing2015-tutorial/01_hadoop_on_hpc/work/spark-1.4.1-bin-hadoop2.6/conf/masters\n"
     ]
    },
    {
     "ename": "IOError",
     "evalue": "[Errno 2] No such file or directory: '/home1/01131/tg804093/src/supercomputing2015-tutorial/01_hadoop_on_hpc/work/spark-1.4.1-bin-hadoop2.6/conf/masters'",
     "output_type": "error",
     "traceback": [
      "\u001b[1;31m---------------------------------------------------------------------------\u001b[0m",
      "\u001b[1;31mIOError\u001b[0m                                   Traceback (most recent call last)",
      "\u001b[1;32m<ipython-input-2-4dd0debf3b8f>\u001b[0m in \u001b[0;36m<module>\u001b[1;34m()\u001b[0m\n\u001b[0;32m      9\u001b[0m                             \u001b[1;34m\"type\"\u001b[0m\u001b[1;33m:\u001b[0m\u001b[1;34m\"spark\"\u001b[0m\u001b[1;33m\u001b[0m\u001b[0m\n\u001b[0;32m     10\u001b[0m                             }\n\u001b[1;32m---> 11\u001b[1;33m \u001b[0mpilot\u001b[0m \u001b[1;33m=\u001b[0m \u001b[0mPilotComputeService\u001b[0m\u001b[1;33m.\u001b[0m\u001b[0mcreate_pilot\u001b[0m\u001b[1;33m(\u001b[0m\u001b[0mpilot_compute_description\u001b[0m\u001b[1;33m)\u001b[0m\u001b[1;33m;\u001b[0m\u001b[1;33m\u001b[0m\u001b[0m\n\u001b[0m\u001b[0;32m     12\u001b[0m \u001b[1;33m\u001b[0m\u001b[0m\n\u001b[0;32m     13\u001b[0m \u001b[1;31m# print out details of Pilot-Spark\u001b[0m\u001b[1;33m\u001b[0m\u001b[1;33m\u001b[0m\u001b[0m\n",
      "\u001b[1;32m/home1/01131/tg804093/anaconda/lib/python2.7/site-packages/SAGA_Hadoop-0.23-py2.7.egg/pilot_hadoop/__init__.pyc\u001b[0m in \u001b[0;36mcreate_pilot\u001b[1;34m(cls, pilotcompute_description)\u001b[0m\n\u001b[0;32m    202\u001b[0m         )\n\u001b[0;32m    203\u001b[0m \u001b[1;33m\u001b[0m\u001b[0m\n\u001b[1;32m--> 204\u001b[1;33m         \u001b[0mdetails\u001b[0m \u001b[1;33m=\u001b[0m \u001b[0mPilotComputeService\u001b[0m\u001b[1;33m.\u001b[0m\u001b[0mget_spark_config_data\u001b[0m\u001b[1;33m(\u001b[0m\u001b[0mworking_directory\u001b[0m\u001b[1;33m)\u001b[0m\u001b[1;33m\u001b[0m\u001b[0m\n\u001b[0m\u001b[0;32m    205\u001b[0m         \u001b[0mpilot\u001b[0m \u001b[1;33m=\u001b[0m \u001b[0mPilotCompute\u001b[0m\u001b[1;33m(\u001b[0m\u001b[0msaga_job\u001b[0m\u001b[1;33m,\u001b[0m \u001b[0mdetails\u001b[0m\u001b[1;33m)\u001b[0m\u001b[1;33m\u001b[0m\u001b[0m\n\u001b[0;32m    206\u001b[0m         \u001b[1;32mreturn\u001b[0m \u001b[0mpilot\u001b[0m\u001b[1;33m\u001b[0m\u001b[0m\n",
      "\u001b[1;32m/home1/01131/tg804093/anaconda/lib/python2.7/site-packages/SAGA_Hadoop-0.23-py2.7.egg/pilot_hadoop/__init__.pyc\u001b[0m in \u001b[0;36mget_spark_config_data\u001b[1;34m(cls, working_directory)\u001b[0m\n\u001b[0;32m    230\u001b[0m \u001b[1;33m\u001b[0m\u001b[0m\n\u001b[0;32m    231\u001b[0m         \u001b[1;32mprint\u001b[0m \u001b[1;34m\"Open master file: %s\"\u001b[0m\u001b[1;33m%\u001b[0m\u001b[0mmaster_file\u001b[0m\u001b[1;33m\u001b[0m\u001b[0m\n\u001b[1;32m--> 232\u001b[1;33m         \u001b[1;32mwith\u001b[0m \u001b[0mopen\u001b[0m\u001b[1;33m(\u001b[0m\u001b[0mmaster_file\u001b[0m\u001b[1;33m,\u001b[0m \u001b[1;34m'r'\u001b[0m\u001b[1;33m)\u001b[0m \u001b[1;32mas\u001b[0m \u001b[0mf\u001b[0m\u001b[1;33m:\u001b[0m\u001b[1;33m\u001b[0m\u001b[0m\n\u001b[0m\u001b[0;32m    233\u001b[0m             \u001b[0mmaster\u001b[0m \u001b[1;33m=\u001b[0m \u001b[0mf\u001b[0m\u001b[1;33m.\u001b[0m\u001b[0mread\u001b[0m\u001b[1;33m(\u001b[0m\u001b[1;33m)\u001b[0m\u001b[1;33m.\u001b[0m\u001b[0mstrip\u001b[0m\u001b[1;33m(\u001b[0m\u001b[1;33m)\u001b[0m\u001b[1;33m\u001b[0m\u001b[0m\n\u001b[0;32m    234\u001b[0m         \u001b[0mf\u001b[0m\u001b[1;33m.\u001b[0m\u001b[0mclosed\u001b[0m\u001b[1;33m\u001b[0m\u001b[0m\n",
      "\u001b[1;31mIOError\u001b[0m: [Errno 2] No such file or directory: '/home1/01131/tg804093/src/supercomputing2015-tutorial/01_hadoop_on_hpc/work/spark-1.4.1-bin-hadoop2.6/conf/masters'"
     ]
    }
   ],
   "source": [
    "pilot_compute_description = {\n",
    "                            \"resource_url\":\"slurm+ssh://stampede\",\n",
    "                            \"number_cores\": 32,\n",
    "                            \"cores_per_node\":16,\n",
    "                            \"working_directory\": os.getcwd(),\n",
    "                            \"project\": \"TG-CCR140028\",\n",
    "                            \"queue\": \"normal\", \n",
    "                            \"walltime\": 59,\n",
    "                            \"type\":\"spark\"\n",
    "                            }\n",
    "pilot = PilotComputeService.create_pilot(pilot_compute_description);\n",
    "\n",
    "# print out details of Pilot-Spark\n",
    "details = pilot.get_details()\n",
    "HTML(\"<a target='blank' href='%s'>Spark Web UI</a>\"%details[\"web_ui_url\"])"
   ]
  },
  {
   "cell_type": "code",
   "execution_count": 6,
   "metadata": {
    "collapsed": false
   },
   "outputs": [
    {
     "data": {
      "text/plain": [
       "u'1.4.1'"
      ]
     },
     "execution_count": 6,
     "metadata": {},
     "output_type": "execute_result"
    }
   ],
   "source": [
    "sc = pilot.get_spark_context()\n",
    "sc.version"
   ]
  },
  {
   "cell_type": "code",
   "execution_count": null,
   "metadata": {
    "collapsed": false
   },
   "outputs": [],
   "source": [
    "rdd = sc.parallelize([1,2,3])"
   ]
  },
  {
   "cell_type": "code",
   "execution_count": null,
   "metadata": {
    "collapsed": false
   },
   "outputs": [],
   "source": [
    "rdd.count()"
   ]
  },
  {
   "cell_type": "markdown",
   "metadata": {},
   "source": [
    "## Random Graph Generation\n",
    "\n",
    "    count    24056.000000\n",
    "    mean         5.971566\n",
    "    std          1.305737\n",
    "    min          2.000000\n",
    "    25%          5.000000\n",
    "    50%          6.000000\n",
    "    75%          7.000000\n",
    "    max         12.000000"
   ]
  },
  {
   "cell_type": "code",
   "execution_count": null,
   "metadata": {
    "collapsed": false
   },
   "outputs": [],
   "source": [
    "import numpy as np\n",
    "import pandas as pd\n",
    "number_of_nodes = [10]\n",
    "\n",
    "for number in number_of_nodes:\n",
    "    degree_vector = np.random.normal(series.mean(), series.std(), number)\n"
   ]
  },
  {
   "cell_type": "code",
   "execution_count": 9,
   "metadata": {
    "collapsed": false
   },
   "outputs": [],
   "source": [
    "from pyspark.mllib.random import RandomRDDs\n",
    "r = RandomRDDs.normalRDD(sc, 10).map(lambda v: int(round(5.97 + 1.3057 * v)))"
   ]
  },
  {
   "cell_type": "code",
   "execution_count": 10,
   "metadata": {
    "collapsed": true
   },
   "outputs": [
    {
     "data": {
      "text/plain": [
       "[8, 4, 7, 5, 8, 6, 8, 7, 6, 5]"
      ]
     },
     "execution_count": 10,
     "metadata": {},
     "output_type": "execute_result"
    }
   ],
   "source": [
    "r.collect()"
   ]
  },
  {
   "cell_type": "code",
   "execution_count": 14,
   "metadata": {
    "collapsed": false
   },
   "outputs": [
    {
     "data": {
      "text/plain": [
       "[[(0, 0), (1, 0), (2, 0), (3, 0), (4, 0), (5, 0), (6, 0), (7, 0)],\n",
       " [(0, 0), (1, 0), (2, 0), (3, 0)],\n",
       " [(0, 0), (1, 0), (2, 0), (3, 0), (4, 0), (5, 0), (6, 0)],\n",
       " [(0, 0), (1, 0), (2, 0), (3, 0), (4, 0)],\n",
       " [(0, 0), (1, 0), (2, 0), (3, 0), (4, 0), (5, 0), (6, 0), (7, 0)],\n",
       " [(0, 0), (1, 0), (2, 0), (3, 0), (4, 0), (5, 0)],\n",
       " [(0, 0), (1, 0), (2, 0), (3, 0), (4, 0), (5, 0), (6, 0), (7, 0)],\n",
       " [(0, 0), (1, 0), (2, 0), (3, 0), (4, 0), (5, 0), (6, 0)],\n",
       " [(0, 0), (1, 0), (2, 0), (3, 0), (4, 0), (5, 0)],\n",
       " [(0, 0), (1, 0), (2, 0), (3, 0), (4, 0)]]"
      ]
     },
     "execution_count": 14,
     "metadata": {},
     "output_type": "execute_result"
    }
   ],
   "source": [
    "r.map(lambda v: [(i,0) for i in range(0, v)]).map(lambda v: v).collect()"
   ]
  },
  {
   "cell_type": "code",
   "execution_count": null,
   "metadata": {
    "collapsed": false
   },
   "outputs": [],
   "source": [
    "!ls work"
   ]
  },
  {
   "cell_type": "code",
   "execution_count": null,
   "metadata": {
    "collapsed": false
   },
   "outputs": [],
   "source": [
    "os.environ[\"SPARK_HOME\"]"
   ]
  },
  {
   "cell_type": "markdown",
   "metadata": {},
   "source": [
    "# FAQ\n",
    "\n",
    "1. OSError: [Errno 2] No such file or directory\n",
    "\n",
    "Very likely the Java Environment for initializing the Spark client is not correctly configured. On Stampede execute:\n",
    "\n",
    "    module load jdk64"
   ]
  },
  {
   "cell_type": "code",
   "execution_count": null,
   "metadata": {
    "collapsed": false
   },
   "outputs": [],
   "source": [
    "!pyspark"
   ]
  },
  {
   "cell_type": "markdown",
   "metadata": {},
   "source": [
    "# Scratchpad"
   ]
  },
  {
   "cell_type": "code",
   "execution_count": null,
   "metadata": {
    "collapsed": false,
    "scrolled": true
   },
   "outputs": [],
   "source": [
    "from pyspark import SparkContext, SparkConf, Accumulator, AccumulatorParam\n",
    "spark_context = SparkContext(\"spark://129.114.66.28:7077\",\n",
    "                             \"Pilot-Spark\",\n",
    "                               sparkHome=\"/home1/01131/tg804093/src/supercomputing2015-tutorial/01_hadoop_on_hpc/work/spark-1.4.1-bin-hadoop2.6\")"
   ]
  },
  {
   "cell_type": "code",
   "execution_count": null,
   "metadata": {
    "collapsed": true
   },
   "outputs": [],
   "source": []
  }
 ],
 "metadata": {
  "kernelspec": {
   "display_name": "Python 2",
   "language": "python",
   "name": "python2"
  },
  "language_info": {
   "codemirror_mode": {
    "name": "ipython",
    "version": 2
   },
   "file_extension": ".py",
   "mimetype": "text/x-python",
   "name": "python",
   "nbconvert_exporter": "python",
   "pygments_lexer": "ipython2",
   "version": "2.7.10"
  }
 },
 "nbformat": 4,
 "nbformat_minor": 0
}
