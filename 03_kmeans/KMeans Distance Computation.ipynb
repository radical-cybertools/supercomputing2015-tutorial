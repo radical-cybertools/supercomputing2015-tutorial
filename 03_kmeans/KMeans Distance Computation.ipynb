{
 "cells": [
  {
   "cell_type": "markdown",
   "metadata": {},
   "source": [
    "# Mapper Function for KMeans\n",
    "\n",
    "Optimized computation of distance between points and centroids"
   ]
  },
  {
   "cell_type": "code",
   "execution_count": 2,
   "metadata": {
    "collapsed": true
   },
   "outputs": [],
   "source": [
    "import sklearn\n",
    "import numpy as np\n",
    "import pandas as pd\n",
    "import time"
   ]
  },
  {
   "cell_type": "markdown",
   "metadata": {},
   "source": [
    "## Read data from file"
   ]
  },
  {
   "cell_type": "code",
   "execution_count": 3,
   "metadata": {
    "collapsed": true
   },
   "outputs": [],
   "source": [
    "#data_file = \"/data/kmeans/dataset_200_2d.in\"\n",
    "data_file = \"/data/kmeans/dataset_10M_2d.in\""
   ]
  },
  {
   "cell_type": "code",
   "execution_count": 4,
   "metadata": {
    "collapsed": false
   },
   "outputs": [
    {
     "name": "stdout",
     "output_type": "stream",
     "text": [
      "-4594.04586276\r\n",
      "12194.3621136\r\n"
     ]
    }
   ],
   "source": [
    "!head -n 2 $data_file"
   ]
  },
  {
   "cell_type": "code",
   "execution_count": 5,
   "metadata": {
    "collapsed": false
   },
   "outputs": [
    {
     "name": "stdout",
     "output_type": "stream",
     "text": [
      "Loading Time: 42.77 sec\n"
     ]
    }
   ],
   "source": [
    "start = time.time()\n",
    "data = np.loadtxt(data_file)\n",
    "print \"Loading Time: %.2f sec\"%(time.time()-start)"
   ]
  },
  {
   "cell_type": "code",
   "execution_count": 6,
   "metadata": {
    "collapsed": false
   },
   "outputs": [],
   "source": [
    "num_dimensions = 2\n",
    "num_clusters = 5000\n",
    "num_points = len(data)/num_dimensions "
   ]
  },
  {
   "cell_type": "markdown",
   "metadata": {},
   "source": [
    "## Reshape read in data to n dimensions"
   ]
  },
  {
   "cell_type": "code",
   "execution_count": 7,
   "metadata": {
    "collapsed": true
   },
   "outputs": [],
   "source": [
    "data=data.reshape(num_points, num_dimensions)"
   ]
  },
  {
   "cell_type": "code",
   "execution_count": 8,
   "metadata": {
    "collapsed": false
   },
   "outputs": [
    {
     "name": "stdout",
     "output_type": "stream",
     "text": [
      "Data Shape: (10000000, 2)\n",
      "First point: [ -4594.04586276  12194.3621136 ]\n"
     ]
    }
   ],
   "source": [
    "print \"Data Shape: \" + str(data.shape)\n",
    "print \"First point: \" + str(data[0])"
   ]
  },
  {
   "cell_type": "markdown",
   "metadata": {},
   "source": [
    "## Extract n random points as initial centroids from data"
   ]
  },
  {
   "cell_type": "code",
   "execution_count": 9,
   "metadata": {
    "collapsed": true
   },
   "outputs": [],
   "source": [
    "clusters = data[np.random.choice(data.shape[0], num_clusters, replace=False),:]"
   ]
  },
  {
   "cell_type": "code",
   "execution_count": 10,
   "metadata": {
    "collapsed": false
   },
   "outputs": [
    {
     "name": "stdout",
     "output_type": "stream",
     "text": [
      "First Centroid: [-17427.9065159    6115.02101404]\n"
     ]
    }
   ],
   "source": [
    "print \"First Centroid: \" + str(clusters[0])"
   ]
  },
  {
   "cell_type": "code",
   "execution_count": 11,
   "metadata": {
    "collapsed": false
   },
   "outputs": [
    {
     "name": "stdout",
     "output_type": "stream",
     "text": [
      "First Distance: 14200.9284017\n"
     ]
    }
   ],
   "source": [
    "print \"First Distance: \" + str(np.sqrt(sum((data[0] - clusters[0]) ** 2)))"
   ]
  },
  {
   "cell_type": "markdown",
   "metadata": {},
   "source": [
    "## Compute Distance between all points and centroids\n",
    "\n",
    "Sklearn Documentation: http://scikit-learn.org/stable/modules/generated/sklearn.metrics.pairwise.euclidean_distances.html"
   ]
  },
  {
   "cell_type": "code",
   "execution_count": null,
   "metadata": {
    "collapsed": false
   },
   "outputs": [],
   "source": [
    "start = time.time()\n",
    "distance = sklearn.metrics.pairwise.euclidean_distances(data, clusters)\n",
    "print \"Distance Computation Time (sklearn): %.2f sec\"%(time.time()-start)"
   ]
  },
  {
   "cell_type": "code",
   "execution_count": null,
   "metadata": {
    "collapsed": false
   },
   "outputs": [],
   "source": [
    "distance.shape"
   ]
  },
  {
   "cell_type": "markdown",
   "metadata": {
    "collapsed": true
   },
   "source": [
    "# Dask Testing\n",
    "\n",
    "Dask Paper: http://nipy.bic.berkeley.edu:5000/download/24\n",
    "\n",
    "Documentation: http://dask.pydata.org/en/latest/array-creation.html"
   ]
  },
  {
   "cell_type": "code",
   "execution_count": 12,
   "metadata": {
    "collapsed": false
   },
   "outputs": [],
   "source": [
    "import dask.array as da"
   ]
  },
  {
   "cell_type": "code",
   "execution_count": 13,
   "metadata": {
    "collapsed": false
   },
   "outputs": [],
   "source": [
    "dask_data = da.from_array(data, chunks=10000)"
   ]
  },
  {
   "cell_type": "code",
   "execution_count": 14,
   "metadata": {
    "collapsed": true
   },
   "outputs": [],
   "source": [
    "dask_clusters = da.from_array(clusters, chunks=100)"
   ]
  },
  {
   "cell_type": "code",
   "execution_count": 15,
   "metadata": {
    "collapsed": false
   },
   "outputs": [
    {
     "data": {
      "text/plain": [
       "<dask.context.set_options at 0x7f9a6844dad0>"
      ]
     },
     "execution_count": 15,
     "metadata": {},
     "output_type": "execute_result"
    }
   ],
   "source": [
    "import multiprocessing\n",
    "from multiprocessing.pool import ThreadPool\n",
    "#pool = ThreadPool()\n",
    "\n",
    "pool = multiprocessing.Pool(12)\n",
    "da.set_options(pool=pool) \n",
    "\n",
    "#start = time.time()\n",
    "#distance = sklearn.metrics.pairwise.euclidean_distances(dask_data, dask_clusters)\n",
    "#print \"Distance Computation Time (sklearn/dask): %.2f sec\"%(time.time()-start)"
   ]
  },
  {
   "cell_type": "code",
   "execution_count": null,
   "metadata": {
    "collapsed": true
   },
   "outputs": [],
   "source": [
    "result = da.sqrt((dask_data[:, :, None] - dask_clusters.T[None, :, :])**2).sum(axis=1)"
   ]
  },
  {
   "cell_type": "code",
   "execution_count": null,
   "metadata": {
    "collapsed": false
   },
   "outputs": [],
   "source": [
    "start = time.time()\n",
    "dist_np=np.array(result) \n",
    "print \"Distance Computation Time (sklearn/dask): %.2f sec\"%(time.time()-start)"
   ]
  },
  {
   "cell_type": "code",
   "execution_count": null,
   "metadata": {
    "collapsed": true
   },
   "outputs": [],
   "source": [
    "dist_np[1]"
   ]
  },
  {
   "cell_type": "markdown",
   "metadata": {
    "collapsed": true
   },
   "source": [
    "## BigJob Implementation"
   ]
  },
  {
   "cell_type": "code",
   "execution_count": 200,
   "metadata": {
    "collapsed": true
   },
   "outputs": [],
   "source": [
    "from pilot import PilotComputeService, ComputeDataService, State\n",
    "COORDINATION_URL = \"redis://EiFEvdHRy3mNBZDjsypraXGNQqJcAYKaTnHCZxgqLsykDoKXb@localhost:6379\"\n",
    "\n",
    "pilot_compute_service = PilotComputeService(coordination_url=COORDINATION_URL)\n",
    "\n",
    "pilot_compute_description = {\n",
    "                         \"service_url\": 'fork://localhost',\n",
    "                         \"number_of_processes\": 1,                             \n",
    "                        }\n",
    "\n",
    "pilotjob = pilot_compute_service.create_pilot(pilot_compute_description=pilot_compute_description)"
   ]
  },
  {
   "cell_type": "markdown",
   "metadata": {},
   "source": [
    "## Create Pilot Data"
   ]
  },
  {
   "cell_type": "code",
   "execution_count": 201,
   "metadata": {
    "collapsed": false
   },
   "outputs": [],
   "source": [
    "from pilot import PilotDataService\n",
    "pilot_data_service = PilotDataService(coordination_url=COORDINATION_URL)\n",
    "pilot_data_description={\"service_url\": \"ssh://localhost/tmp/pilot-data/\"}\n",
    "pilot_data = pilot_data_service.create_pilot(pilot_data_description=pilot_data_description)"
   ]
  },
  {
   "cell_type": "code",
   "execution_count": 219,
   "metadata": {
    "collapsed": false
   },
   "outputs": [
    {
     "data": {
      "text/plain": [
       "ssh://localhost/tmp/pilot-data/"
      ]
     },
     "execution_count": 219,
     "metadata": {},
     "output_type": "execute_result"
    }
   ],
   "source": [
    "pilot_data"
   ]
  },
  {
   "cell_type": "markdown",
   "metadata": {},
   "source": [
    "## Load Data"
   ]
  },
  {
   "cell_type": "code",
   "execution_count": 294,
   "metadata": {
    "collapsed": false
   },
   "outputs": [],
   "source": [
    "iris_data = \"/data/kmeans/iris/iris.csv\"\n",
    "data = np.loadtxt(iris_data, delimiter=\",\", skiprows=1, usecols=(0,1,2,3))"
   ]
  },
  {
   "cell_type": "code",
   "execution_count": 295,
   "metadata": {
    "collapsed": false
   },
   "outputs": [],
   "source": [
    "clusters = data[np.random.choice(data.shape[0], 3, replace=False),:]"
   ]
  },
  {
   "cell_type": "code",
   "execution_count": 296,
   "metadata": {
    "collapsed": false
   },
   "outputs": [
    {
     "data": {
      "text/plain": [
       "array([[ 5.6,  2.7,  4.2,  1.3],\n",
       "       [ 5. ,  3.5,  1.6,  0.6],\n",
       "       [ 5.3,  3.7,  1.5,  0.2]])"
      ]
     },
     "execution_count": 296,
     "metadata": {},
     "output_type": "execute_result"
    }
   ],
   "source": [
    "clusters"
   ]
  },
  {
   "cell_type": "code",
   "execution_count": 205,
   "metadata": {
    "collapsed": false
   },
   "outputs": [],
   "source": [
    "def mapper(data, centroids):\n",
    "    # compute distances between all points and centroids\n",
    "    distance = sklearn.metrics.pairwise.euclidean_distances(data, clusters)\n",
    "    # compute cluster with min distance\n",
    "    cluster_id = np.argmin(distance, axis=1)\n",
    "    # reshape to row vector\n",
    "    cluster_id = cluster_id[:, np.newaxis]\n",
    "    # join data and cluster ids\n",
    "    data=np.column_stack((data, cluster_id))\n",
    "    return data\n",
    "    \n",
    "points_cluster = mapper(data, clusters)\n"
   ]
  },
  {
   "cell_type": "code",
   "execution_count": 206,
   "metadata": {
    "collapsed": false
   },
   "outputs": [
    {
     "data": {
      "text/plain": [
       "array([[ 5.99512195,  2.81707317,  4.51219512,  1.46097561],\n",
       "       [ 6.76956522,  3.03695652,  5.6       ,  2.00869565],\n",
       "       [ 5.06825397,  3.22063492,  1.92380952,  0.43650794]])"
      ]
     },
     "execution_count": 206,
     "metadata": {},
     "output_type": "execute_result"
    }
   ],
   "source": [
    "import pandas as pd\n",
    "def reduce(distances):\n",
    "    df = pd.DataFrame(distances)\n",
    "    df[4] =  df[4].astype(int)\n",
    "    df = df.groupby(4)[0,1,2,3].mean()\n",
    "    centroids_np = new_centroids.as_matrix()\n",
    "    return centroids_np\n",
    "    \n",
    "reduce(distances)\n",
    "    "
   ]
  },
  {
   "cell_type": "code",
   "execution_count": 20,
   "metadata": {
    "collapsed": false
   },
   "outputs": [
    {
     "data": {
      "text/plain": [
       "array([1, 0, 0, 0, 1, 1, 0, 1, 0, 0, 1, 1, 0, 0, 1, 1, 1, 1, 1, 1, 1, 1, 0,\n",
       "       1, 1, 1, 1, 1, 1, 0, 0, 1, 1, 1, 0, 1, 1, 0, 0, 1, 1, 0, 0, 1, 1, 0,\n",
       "       1, 0, 1, 1, 2, 2, 2, 2, 2, 2, 2, 1, 2, 2, 2, 2, 2, 2, 2, 2, 2, 2, 2,\n",
       "       2, 2, 2, 2, 2, 2, 2, 2, 2, 2, 2, 2, 2, 2, 2, 2, 2, 2, 2, 2, 2, 2, 2,\n",
       "       2, 1, 2, 2, 2, 2, 1, 2, 2, 2, 2, 2, 2, 2, 2, 2, 2, 2, 2, 2, 2, 2, 2,\n",
       "       2, 2, 2, 2, 2, 2, 2, 2, 2, 2, 2, 2, 2, 2, 2, 2, 2, 2, 2, 2, 2, 2, 2,\n",
       "       2, 2, 2, 2, 2, 2, 2, 2, 2, 2, 2, 2])"
      ]
     },
     "execution_count": 20,
     "metadata": {},
     "output_type": "execute_result"
    }
   ],
   "source": [
    "np.argmin(distances, axis=1)"
   ]
  },
  {
   "cell_type": "code",
   "execution_count": 297,
   "metadata": {
    "collapsed": false
   },
   "outputs": [],
   "source": [
    "import datetime\n",
    "class PythonCUExecutor(object):\n",
    "    \n",
    "    from sklearn.metrics.pairwise import euclidean_distances\n",
    "    \n",
    "    def __init__(self, function=None, arg1=None, arg2=None):\n",
    "        self.function = function\n",
    "        self.arg1 = arg1\n",
    "        self.arg2 = arg2\n",
    "\n",
    "    def execute(self):\n",
    "        return self.function(self.arg1, self.arg2)\n",
    "        \n"
   ]
  },
  {
   "cell_type": "markdown",
   "metadata": {},
   "source": [
    "### Serialize Input/output data"
   ]
  },
  {
   "cell_type": "code",
   "execution_count": 298,
   "metadata": {
    "collapsed": true
   },
   "outputs": [],
   "source": [
    "pcu = PythonCUExecutor(mapper, data, clusters)\n",
    "pcu_cp = cloudpickle.dumps(pcu)\n",
    "d =datetime.datetime.now()\n",
    "pcu_cp_file = \"PCU-\" + d.strftime(\"%Y%m%d-%H%M%S\") + \".cloudpickle\"\n",
    "with open(pcu_cp_file, \"w\") as f:\n",
    "    f.write(pcu_cp)       "
   ]
  },
  {
   "cell_type": "code",
   "execution_count": 299,
   "metadata": {
    "collapsed": false
   },
   "outputs": [
    {
     "name": "stdout",
     "output_type": "stream",
     "text": [
      "KMeans Distance Computation.ipynb  PCU-20150908-025028.cloudpickle\r\n",
      "PCU-20150907-000118.cloudpickle    PCU-20150908-025449.cloudpickle\r\n",
      "PCU-20150907-000335.cloudpickle    PCU-20150908-025847.cloudpickle\r\n",
      "PCU-20150908-015323.cloudpickle    PCU-20150908-025941.cloudpickle\r\n",
      "PCU-20150908-015349.cloudpickle    PythonCUExecutor.py\r\n",
      "PCU-20150908-015412.cloudpickle\r\n"
     ]
    }
   ],
   "source": [
    "!ls"
   ]
  },
  {
   "cell_type": "code",
   "execution_count": 300,
   "metadata": {
    "collapsed": false
   },
   "outputs": [
    {
     "data": {
      "text/plain": [
       "'PCU-20150908-025941.cloudpickle'"
      ]
     },
     "execution_count": 300,
     "metadata": {},
     "output_type": "execute_result"
    }
   ],
   "source": [
    "pcu_cp_file"
   ]
  },
  {
   "cell_type": "code",
   "execution_count": 301,
   "metadata": {
    "collapsed": true
   },
   "outputs": [
    {
     "name": "stdout",
     "output_type": "stream",
     "text": [
      "[[5.1, 3.5, 1.4, 0.2, 2.0], [4.9, 3.0, 1.4, 0.2, 1.0], [4.7, 3.2, 1.3, 0.2, 1.0], [4.6, 3.1, 1.5, 0.2, 1.0], [5.0, 3.6, 1.4, 0.2, 2.0], [5.4, 3.9, 1.7, 0.4, 2.0], [4.6, 3.4, 1.4, 0.3, 1.0], [5.0, 3.4, 1.5, 0.2, 2.0], [4.4, 2.9, 1.4, 0.2, 1.0], [4.9, 3.1, 1.5, 0.1, 1.0], [5.4, 3.7, 1.5, 0.2, 2.0], [4.8, 3.4, 1.6, 0.2, 1.0], [4.8, 3.0, 1.4, 0.1, 1.0], [4.3, 3.0, 1.1, 0.1, 1.0], [5.8, 4.0, 1.2, 0.2, 2.0], [5.7, 4.4, 1.5, 0.4, 2.0], [5.4, 3.9, 1.3, 0.4, 2.0], [5.1, 3.5, 1.4, 0.3, 2.0], [5.7, 3.8, 1.7, 0.3, 2.0], [5.1, 3.8, 1.5, 0.3, 2.0], [5.4, 3.4, 1.7, 0.2, 2.0], [5.1, 3.7, 1.5, 0.4, 2.0], [4.6, 3.6, 1.0, 0.2, 1.0], [5.1, 3.3, 1.7, 0.5, 1.0], [4.8, 3.4, 1.9, 0.2, 1.0], [5.0, 3.0, 1.6, 0.2, 1.0], [5.0, 3.4, 1.6, 0.4, 1.0], [5.2, 3.5, 1.5, 0.2, 2.0], [5.2, 3.4, 1.4, 0.2, 2.0], [4.7, 3.2, 1.6, 0.2, 1.0], [4.8, 3.1, 1.6, 0.2, 1.0], [5.4, 3.4, 1.5, 0.4, 2.0], [5.2, 4.1, 1.5, 0.1, 2.0], [5.5, 4.2, 1.4, 0.2, 2.0], [4.9, 3.1, 1.5, 0.1, 1.0], [5.0, 3.2, 1.2, 0.2, 1.0], [5.5, 3.5, 1.3, 0.2, 2.0], [4.9, 3.1, 1.5, 0.1, 1.0], [4.4, 3.0, 1.3, 0.2, 1.0], [5.1, 3.4, 1.5, 0.2, 2.0], [5.0, 3.5, 1.3, 0.3, 2.0], [4.5, 2.3, 1.3, 0.3, 1.0], [4.4, 3.2, 1.3, 0.2, 1.0], [5.0, 3.5, 1.6, 0.6, 1.0], [5.1, 3.8, 1.9, 0.4, 1.0], [4.8, 3.0, 1.4, 0.3, 1.0], [5.1, 3.8, 1.6, 0.2, 2.0], [4.6, 3.2, 1.4, 0.2, 1.0], [5.3, 3.7, 1.5, 0.2, 2.0], [5.0, 3.3, 1.4, 0.2, 1.0], [7.0, 3.2, 4.7, 1.4, 0.0], [6.4, 3.2, 4.5, 1.5, 0.0], [6.9, 3.1, 4.9, 1.5, 0.0], [5.5, 2.3, 4.0, 1.3, 0.0], [6.5, 2.8, 4.6, 1.5, 0.0], [5.7, 2.8, 4.5, 1.3, 0.0], [6.3, 3.3, 4.7, 1.6, 0.0], [4.9, 2.4, 3.3, 1.0, 0.0], [6.6, 2.9, 4.6, 1.3, 0.0], [5.2, 2.7, 3.9, 1.4, 0.0], [5.0, 2.0, 3.5, 1.0, 0.0], [5.9, 3.0, 4.2, 1.5, 0.0], [6.0, 2.2, 4.0, 1.0, 0.0], [6.1, 2.9, 4.7, 1.4, 0.0], [5.6, 2.9, 3.6, 1.3, 0.0], [6.7, 3.1, 4.4, 1.4, 0.0], [5.6, 3.0, 4.5, 1.5, 0.0], [5.8, 2.7, 4.1, 1.0, 0.0], [6.2, 2.2, 4.5, 1.5, 0.0], [5.6, 2.5, 3.9, 1.1, 0.0], [5.9, 3.2, 4.8, 1.8, 0.0], [6.1, 2.8, 4.0, 1.3, 0.0], [6.3, 2.5, 4.9, 1.5, 0.0], [6.1, 2.8, 4.7, 1.2, 0.0], [6.4, 2.9, 4.3, 1.3, 0.0], [6.6, 3.0, 4.4, 1.4, 0.0], [6.8, 2.8, 4.8, 1.4, 0.0], [6.7, 3.0, 5.0, 1.7, 0.0], [6.0, 2.9, 4.5, 1.5, 0.0], [5.7, 2.6, 3.5, 1.0, 0.0], [5.5, 2.4, 3.8, 1.1, 0.0], [5.5, 2.4, 3.7, 1.0, 0.0], [5.8, 2.7, 3.9, 1.2, 0.0], [6.0, 2.7, 5.1, 1.6, 0.0], [5.4, 3.0, 4.5, 1.5, 0.0], [6.0, 3.4, 4.5, 1.6, 0.0], [6.7, 3.1, 4.7, 1.5, 0.0], [6.3, 2.3, 4.4, 1.3, 0.0], [5.6, 3.0, 4.1, 1.3, 0.0], [5.5, 2.5, 4.0, 1.3, 0.0], [5.5, 2.6, 4.4, 1.2, 0.0], [6.1, 3.0, 4.6, 1.4, 0.0], [5.8, 2.6, 4.0, 1.2, 0.0], [5.0, 2.3, 3.3, 1.0, 0.0], [5.6, 2.7, 4.2, 1.3, 0.0], [5.7, 3.0, 4.2, 1.2, 0.0], [5.7, 2.9, 4.2, 1.3, 0.0], [6.2, 2.9, 4.3, 1.3, 0.0], [5.1, 2.5, 3.0, 1.1, 0.0], [5.7, 2.8, 4.1, 1.3, 0.0], [6.3, 3.3, 6.0, 2.5, 0.0], [5.8, 2.7, 5.1, 1.9, 0.0], [7.1, 3.0, 5.9, 2.1, 0.0], [6.3, 2.9, 5.6, 1.8, 0.0], [6.5, 3.0, 5.8, 2.2, 0.0], [7.6, 3.0, 6.6, 2.1, 0.0], [4.9, 2.5, 4.5, 1.7, 0.0], [7.3, 2.9, 6.3, 1.8, 0.0], [6.7, 2.5, 5.8, 1.8, 0.0], [7.2, 3.6, 6.1, 2.5, 0.0], [6.5, 3.2, 5.1, 2.0, 0.0], [6.4, 2.7, 5.3, 1.9, 0.0], [6.8, 3.0, 5.5, 2.1, 0.0], [5.7, 2.5, 5.0, 2.0, 0.0], [5.8, 2.8, 5.1, 2.4, 0.0], [6.4, 3.2, 5.3, 2.3, 0.0], [6.5, 3.0, 5.5, 1.8, 0.0], [7.7, 3.8, 6.7, 2.2, 0.0], [7.7, 2.6, 6.9, 2.3, 0.0], [6.0, 2.2, 5.0, 1.5, 0.0], [6.9, 3.2, 5.7, 2.3, 0.0], [5.6, 2.8, 4.9, 2.0, 0.0], [7.7, 2.8, 6.7, 2.0, 0.0], [6.3, 2.7, 4.9, 1.8, 0.0], [6.7, 3.3, 5.7, 2.1, 0.0], [7.2, 3.2, 6.0, 1.8, 0.0], [6.2, 2.8, 4.8, 1.8, 0.0], [6.1, 3.0, 4.9, 1.8, 0.0], [6.4, 2.8, 5.6, 2.1, 0.0], [7.2, 3.0, 5.8, 1.6, 0.0], [7.4, 2.8, 6.1, 1.9, 0.0], [7.9, 3.8, 6.4, 2.0, 0.0], [6.4, 2.8, 5.6, 2.2, 0.0], [6.3, 2.8, 5.1, 1.5, 0.0], [6.1, 2.6, 5.6, 1.4, 0.0], [7.7, 3.0, 6.1, 2.3, 0.0], [6.3, 3.4, 5.6, 2.4, 0.0], [6.4, 3.1, 5.5, 1.8, 0.0], [6.0, 3.0, 4.8, 1.8, 0.0], [6.9, 3.1, 5.4, 2.1, 0.0], [6.7, 3.1, 5.6, 2.4, 0.0], [6.9, 3.1, 5.1, 2.3, 0.0], [5.8, 2.7, 5.1, 1.9, 0.0], [6.8, 3.2, 5.9, 2.3, 0.0], [6.7, 3.3, 5.7, 2.5, 0.0], [6.7, 3.0, 5.2, 2.3, 0.0], [6.3, 2.5, 5.0, 1.9, 0.0], [6.5, 3.0, 5.2, 2.0, 0.0], [6.2, 3.4, 5.4, 2.3, 0.0], [5.9, 3.0, 5.1, 1.8, 0.0]]\n"
     ]
    }
   ],
   "source": [
    "%run PythonCUExecutor.py $pcu_cp_file"
   ]
  },
  {
   "cell_type": "markdown",
   "metadata": {},
   "source": [
    "### Run Distance Computation as CU inside Pilot-Job"
   ]
  },
  {
   "cell_type": "code",
   "execution_count": 275,
   "metadata": {
    "collapsed": false
   },
   "outputs": [],
   "source": [
    "data_unit_description = {\"file_urls\": [os.path.join(os.getcwd(), \"PythonCUExecutor.py\"),\n",
    "                                       os.path.join(os.getcwd(), pcu_cp_file)]\n",
    "                         }    \n",
    "data_unit = pilot_data.submit_data_unit(data_unit_description)"
   ]
  },
  {
   "cell_type": "code",
   "execution_count": 302,
   "metadata": {
    "collapsed": false
   },
   "outputs": [],
   "source": [
    "import uuid\n",
    "output_filename=\"stdout-\" + str(uuid.uuid1()) +\".txt\"\n",
    "\n",
    "compute_unit_description = {\n",
    "        \"executable\": os.path.join(os.getcwd(), \"PythonCUExecutor.py\"),\n",
    "        \"arguments\": [os.path.join(os.getcwd(), pcu_cp_file)],\n",
    "        \"number_of_processes\": 1,   \n",
    "        \"input_data\" : [data_unit.get_url()],\n",
    "        \"output_data\": [\n",
    "                            {\n",
    "                             data_unit.get_url(): \n",
    "                             [output_filename]\n",
    "                            }\n",
    "                           ],  \n",
    "        \"output\": \"stdout.txt\",\n",
    "        \"error\": \"stderr.txt\",   \n",
    "}   \n",
    "compute_unit = pilotjob.submit_compute_unit(compute_unit_description)\n",
    "compute_unit.wait()"
   ]
  },
  {
   "cell_type": "code",
   "execution_count": 308,
   "metadata": {
    "collapsed": true
   },
   "outputs": [
    {
     "name": "stdout",
     "output_type": "stream",
     "text": [
      "open ssh://localhost/tmp/pilot-data//du-6461c982-55d4-11e5-970a-44a842265a41/stdout.txt\n",
      "[[ 5.1  3.5  1.4  0.2  1. ]\n",
      " [ 4.9  3.   1.4  0.2  1. ]\n",
      " [ 4.7  3.2  1.3  0.2  1. ]\n",
      " [ 4.6  3.1  1.5  0.2  1. ]\n",
      " [ 5.   3.6  1.4  0.2  1. ]\n",
      " [ 5.4  3.9  1.7  0.4  0. ]\n",
      " [ 4.6  3.4  1.4  0.3  1. ]\n",
      " [ 5.   3.4  1.5  0.2  1. ]\n",
      " [ 4.4  2.9  1.4  0.2  1. ]\n",
      " [ 4.9  3.1  1.5  0.1  1. ]\n",
      " [ 5.4  3.7  1.5  0.2  0. ]\n",
      " [ 4.8  3.4  1.6  0.2  1. ]\n",
      " [ 4.8  3.   1.4  0.1  1. ]\n",
      " [ 4.3  3.   1.1  0.1  1. ]\n",
      " [ 5.8  4.   1.2  0.2  0. ]\n",
      " [ 5.7  4.4  1.5  0.4  0. ]\n",
      " [ 5.4  3.9  1.3  0.4  0. ]\n",
      " [ 5.1  3.5  1.4  0.3  1. ]\n",
      " [ 5.7  3.8  1.7  0.3  0. ]\n",
      " [ 5.1  3.8  1.5  0.3  1. ]\n",
      " [ 5.4  3.4  1.7  0.2  1. ]\n",
      " [ 5.1  3.7  1.5  0.4  1. ]\n",
      " [ 4.6  3.6  1.   0.2  1. ]\n",
      " [ 5.1  3.3  1.7  0.5  1. ]\n",
      " [ 4.8  3.4  1.9  0.2  1. ]\n",
      " [ 5.   3.   1.6  0.2  1. ]\n",
      " [ 5.   3.4  1.6  0.4  1. ]\n",
      " [ 5.2  3.5  1.5  0.2  1. ]\n",
      " [ 5.2  3.4  1.4  0.2  1. ]\n",
      " [ 4.7  3.2  1.6  0.2  1. ]\n",
      " [ 4.8  3.1  1.6  0.2  1. ]\n",
      " [ 5.4  3.4  1.5  0.4  1. ]\n",
      " [ 5.2  4.1  1.5  0.1  0. ]\n",
      " [ 5.5  4.2  1.4  0.2  0. ]\n",
      " [ 4.9  3.1  1.5  0.1  1. ]\n",
      " [ 5.   3.2  1.2  0.2  1. ]\n",
      " [ 5.5  3.5  1.3  0.2  1. ]\n",
      " [ 4.9  3.1  1.5  0.1  1. ]\n",
      " [ 4.4  3.   1.3  0.2  1. ]\n",
      " [ 5.1  3.4  1.5  0.2  1. ]\n",
      " [ 5.   3.5  1.3  0.3  1. ]\n",
      " [ 4.5  2.3  1.3  0.3  1. ]\n",
      " [ 4.4  3.2  1.3  0.2  1. ]\n",
      " [ 5.   3.5  1.6  0.6  1. ]\n",
      " [ 5.1  3.8  1.9  0.4  1. ]\n",
      " [ 4.8  3.   1.4  0.3  1. ]\n",
      " [ 5.1  3.8  1.6  0.2  1. ]\n",
      " [ 4.6  3.2  1.4  0.2  1. ]\n",
      " [ 5.3  3.7  1.5  0.2  1. ]\n",
      " [ 5.   3.3  1.4  0.2  1. ]\n",
      " [ 7.   3.2  4.7  1.4  2. ]\n",
      " [ 6.4  3.2  4.5  1.5  2. ]\n",
      " [ 6.9  3.1  4.9  1.5  2. ]\n",
      " [ 5.5  2.3  4.   1.3  2. ]\n",
      " [ 6.5  2.8  4.6  1.5  2. ]\n",
      " [ 5.7  2.8  4.5  1.3  2. ]\n",
      " [ 6.3  3.3  4.7  1.6  2. ]\n",
      " [ 4.9  2.4  3.3  1.   2. ]\n",
      " [ 6.6  2.9  4.6  1.3  2. ]\n",
      " [ 5.2  2.7  3.9  1.4  2. ]\n",
      " [ 5.   2.   3.5  1.   2. ]\n",
      " [ 5.9  3.   4.2  1.5  2. ]\n",
      " [ 6.   2.2  4.   1.   2. ]\n",
      " [ 6.1  2.9  4.7  1.4  2. ]\n",
      " [ 5.6  2.9  3.6  1.3  2. ]\n",
      " [ 6.7  3.1  4.4  1.4  2. ]\n",
      " [ 5.6  3.   4.5  1.5  2. ]\n",
      " [ 5.8  2.7  4.1  1.   2. ]\n",
      " [ 6.2  2.2  4.5  1.5  2. ]\n",
      " [ 5.6  2.5  3.9  1.1  2. ]\n",
      " [ 5.9  3.2  4.8  1.8  2. ]\n",
      " [ 6.1  2.8  4.   1.3  2. ]\n",
      " [ 6.3  2.5  4.9  1.5  2. ]\n",
      " [ 6.1  2.8  4.7  1.2  2. ]\n",
      " [ 6.4  2.9  4.3  1.3  2. ]\n",
      " [ 6.6  3.   4.4  1.4  2. ]\n",
      " [ 6.8  2.8  4.8  1.4  2. ]\n",
      " [ 6.7  3.   5.   1.7  2. ]\n",
      " [ 6.   2.9  4.5  1.5  2. ]\n",
      " [ 5.7  2.6  3.5  1.   2. ]\n",
      " [ 5.5  2.4  3.8  1.1  2. ]\n",
      " [ 5.5  2.4  3.7  1.   2. ]\n",
      " [ 5.8  2.7  3.9  1.2  2. ]\n",
      " [ 6.   2.7  5.1  1.6  2. ]\n",
      " [ 5.4  3.   4.5  1.5  2. ]\n",
      " [ 6.   3.4  4.5  1.6  2. ]\n",
      " [ 6.7  3.1  4.7  1.5  2. ]\n",
      " [ 6.3  2.3  4.4  1.3  2. ]\n",
      " [ 5.6  3.   4.1  1.3  2. ]\n",
      " [ 5.5  2.5  4.   1.3  2. ]\n",
      " [ 5.5  2.6  4.4  1.2  2. ]\n",
      " [ 6.1  3.   4.6  1.4  2. ]\n",
      " [ 5.8  2.6  4.   1.2  2. ]\n",
      " [ 5.   2.3  3.3  1.   2. ]\n",
      " [ 5.6  2.7  4.2  1.3  2. ]\n",
      " [ 5.7  3.   4.2  1.2  2. ]\n",
      " [ 5.7  2.9  4.2  1.3  2. ]\n",
      " [ 6.2  2.9  4.3  1.3  2. ]\n",
      " [ 5.1  2.5  3.   1.1  1. ]\n",
      " [ 5.7  2.8  4.1  1.3  2. ]\n",
      " [ 6.3  3.3  6.   2.5  2. ]\n",
      " [ 5.8  2.7  5.1  1.9  2. ]\n",
      " [ 7.1  3.   5.9  2.1  2. ]\n",
      " [ 6.3  2.9  5.6  1.8  2. ]\n",
      " [ 6.5  3.   5.8  2.2  2. ]\n",
      " [ 7.6  3.   6.6  2.1  2. ]\n",
      " [ 4.9  2.5  4.5  1.7  2. ]\n",
      " [ 7.3  2.9  6.3  1.8  2. ]\n",
      " [ 6.7  2.5  5.8  1.8  2. ]\n",
      " [ 7.2  3.6  6.1  2.5  2. ]\n",
      " [ 6.5  3.2  5.1  2.   2. ]\n",
      " [ 6.4  2.7  5.3  1.9  2. ]\n",
      " [ 6.8  3.   5.5  2.1  2. ]\n",
      " [ 5.7  2.5  5.   2.   2. ]\n",
      " [ 5.8  2.8  5.1  2.4  2. ]\n",
      " [ 6.4  3.2  5.3  2.3  2. ]\n",
      " [ 6.5  3.   5.5  1.8  2. ]\n",
      " [ 7.7  3.8  6.7  2.2  2. ]\n",
      " [ 7.7  2.6  6.9  2.3  2. ]\n",
      " [ 6.   2.2  5.   1.5  2. ]\n",
      " [ 6.9  3.2  5.7  2.3  2. ]\n",
      " [ 5.6  2.8  4.9  2.   2. ]\n",
      " [ 7.7  2.8  6.7  2.   2. ]\n",
      " [ 6.3  2.7  4.9  1.8  2. ]\n",
      " [ 6.7  3.3  5.7  2.1  2. ]\n",
      " [ 7.2  3.2  6.   1.8  2. ]\n",
      " [ 6.2  2.8  4.8  1.8  2. ]\n",
      " [ 6.1  3.   4.9  1.8  2. ]\n",
      " [ 6.4  2.8  5.6  2.1  2. ]\n",
      " [ 7.2  3.   5.8  1.6  2. ]\n",
      " [ 7.4  2.8  6.1  1.9  2. ]\n",
      " [ 7.9  3.8  6.4  2.   2. ]\n",
      " [ 6.4  2.8  5.6  2.2  2. ]\n",
      " [ 6.3  2.8  5.1  1.5  2. ]\n",
      " [ 6.1  2.6  5.6  1.4  2. ]\n",
      " [ 7.7  3.   6.1  2.3  2. ]\n",
      " [ 6.3  3.4  5.6  2.4  2. ]\n",
      " [ 6.4  3.1  5.5  1.8  2. ]\n",
      " [ 6.   3.   4.8  1.8  2. ]\n",
      " [ 6.9  3.1  5.4  2.1  2. ]\n",
      " [ 6.7  3.1  5.6  2.4  2. ]\n",
      " [ 6.9  3.1  5.1  2.3  2. ]\n",
      " [ 5.8  2.7  5.1  1.9  2. ]\n",
      " [ 6.8  3.2  5.9  2.3  2. ]\n",
      " [ 6.7  3.3  5.7  2.5  2. ]\n",
      " [ 6.7  3.   5.2  2.3  2. ]\n",
      " [ 6.3  2.5  5.   1.9  2. ]\n",
      " [ 6.5  3.   5.2  2.   2. ]\n",
      " [ 6.2  3.4  5.4  2.3  2. ]\n",
      " [ 5.9  3.   5.1  1.8  2. ]]\n",
      "\n"
     ]
    },
    {
     "ename": "SyntaxError",
     "evalue": "invalid syntax (<unknown>, line 1)",
     "output_type": "error",
     "traceback": [
      "\u001b[1;36m  File \u001b[1;32m\"<unknown>\"\u001b[1;36m, line \u001b[1;32m1\u001b[0m\n\u001b[1;33m    [[ 5.1  3.5  1.4  0.2  1. ]\u001b[0m\n\u001b[1;37m              ^\u001b[0m\n\u001b[1;31mSyntaxError\u001b[0m\u001b[1;31m:\u001b[0m invalid syntax\n"
     ]
    }
   ],
   "source": [
    "import urlparse\n",
    "import ast\n",
    "    \n",
    "def get_output(data_unit, output_file):\n",
    "    full_url = pilot_data.url_for_du(data_unit) + \"/stdout.txt\"\n",
    "    print \"open \" + full_url\n",
    "    file_path = urlparse.urlparse(path).path\n",
    "    with open(file_path) as f:\n",
    "        output_data = f.read()\n",
    "    result = ast.literal_eval(output_data)\n",
    "    return result\n",
    "    \n",
    "result = get_output(data_unit, output_filename)"
   ]
  },
  {
   "cell_type": "markdown",
   "metadata": {},
   "source": [
    "### Compute new Centroid Centers"
   ]
  },
  {
   "cell_type": "code",
   "execution_count": 310,
   "metadata": {
    "collapsed": false
   },
   "outputs": [
    {
     "data": {
      "text/plain": [
       "array([[ 5.99512195,  2.81707317,  4.51219512,  1.46097561],\n",
       "       [ 6.76956522,  3.03695652,  5.6       ,  2.00869565],\n",
       "       [ 5.06825397,  3.22063492,  1.92380952,  0.43650794]])"
      ]
     },
     "execution_count": 310,
     "metadata": {},
     "output_type": "execute_result"
    }
   ],
   "source": [
    "reduce(result)"
   ]
  },
  {
   "cell_type": "code",
   "execution_count": 265,
   "metadata": {
    "collapsed": false
   },
   "outputs": [
    {
     "data": {
      "text/plain": [
       "'du-94701d02-55cc-11e5-970a-44a842265a41'"
      ]
     },
     "execution_count": 265,
     "metadata": {},
     "output_type": "execute_result"
    }
   ],
   "source": [
    "data_unit.id"
   ]
  },
  {
   "cell_type": "code",
   "execution_count": 223,
   "metadata": {
    "collapsed": false
   },
   "outputs": [
    {
     "name": "stdout",
     "output_type": "stream",
     "text": [
      "PythonCUExecutor.py\n",
      "PCU-20150908-015412.cloudpickle\n",
      "stdout.txt\n"
     ]
    }
   ],
   "source": [
    "for i in data_unit.list_files():\n",
    "    print i"
   ]
  },
  {
   "cell_type": "code",
   "execution_count": 190,
   "metadata": {
    "collapsed": false
   },
   "outputs": [
    {
     "data": {
      "text/plain": [
       "{'bigjob_id': 'bigjob:bj-569535d4-54f1-11e5-970a-44a842265a41:localhost',\n",
       " 'description': \"{'external_queue': 'PilotComputeServiceQueue-pcs-5695015e-54f1-11e5-970a-44a842265a41', 'service_url': 'fork://localhost', 'coordination_host': 'redis://EiFEvdHRy3mNBZDjsypraXGNQqJcAYKaTnHCZxgqLsykDoKXb@localhost:6379', 'number_of_processes': 1, 'pilot_url': 'bigjob:bj-569535d4-54f1-11e5-970a-44a842265a41:localhost'}\",\n",
       " 'end_queue_time': '1441583124.77',\n",
       " 'last_contact': '1441585987.78',\n",
       " 'nodes': \"['localhost\\\\n']\",\n",
       " 'start_time': '1441583122.11',\n",
       " 'state': 'Running',\n",
       " 'stopped': 'False'}"
      ]
     },
     "execution_count": 190,
     "metadata": {},
     "output_type": "execute_result"
    }
   ],
   "source": [
    "pilotjob.get_details()"
   ]
  },
  {
   "cell_type": "code",
   "execution_count": 217,
   "metadata": {
    "collapsed": false
   },
   "outputs": [
    {
     "data": {
      "text/plain": [
       "{'Arguments': \"['/home/jupyter/supercomputing-2015/supercomputing2015-tutorial/03_kmeans/PCU-20150907-000335.cloudpickle']\",\n",
       " 'Error': 'stderr.txt',\n",
       " 'Executable': '/home/jupyter/supercomputing-2015/supercomputing2015-tutorial/03_kmeans/PythonCUExecutor.py',\n",
       " 'InputData': \"['redis://localhost/bigdata:du-94701d02-55cc-11e5-970a-44a842265a41']\",\n",
       " 'NumberOfProcesses': '1',\n",
       " 'Output': 'stdout.txt',\n",
       " 'OutputData': \"[{'redis://localhost/bigdata:du-94701d02-55cc-11e5-970a-44a842265a41': ['stdout.txt']}]\",\n",
       " 'SPMDVariation': 'single',\n",
       " 'agent_start_time': '1441677192.27',\n",
       " 'end_queue_time': '1441677288.44',\n",
       " 'end_time': '1441677294.5',\n",
       " 'job-id': 'sj-94d8fe08-55cc-11e5-970a-44a842265a41',\n",
       " 'run_host': 'radical-5',\n",
       " 'start_staging_time': '1441677287.07',\n",
       " 'start_time': '1441677286.36',\n",
       " 'state': 'Done'}"
      ]
     },
     "execution_count": 217,
     "metadata": {},
     "output_type": "execute_result"
    }
   ],
   "source": [
    "compute_unit.get_details()"
   ]
  },
  {
   "cell_type": "code",
   "execution_count": null,
   "metadata": {
    "collapsed": true
   },
   "outputs": [],
   "source": []
  }
 ],
 "metadata": {
  "kernelspec": {
   "display_name": "Python 2",
   "language": "python",
   "name": "python2"
  },
  "language_info": {
   "codemirror_mode": {
    "name": "ipython",
    "version": 2
   },
   "file_extension": ".py",
   "mimetype": "text/x-python",
   "name": "python",
   "nbconvert_exporter": "python",
   "pygments_lexer": "ipython2",
   "version": "2.7.10"
  }
 },
 "nbformat": 4,
 "nbformat_minor": 0
}
