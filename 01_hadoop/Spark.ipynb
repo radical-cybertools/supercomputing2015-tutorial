{
 "cells": [
  {
   "cell_type": "markdown",
   "metadata": {},
   "source": [
    "# Spark Introduction\n",
    "\n",
    "This example shows how the Pilot-Abstraction is used to spawn a Spark job inside of YARN. We show how to combine the Pilot and Spark programming modelling using several examples.\n",
    "\n",
    "\n",
    "   - Spark Documentation: <http://spark.apache.org/docs/latest/>\n",
    "   - Pilot-Spark: <https://pypi.python.org/pypi/SAGA-Hadoop/>\n",
    "\n",
    "\n",
    "## 1. Initialize Spark\n",
    "\n",
    "The following codes show how the Pilot-Abstraction is used to connect to an existing YARN cluster and start Spark."
   ]
  },
  {
   "cell_type": "code",
   "execution_count": 14,
   "metadata": {
    "collapsed": false
   },
   "outputs": [
    {
     "name": "stdout",
     "output_type": "stream",
     "text": [
      "SPARK HOME: /usr/hdp/2.3.2.0-2950/spark-1.5.1-bin-hadoop2.6\n",
      "PYTHONPATH: /usr/hdp/2.3.2.0-2950/spark-1.5.1-bin-hadoop2.6/python:/usr/hdp/2.3.2.0-2950/spark-1.5.1-bin-hadoop2.6/python/lib/py4j-0.8.2.1-src.zip\n"
     ]
    }
   ],
   "source": [
    "%matplotlib inline\n",
    "%run ../env.py\n",
    "%run ../util/init_spark.py\n",
    "\n",
    "from pilot_hadoop import PilotComputeService as PilotSparkComputeService\n",
    "\n",
    "pilotcompute_description = {\n",
    "    \"service_url\": \"yarn-client://yarn-aws.radical-cybertools.org\",\n",
    "    \"number_of_processes\": 2\n",
    "}\n",
    "\n",
    "print \"SPARK HOME: %s\"%os.environ[\"SPARK_HOME\"]\n",
    "print \"PYTHONPATH: %s\"%os.environ[\"PYTHONPATH\"]\n",
    "\n",
    "pilot_spark = PilotSparkComputeService.create_pilot(pilotcompute_description=pilotcompute_description)\n",
    "sc = pilot_spark.get_spark_context()"
   ]
  },
  {
   "cell_type": "markdown",
   "metadata": {},
   "source": [
    "After the Spark application has been submitted it can be monitored via the YARN web interface: <http://yarn-aws.radical-cybertools.org:8088/>. The following commands prints out the Spark application currently running in YARN"
   ]
  },
  {
   "cell_type": "code",
   "execution_count": 15,
   "metadata": {
    "collapsed": false
   },
   "outputs": [
    {
     "data": {
      "text/html": [
       "<table border=\"1\" class=\"dataframe\">\n",
       "  <thead>\n",
       "    <tr style=\"text-align: right;\">\n",
       "      <th></th>\n",
       "      <th>User</th>\n",
       "      <th>Name</th>\n",
       "      <th>Spark Application URL</th>\n",
       "    </tr>\n",
       "  </thead>\n",
       "  <tbody>\n",
       "    <tr>\n",
       "      <th>0</th>\n",
       "      <td>radical</td>\n",
       "      <td>Pilot-Spark</td>\n",
       "      <td><a target=blank href='http://yarn-aws.radical-cybertools.org:8088/proxy/application_1447000128355_0770'>http://yarn-aws.radical-cybertools.org:8088/proxy/application_1447000128355_0770</a></td>\n",
       "    </tr>\n",
       "  </tbody>\n",
       "</table>"
      ],
      "text/plain": [
       "<IPython.core.display.HTML object>"
      ]
     },
     "execution_count": 15,
     "metadata": {},
     "output_type": "execute_result"
    }
   ],
   "source": [
    "output=!yarn application -list -appTypes Spark -appStates RUNNING\n",
    "print_application_url(output)"
   ]
  },
  {
   "cell_type": "markdown",
   "metadata": {},
   "source": [
    "## 2. Spark: Hello RDD Abstraction\n",
    "\n",
    "The RDD Abstraction builts on the popular MapReduce programming model and extends it by supporting a greater variety of transformations!\n",
    "\n",
    "Here we will use Spark to analyze the NASA log file (that we encountered earlier).\n",
    "\n",
    "**Line Count:** How many lines of logs do we have?"
   ]
  },
  {
   "cell_type": "code",
   "execution_count": 16,
   "metadata": {
    "collapsed": false
   },
   "outputs": [
    {
     "data": {
      "text/plain": [
       "1891715"
      ]
     },
     "execution_count": 16,
     "metadata": {},
     "output_type": "execute_result"
    }
   ],
   "source": [
    "text_rdd = sc.textFile(\"/data/nasa/\")\n",
    "text_rdd.count()"
   ]
  },
  {
   "cell_type": "markdown",
   "metadata": {},
   "source": [
    "**Word Count:** How many words?"
   ]
  },
  {
   "cell_type": "code",
   "execution_count": 17,
   "metadata": {
    "collapsed": false
   },
   "outputs": [
    {
     "data": {
      "text/plain": [
       "[(u'', 2817),\n",
       " (u'[13/Jul/1995:17:48:56', 1),\n",
       " (u'[07/Jul/1995:18:18:55', 1),\n",
       " (u'[03/Jul/1995:02:03:49', 1),\n",
       " (u'[17/Jul/1995:16:23:45', 1),\n",
       " (u'[07/Jul/1995:18:18:51', 1),\n",
       " (u'[22/Jul/1995:12:10:41', 1),\n",
       " (u'204.97.67.23', 15),\n",
       " (u'[03/Jul/1995:02:03:47', 2),\n",
       " (u'[16/Jul/1995:14:34:31', 1)]"
      ]
     },
     "execution_count": 17,
     "metadata": {},
     "output_type": "execute_result"
    }
   ],
   "source": [
    "text_rdd.flatMap(lambda line: line.split(\" \")).map(lambda word: (word, 1)).reduceByKey(lambda x,y: x+y).take(10)"
   ]
  },
  {
   "cell_type": "markdown",
   "metadata": {},
   "source": [
    "**HTTP Response Code Count:** How many HTTP errors did we observe?"
   ]
  },
  {
   "cell_type": "code",
   "execution_count": 18,
   "metadata": {
    "collapsed": false
   },
   "outputs": [
    {
     "data": {
      "text/plain": [
       "[(u'403', 54),\n",
       " (u'302', 46573),\n",
       " (u'304', 132627),\n",
       " (u'500', 62),\n",
       " (u'501', 14),\n",
       " (u'200', 1701534),\n",
       " (u'404', 10845),\n",
       " (u'400', 5)]"
      ]
     },
     "execution_count": 18,
     "metadata": {},
     "output_type": "execute_result"
    }
   ],
   "source": [
    "text_rdd = sc.textFile(\"/data/nasa/\")\n",
    "text_rdd.filter(lambda x: len(x)>8).map(lambda x: (x.split()[-2],1)).reduceByKey(lambda x,y: x+y).collect()"
   ]
  },
  {
   "cell_type": "markdown",
   "metadata": {},
   "source": [
    "---\n",
    "Compare the lines of code that were needed to perform the same functionality using MapReduce versus Spark. Which is more?"
   ]
  },
  {
   "cell_type": "markdown",
   "metadata": {},
   "source": [
    "## 3. Spark-SQL\n",
    "\n",
    "[Dataframes](http://spark.apache.org/docs/latest/sql-programming-guide.html) are an abstraction that allows high-level reasoning on structured data. Data can easily be filtered, aggregated and combined using DataFrames. DataFrames can also be used for machine learning tasks."
   ]
  },
  {
   "cell_type": "markdown",
   "metadata": {},
   "source": [
    "In the following commands, we are transforming unstructured log data into a structured DataFrame consisting of three columns: referer, timestamp and response code. We then sample and view the data."
   ]
  },
  {
   "cell_type": "code",
   "execution_count": 19,
   "metadata": {
    "collapsed": false
   },
   "outputs": [],
   "source": [
    "from pyspark.sql import SQLContext, Row\n",
    "sqlContext = SQLContext(sc)\n",
    "text_filtered = text_rdd.filter(lambda x: len(x)>8)\n",
    "logs = text_filtered.top(20)\n",
    "cleaned = text_filtered.map(lambda l: (l.split(\" \")[0], l.split(\" \")[3][1:], l.split(\" \")[6], l.split(\" \")[-2]))\n",
    "rows = cleaned.map(lambda l: Row(referer=l[0], ts=l[1], response_code=l[3]))\n",
    "schemaLog = sqlContext.createDataFrame(rows)\n",
    "schemaLog.registerTempTable(\"row\")"
   ]
  },
  {
   "cell_type": "code",
   "execution_count": 20,
   "metadata": {
    "collapsed": false
   },
   "outputs": [
    {
     "name": "stdout",
     "output_type": "stream",
     "text": [
      "+--------------------+-------------+--------------------+\n",
      "|             referer|response_code|                  ts|\n",
      "+--------------------+-------------+--------------------+\n",
      "|        199.72.81.55|          200|01/Jul/1995:00:00:01|\n",
      "|unicomp6.unicomp.net|          200|01/Jul/1995:00:00:06|\n",
      "|      199.120.110.21|          200|01/Jul/1995:00:00:09|\n",
      "|  burger.letters.com|          304|01/Jul/1995:00:00:11|\n",
      "|      199.120.110.21|          200|01/Jul/1995:00:00:11|\n",
      "|  burger.letters.com|          304|01/Jul/1995:00:00:12|\n",
      "|  burger.letters.com|          200|01/Jul/1995:00:00:12|\n",
      "|     205.212.115.106|          200|01/Jul/1995:00:00:12|\n",
      "|         d104.aa.net|          200|01/Jul/1995:00:00:13|\n",
      "|      129.94.144.152|          200|01/Jul/1995:00:00:13|\n",
      "|unicomp6.unicomp.net|          200|01/Jul/1995:00:00:14|\n",
      "|unicomp6.unicomp.net|          200|01/Jul/1995:00:00:14|\n",
      "|unicomp6.unicomp.net|          200|01/Jul/1995:00:00:14|\n",
      "|         d104.aa.net|          200|01/Jul/1995:00:00:15|\n",
      "|         d104.aa.net|          200|01/Jul/1995:00:00:15|\n",
      "|         d104.aa.net|          200|01/Jul/1995:00:00:15|\n",
      "|      129.94.144.152|          304|01/Jul/1995:00:00:17|\n",
      "|      199.120.110.21|          200|01/Jul/1995:00:00:17|\n",
      "|ppptky391.asahi-n...|          200|01/Jul/1995:00:00:18|\n",
      "|  net-1-141.eden.com|          200|01/Jul/1995:00:00:19|\n",
      "+--------------------+-------------+--------------------+\n",
      "only showing top 20 rows\n",
      "\n"
     ]
    }
   ],
   "source": [
    "schemaLog.show()"
   ]
  },
  {
   "cell_type": "code",
   "execution_count": 21,
   "metadata": {
    "collapsed": false
   },
   "outputs": [],
   "source": [
    "df=sqlContext.sql(\"select response_code, count(*) as count from row group by response_code\")"
   ]
  },
  {
   "cell_type": "code",
   "execution_count": 22,
   "metadata": {
    "collapsed": false
   },
   "outputs": [
    {
     "name": "stdout",
     "output_type": "stream",
     "text": [
      "+-------------+-------+\n",
      "|response_code|  count|\n",
      "+-------------+-------+\n",
      "|          500|     62|\n",
      "|          501|     14|\n",
      "|          400|      5|\n",
      "|          403|     54|\n",
      "|          404|  10845|\n",
      "|          302|  46573|\n",
      "|          304| 132627|\n",
      "|          200|1701534|\n",
      "+-------------+-------+\n",
      "\n"
     ]
    }
   ],
   "source": [
    "df.show()"
   ]
  },
  {
   "cell_type": "markdown",
   "metadata": {},
   "source": [
    "---\n",
    "Spark Dataframes interoperate with Pandas Dataframes. Small data can be further processed using [Pandas](http://pandas.pydata.org/) and Python tools, e.g. [Matplotlib ](http://matplotlib.org/) and [Bokeh](http://bokeh.pydata.org/) for plotting."
   ]
  },
  {
   "cell_type": "code",
   "execution_count": 23,
   "metadata": {
    "collapsed": false
   },
   "outputs": [],
   "source": [
    "pdf=df.toPandas()"
   ]
  },
  {
   "cell_type": "code",
   "execution_count": 24,
   "metadata": {
    "collapsed": false
   },
   "outputs": [
    {
     "data": {
      "text/plain": [
       "<matplotlib.axes._subplots.AxesSubplot at 0x7f69400a90d0>"
      ]
     },
     "execution_count": 24,
     "metadata": {},
     "output_type": "execute_result"
    },
    {
     "data": {
      "image/png": "[encoded data removed]",
      "text/plain": [
       "<matplotlib.figure.Figure at 0x7f693d9311d0>"
      ]
     },
     "metadata": {},
     "output_type": "display_data"
    }
   ],
   "source": [
    "%matplotlib inline\n",
    "pdf['count']=pdf['count']/1000\n",
    "pdf.plot(x='response_code', y='count', kind='barh')"
   ]
  },
  {
   "cell_type": "markdown",
   "metadata": {},
   "source": [
    "## 4. Stop Pilot-Spark Application"
   ]
  },
  {
   "cell_type": "code",
   "execution_count": 25,
   "metadata": {
    "collapsed": true
   },
   "outputs": [],
   "source": [
    "pilot_spark.cancel()"
   ]
  },
  {
   "cell_type": "markdown",
   "metadata": {},
   "source": [
    "## 5. Installation Notes\n",
    "\n",
    "Pilot-Spark is part of [SAGA-Hadoop](https://pypi.python.org/pypi/SAGA-Hadoop/)\n",
    "\n",
    "    pip install saga-hadoop"
   ]
  }
 ],
 "metadata": {
  "kernelspec": {
   "display_name": "Python 2",
   "language": "python",
   "name": "python2"
  },
  "language_info": {
   "codemirror_mode": {
    "name": "ipython",
    "version": 2
   },
   "file_extension": ".py",
   "mimetype": "text/x-python",
   "name": "python",
   "nbconvert_exporter": "python",
   "pygments_lexer": "ipython2",
   "version": "2.7.10"
  }
 },
 "nbformat": 4,
 "nbformat_minor": 0
}
