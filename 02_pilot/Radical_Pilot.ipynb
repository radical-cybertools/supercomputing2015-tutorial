{
 "cells": [
  {
   "cell_type": "markdown",
   "metadata": {},
   "source": [
    "# Radical Pilot Tutorial\n",
    "\n",
    "Utilize the example below to familiarize yourself with Radical-Pilot.\n",
    "\n",
    "* Adapt settings and username \n",
    "* Modify the example to print out the hostname of the machine that runs the Pilot\n",
    "\n",
    "\n",
    "## 1. Installation and Configuration\n",
    "\n",
    "Not required on <http://sc15-aws.radical-cybertools.org/>\n",
    "\n",
    "If you want to install Radical-Pilot locally (Not needed on Cloud):\n",
    "\n",
    "    pip install radical.pilot\n",
    "    pip install radical.utils"
   ]
  },
  {
   "cell_type": "code",
   "execution_count": 3,
   "metadata": {
    "collapsed": false
   },
   "outputs": [
    {
     "name": "stdout",
     "output_type": "stream",
     "text": [
      "v0.37.10-120-ga0fbbe3@tutorial-sc15\r\n"
     ]
    }
   ],
   "source": [
    "!/opt/anaconda/bin/radicalpilot-version"
   ]
  },
  {
   "cell_type": "markdown",
   "metadata": {},
   "source": [
    "    \n",
    "## 2. Radical Pilot Setup\n",
    "\n",
    "Import dependency and create callbacks for state update\n",
    "\n",
    "Documentation: http://radicalpilot.readthedocs.org/en/latest/machconf.html#preconfigured-resources"
   ]
  },
  {
   "cell_type": "code",
   "execution_count": 4,
   "metadata": {
    "collapsed": false
   },
   "outputs": [],
   "source": [
    "import os, sys\n",
    "import commands\n",
    "import radical.pilot as rp\n",
    "import pandas as pd\n",
    "import ast\n",
    "os.environ[\"RADICAL_PILOT_DBURL\"]=\"mongodb://ec2-54-221-194-147.compute-1.amazonaws.com:24242/sc15-test000\"\n",
    "os.environ[\"RADICAL_PILOT_VERBOSE\"]=\"DEBUG\"\n",
    "\n",
    "def print_details(detail_object):\n",
    "    if type(detail_object)==str:\n",
    "        detail_object = ast.literal_eval(detail_object)\n",
    "    for i in detail_object:\n",
    "        detail_object[i]=str(detail_object[i])\n",
    "    return pd.DataFrame(detail_object.values(), \n",
    "             index=detail_object.keys(), \n",
    "             columns=[\"Value\"])"
   ]
  },
  {
   "cell_type": "markdown",
   "metadata": {},
   "source": [
    "## 3. Local Pilot Example\n",
    "\n",
    "### 3.1 Create a new Session and Pilot-Manager. "
   ]
  },
  {
   "cell_type": "code",
   "execution_count": 30,
   "metadata": {
    "collapsed": false
   },
   "outputs": [
    {
     "name": "stdout",
     "output_type": "stream",
     "text": [
      "Session id: rp.session.ip-10-99-194-113.radical.016747.0008 Pilot Manager: {'uid': 'pmgr.0005'}\n"
     ]
    }
   ],
   "source": [
    "session = rp.Session()\n",
    "c = rp.Context('ssh')\n",
    "c.user_id = \"radical\"\n",
    "session.add_context(c)\n",
    "pmgr = rp.PilotManager(session=session)\n",
    "umgr = rp.UnitManager (session=session,\n",
    "                       scheduler=rp.SCHED_DIRECT_SUBMISSION)\n",
    "print \"Session id: %s Pilot Manager: %s\" % (session.uid, str(pmgr.as_dict()))"
   ]
  },
  {
   "cell_type": "code",
   "execution_count": 31,
   "metadata": {
    "collapsed": false
   },
   "outputs": [
    {
     "data": {
      "text/html": [
       "<div>\n",
       "<table border=\"1\" class=\"dataframe\">\n",
       "  <thead>\n",
       "    <tr style=\"text-align: right;\">\n",
       "      <th></th>\n",
       "      <th>Value</th>\n",
       "    </tr>\n",
       "  </thead>\n",
       "  <tbody>\n",
       "    <tr>\n",
       "      <th>uid</th>\n",
       "      <td>umgr.0005</td>\n",
       "    </tr>\n",
       "    <tr>\n",
       "      <th>scheduler</th>\n",
       "      <td>DirectSubmissionScheduler</td>\n",
       "    </tr>\n",
       "    <tr>\n",
       "      <th>scheduler_details</th>\n",
       "      <td>NO SCHEDULER DETAILS (Not Implemented)</td>\n",
       "    </tr>\n",
       "  </tbody>\n",
       "</table>\n",
       "</div>"
      ],
      "text/plain": [
       "                                                    Value\n",
       "uid                                             umgr.0005\n",
       "scheduler                       DirectSubmissionScheduler\n",
       "scheduler_details  NO SCHEDULER DETAILS (Not Implemented)"
      ]
     },
     "execution_count": 31,
     "metadata": {},
     "output_type": "execute_result"
    }
   ],
   "source": [
    "print_details(umgr.as_dict())"
   ]
  },
  {
   "cell_type": "markdown",
   "metadata": {},
   "source": [
    "### 3.2 Submit Pilot and add to Unit Manager"
   ]
  },
  {
   "cell_type": "code",
   "execution_count": 4,
   "metadata": {
    "collapsed": false
   },
   "outputs": [],
   "source": [
    "pdesc = rp.ComputePilotDescription ()\n",
    "pdesc.resource = \"local.localhost_anaconda\"  # NOTE: This is a \"label\", not a hostname\n",
    "pdesc.runtime  = 10 # minutes\n",
    "pdesc.cores    = 16\n",
    "pdesc.cleanup  = False\n",
    "pilot = pmgr.submit_pilots(pdesc)\n",
    "umgr.add_pilots(pilot)"
   ]
  },
  {
   "cell_type": "code",
   "execution_count": 5,
   "metadata": {
    "collapsed": false
   },
   "outputs": [
    {
     "data": {
      "text/html": [
       "<div>\n",
       "<table border=\"1\" class=\"dataframe\">\n",
       "  <thead>\n",
       "    <tr style=\"text-align: right;\">\n",
       "      <th></th>\n",
       "      <th>Value</th>\n",
       "    </tr>\n",
       "  </thead>\n",
       "  <tbody>\n",
       "    <tr>\n",
       "      <th>uid</th>\n",
       "      <td>pilot.0000</td>\n",
       "    </tr>\n",
       "    <tr>\n",
       "      <th>stdout</th>\n",
       "      <td>None</td>\n",
       "    </tr>\n",
       "    <tr>\n",
       "      <th>start_time</th>\n",
       "      <td>None</td>\n",
       "    </tr>\n",
       "    <tr>\n",
       "      <th>resource_detail</th>\n",
       "      <td>{'cores_per_node': None, 'nodes': None}</td>\n",
       "    </tr>\n",
       "    <tr>\n",
       "      <th>submission_time</th>\n",
       "      <td>1446944564.85</td>\n",
       "    </tr>\n",
       "    <tr>\n",
       "      <th>logfile</th>\n",
       "      <td>None</td>\n",
       "    </tr>\n",
       "    <tr>\n",
       "      <th>resource</th>\n",
       "      <td>local.localhost_anaconda</td>\n",
       "    </tr>\n",
       "    <tr>\n",
       "      <th>log</th>\n",
       "      <td>[]</td>\n",
       "    </tr>\n",
       "    <tr>\n",
       "      <th>sandbox</th>\n",
       "      <td>file://localhost/home/radical/radical.pilot.sa...</td>\n",
       "    </tr>\n",
       "    <tr>\n",
       "      <th>state</th>\n",
       "      <td>PendingLaunch</td>\n",
       "    </tr>\n",
       "    <tr>\n",
       "      <th>stop_time</th>\n",
       "      <td>None</td>\n",
       "    </tr>\n",
       "    <tr>\n",
       "      <th>stderr</th>\n",
       "      <td>None</td>\n",
       "    </tr>\n",
       "  </tbody>\n",
       "</table>\n",
       "</div>"
      ],
      "text/plain": [
       "                                                             Value\n",
       "uid                                                     pilot.0000\n",
       "stdout                                                        None\n",
       "start_time                                                    None\n",
       "resource_detail            {'cores_per_node': None, 'nodes': None}\n",
       "submission_time                                      1446944564.85\n",
       "logfile                                                       None\n",
       "resource                                  local.localhost_anaconda\n",
       "log                                                             []\n",
       "sandbox          file://localhost/home/radical/radical.pilot.sa...\n",
       "state                                                PendingLaunch\n",
       "stop_time                                                     None\n",
       "stderr                                                        None"
      ]
     },
     "execution_count": 5,
     "metadata": {},
     "output_type": "execute_result"
    }
   ],
   "source": [
    "print_details(pilot.as_dict())"
   ]
  },
  {
   "cell_type": "markdown",
   "metadata": {},
   "source": [
    "### 3.3 Submit Compute Units\n",
    "\n",
    "Create a description of the compute unit, which specifies the details on the executed task."
   ]
  },
  {
   "cell_type": "code",
   "execution_count": 6,
   "metadata": {
    "collapsed": false
   },
   "outputs": [
    {
     "data": {
      "text/html": [
       "<div>\n",
       "<table border=\"1\" class=\"dataframe\">\n",
       "  <thead>\n",
       "    <tr style=\"text-align: right;\">\n",
       "      <th></th>\n",
       "      <th>Value</th>\n",
       "    </tr>\n",
       "  </thead>\n",
       "  <tbody>\n",
       "    <tr>\n",
       "      <th>kernel</th>\n",
       "      <td>None</td>\n",
       "    </tr>\n",
       "    <tr>\n",
       "      <th>executable</th>\n",
       "      <td>/bin/echo</td>\n",
       "    </tr>\n",
       "    <tr>\n",
       "      <th>name</th>\n",
       "      <td>None</td>\n",
       "    </tr>\n",
       "    <tr>\n",
       "      <th>restartable</th>\n",
       "      <td>False</td>\n",
       "    </tr>\n",
       "    <tr>\n",
       "      <th>output_staging</th>\n",
       "      <td>None</td>\n",
       "    </tr>\n",
       "    <tr>\n",
       "      <th>stdout</th>\n",
       "      <td>None</td>\n",
       "    </tr>\n",
       "    <tr>\n",
       "      <th>pre_exec</th>\n",
       "      <td>None</td>\n",
       "    </tr>\n",
       "    <tr>\n",
       "      <th>mpi</th>\n",
       "      <td>False</td>\n",
       "    </tr>\n",
       "    <tr>\n",
       "      <th>environment</th>\n",
       "      <td>{'CU_NO': 1}</td>\n",
       "    </tr>\n",
       "    <tr>\n",
       "      <th>cleanup</th>\n",
       "      <td>False</td>\n",
       "    </tr>\n",
       "    <tr>\n",
       "      <th>arguments</th>\n",
       "      <td>['I am CU number $CU_NO']</td>\n",
       "    </tr>\n",
       "    <tr>\n",
       "      <th>stderr</th>\n",
       "      <td>None</td>\n",
       "    </tr>\n",
       "    <tr>\n",
       "      <th>cores</th>\n",
       "      <td>1</td>\n",
       "    </tr>\n",
       "    <tr>\n",
       "      <th>post_exec</th>\n",
       "      <td>None</td>\n",
       "    </tr>\n",
       "    <tr>\n",
       "      <th>input_staging</th>\n",
       "      <td>None</td>\n",
       "    </tr>\n",
       "  </tbody>\n",
       "</table>\n",
       "</div>"
      ],
      "text/plain": [
       "                                    Value\n",
       "kernel                               None\n",
       "executable                      /bin/echo\n",
       "name                                 None\n",
       "restartable                         False\n",
       "output_staging                       None\n",
       "stdout                               None\n",
       "pre_exec                             None\n",
       "mpi                                 False\n",
       "environment                  {'CU_NO': 1}\n",
       "cleanup                             False\n",
       "arguments       ['I am CU number $CU_NO']\n",
       "stderr                               None\n",
       "cores                                   1\n",
       "post_exec                            None\n",
       "input_staging                        None"
      ]
     },
     "execution_count": 6,
     "metadata": {},
     "output_type": "execute_result"
    }
   ],
   "source": [
    "cudesc = rp.ComputeUnitDescription()\n",
    "cudesc.environment = {'CU_NO': 1}\n",
    "cudesc.executable  = \"/bin/echo\"\n",
    "cudesc.arguments   = ['I am CU number $CU_NO']\n",
    "cudesc.cores       = 1\n",
    "print_details(cudesc.as_dict())"
   ]
  },
  {
   "cell_type": "markdown",
   "metadata": {},
   "source": [
    "Submit the previously created ComputeUnit descriptions to the PilotManager. This will trigger the selected scheduler to start assigning ComputeUnits to the ComputePilots."
   ]
  },
  {
   "cell_type": "code",
   "execution_count": 18,
   "metadata": {
    "collapsed": false
   },
   "outputs": [
    {
     "name": "stdout",
     "output_type": "stream",
     "text": [
      "Submit Compute Units to Unit Manager ...\n",
      "Waiting for CUs to complete ...\n",
      "All CUs completed successfully!\n"
     ]
    }
   ],
   "source": [
    "print \"Submit Compute Units to Unit Manager ...\"\n",
    "cu_set = umgr.submit_units([cudesc])\n",
    "print \"Waiting for CUs to complete ...\"\n",
    "umgr.wait_units()\n",
    "print \"All CUs completed successfully!\"\n",
    "cu_results = cu_set[0]\n",
    "details=cu_results.as_dict()"
   ]
  },
  {
   "cell_type": "code",
   "execution_count": 8,
   "metadata": {
    "collapsed": false
   },
   "outputs": [
    {
     "data": {
      "text/html": [
       "<div>\n",
       "<table border=\"1\" class=\"dataframe\">\n",
       "  <thead>\n",
       "    <tr style=\"text-align: right;\">\n",
       "      <th></th>\n",
       "      <th>Value</th>\n",
       "    </tr>\n",
       "  </thead>\n",
       "  <tbody>\n",
       "    <tr>\n",
       "      <th>log</th>\n",
       "      <td>[&lt;radical.pilot.logentry.Logentry object at 0x...</td>\n",
       "    </tr>\n",
       "    <tr>\n",
       "      <th>state</th>\n",
       "      <td>Done</td>\n",
       "    </tr>\n",
       "    <tr>\n",
       "      <th>working_directory</th>\n",
       "      <td>file://localhost/home/radical/radical.pilot.sa...</td>\n",
       "    </tr>\n",
       "    <tr>\n",
       "      <th>uid</th>\n",
       "      <td>unit.000000</td>\n",
       "    </tr>\n",
       "    <tr>\n",
       "      <th>submission_time</th>\n",
       "      <td>1446944569.94</td>\n",
       "    </tr>\n",
       "    <tr>\n",
       "      <th>execution_details</th>\n",
       "      <td>{u'control': u'umgr', u'stdout': u'I am CU num...</td>\n",
       "    </tr>\n",
       "    <tr>\n",
       "      <th>stop_time</th>\n",
       "      <td>None</td>\n",
       "    </tr>\n",
       "    <tr>\n",
       "      <th>start_time</th>\n",
       "      <td>None</td>\n",
       "    </tr>\n",
       "    <tr>\n",
       "      <th>exit_code</th>\n",
       "      <td>0</td>\n",
       "    </tr>\n",
       "    <tr>\n",
       "      <th>name</th>\n",
       "      <td>None</td>\n",
       "    </tr>\n",
       "  </tbody>\n",
       "</table>\n",
       "</div>"
      ],
      "text/plain": [
       "                                                               Value\n",
       "log                [<radical.pilot.logentry.Logentry object at 0x...\n",
       "state                                                           Done\n",
       "working_directory  file://localhost/home/radical/radical.pilot.sa...\n",
       "uid                                                      unit.000000\n",
       "submission_time                                        1446944569.94\n",
       "execution_details  {u'control': u'umgr', u'stdout': u'I am CU num...\n",
       "stop_time                                                       None\n",
       "start_time                                                      None\n",
       "exit_code                                                          0\n",
       "name                                                            None"
      ]
     },
     "execution_count": 8,
     "metadata": {},
     "output_type": "execute_result"
    }
   ],
   "source": [
    "print_details(details)"
   ]
  },
  {
   "cell_type": "code",
   "execution_count": 16,
   "metadata": {
    "collapsed": false
   },
   "outputs": [
    {
     "data": {
      "text/html": [
       "<div>\n",
       "<table border=\"1\" class=\"dataframe\">\n",
       "  <thead>\n",
       "    <tr style=\"text-align: right;\">\n",
       "      <th></th>\n",
       "      <th>Value</th>\n",
       "    </tr>\n",
       "  </thead>\n",
       "  <tbody>\n",
       "    <tr>\n",
       "      <th>control</th>\n",
       "      <td>umgr</td>\n",
       "    </tr>\n",
       "    <tr>\n",
       "      <th>stdout</th>\n",
       "      <td>I am CU number 1\\n</td>\n",
       "    </tr>\n",
       "    <tr>\n",
       "      <th>callbackhistory</th>\n",
       "      <td>[{u'timestamp': 1446944570.592726, u'state': u...</td>\n",
       "    </tr>\n",
       "    <tr>\n",
       "      <th>Agent_Output_Directives</th>\n",
       "      <td>[]</td>\n",
       "    </tr>\n",
       "    <tr>\n",
       "      <th>Agent_Output_Status</th>\n",
       "      <td>None</td>\n",
       "    </tr>\n",
       "    <tr>\n",
       "      <th>Agent_Input_Status</th>\n",
       "      <td>None</td>\n",
       "    </tr>\n",
       "    <tr>\n",
       "      <th>exec_locs</th>\n",
       "      <td>None</td>\n",
       "    </tr>\n",
       "    <tr>\n",
       "      <th>FTW_Input_Directives</th>\n",
       "      <td>[]</td>\n",
       "    </tr>\n",
       "    <tr>\n",
       "      <th>log</th>\n",
       "      <td>[{u'timestamp': 1446944569.959054, u'message':...</td>\n",
       "    </tr>\n",
       "    <tr>\n",
       "      <th>exit_code</th>\n",
       "      <td>0</td>\n",
       "    </tr>\n",
       "    <tr>\n",
       "      <th>FTW_Input_Status</th>\n",
       "      <td>None</td>\n",
       "    </tr>\n",
       "    <tr>\n",
       "      <th>state</th>\n",
       "      <td>Done</td>\n",
       "    </tr>\n",
       "    <tr>\n",
       "      <th>unitmanager</th>\n",
       "      <td>umgr.0000</td>\n",
       "    </tr>\n",
       "    <tr>\n",
       "      <th>statehistory</th>\n",
       "      <td>[{u'timestamp': 1446944569.943781, u'state': u...</td>\n",
       "    </tr>\n",
       "    <tr>\n",
       "      <th>FTW_Output_Directives</th>\n",
       "      <td>[]</td>\n",
       "    </tr>\n",
       "    <tr>\n",
       "      <th>pilot_sandbox</th>\n",
       "      <td>file://localhost/home/radical/radical.pilot.sa...</td>\n",
       "    </tr>\n",
       "    <tr>\n",
       "      <th>description</th>\n",
       "      <td>{u'kernel': None, u'executable': u'/bin/echo',...</td>\n",
       "    </tr>\n",
       "    <tr>\n",
       "      <th>restartable</th>\n",
       "      <td>False</td>\n",
       "    </tr>\n",
       "    <tr>\n",
       "      <th>started</th>\n",
       "      <td>None</td>\n",
       "    </tr>\n",
       "    <tr>\n",
       "      <th>FTW_Output_Status</th>\n",
       "      <td>None</td>\n",
       "    </tr>\n",
       "    <tr>\n",
       "      <th>finished</th>\n",
       "      <td>None</td>\n",
       "    </tr>\n",
       "    <tr>\n",
       "      <th>Agent_Input_Directives</th>\n",
       "      <td>[]</td>\n",
       "    </tr>\n",
       "    <tr>\n",
       "      <th>pilot</th>\n",
       "      <td>pilot.0000</td>\n",
       "    </tr>\n",
       "    <tr>\n",
       "      <th>submitted</th>\n",
       "      <td>1446944569.94</td>\n",
       "    </tr>\n",
       "    <tr>\n",
       "      <th>sandbox</th>\n",
       "      <td>file://localhost/home/radical/radical.pilot.sa...</td>\n",
       "    </tr>\n",
       "    <tr>\n",
       "      <th>stderr</th>\n",
       "      <td></td>\n",
       "    </tr>\n",
       "    <tr>\n",
       "      <th>_id</th>\n",
       "      <td>unit.000000</td>\n",
       "    </tr>\n",
       "  </tbody>\n",
       "</table>\n",
       "</div>"
      ],
      "text/plain": [
       "                                                                     Value\n",
       "control                                                               umgr\n",
       "stdout                                                  I am CU number 1\\n\n",
       "callbackhistory          [{u'timestamp': 1446944570.592726, u'state': u...\n",
       "Agent_Output_Directives                                                 []\n",
       "Agent_Output_Status                                                   None\n",
       "Agent_Input_Status                                                    None\n",
       "exec_locs                                                             None\n",
       "FTW_Input_Directives                                                    []\n",
       "log                      [{u'timestamp': 1446944569.959054, u'message':...\n",
       "exit_code                                                                0\n",
       "FTW_Input_Status                                                      None\n",
       "state                                                                 Done\n",
       "unitmanager                                                      umgr.0000\n",
       "statehistory             [{u'timestamp': 1446944569.943781, u'state': u...\n",
       "FTW_Output_Directives                                                   []\n",
       "pilot_sandbox            file://localhost/home/radical/radical.pilot.sa...\n",
       "description              {u'kernel': None, u'executable': u'/bin/echo',...\n",
       "restartable                                                          False\n",
       "started                                                               None\n",
       "FTW_Output_Status                                                     None\n",
       "finished                                                              None\n",
       "Agent_Input_Directives                                                  []\n",
       "pilot                                                           pilot.0000\n",
       "submitted                                                    1446944569.94\n",
       "sandbox                  file://localhost/home/radical/radical.pilot.sa...\n",
       "stderr                                                                    \n",
       "_id                                                            unit.000000"
      ]
     },
     "execution_count": 16,
     "metadata": {},
     "output_type": "execute_result"
    }
   ],
   "source": [
    "print_details(details[\"execution_details\"])"
   ]
  },
  {
   "cell_type": "markdown",
   "metadata": {},
   "source": [
    "Process Output of CU"
   ]
  },
  {
   "cell_type": "code",
   "execution_count": 19,
   "metadata": {
    "collapsed": false
   },
   "outputs": [
    {
     "name": "stdout",
     "output_type": "stream",
     "text": [
      "I am CU number 1\n",
      "\n"
     ]
    }
   ],
   "source": [
    "print cu_results.stdout"
   ]
  },
  {
   "cell_type": "markdown",
   "metadata": {},
   "source": [
    "### 3.4 Close Session"
   ]
  },
  {
   "cell_type": "code",
   "execution_count": 32,
   "metadata": {
    "collapsed": false
   },
   "outputs": [],
   "source": [
    "session.close()"
   ]
  },
  {
   "cell_type": "markdown",
   "metadata": {},
   "source": [
    "# 4. YARN Pilot Example"
   ]
  },
  {
   "cell_type": "code",
   "execution_count": null,
   "metadata": {
    "collapsed": false
   },
   "outputs": [],
   "source": [
    "yarn_session = rp.Session()\n",
    "c = rp.Context('ssh')\n",
    "c.user_id = \"radical\"\n",
    "session.add_context(c)\n",
    "pmgr = rp.PilotManager(session=yarn_session)\n",
    "umgr = rp.UnitManager (session=yarn_session,\n",
    "                       scheduler=rp.SCHED_DIRECT_SUBMISSION)\n",
    "print \"Session id: %s Pilot Manager: %s\" % (yarn_session.uid, str(pmgr.as_dict()))"
   ]
  },
  {
   "cell_type": "code",
   "execution_count": null,
   "metadata": {
    "collapsed": true
   },
   "outputs": [],
   "source": [
    "pdesc = rp.ComputePilotDescription ()\n",
    "pdesc.resource = \"yarn.chameleon_anaconda\"  # NOTE: This is a \"label\", not a hostname\n",
    "pdesc.runtime  = 30 # minutes\n",
    "pdesc.cores    = 16\n",
    "pdesc.cleanup  = False\n",
    "# submit the pilot.\n",
    "print \"Submitting Compute Pilot to Pilot Manager ...\"\n",
    "pilot = pmgr.submit_pilots(pdesc)\n",
    "umgr.add_pilots(pilot)"
   ]
  },
  {
   "cell_type": "code",
   "execution_count": null,
   "metadata": {
    "collapsed": true
   },
   "outputs": [],
   "source": [
    "cudesc = rp.ComputeUnitDescription()\n",
    "cudesc.environment = {'CU_NO': i}\n",
    "cudesc.executable  = \"/bin/echo\"\n",
    "cudesc.arguments   = ['I am CU number $CU_NO']\n",
    "cudesc.cores       = 1"
   ]
  }
 ],
 "metadata": {
  "kernelspec": {
   "display_name": "Python 2",
   "language": "python",
   "name": "python2"
  },
  "language_info": {
   "codemirror_mode": {
    "name": "ipython",
    "version": 2
   },
   "file_extension": ".py",
   "mimetype": "text/x-python",
   "name": "python",
   "nbconvert_exporter": "python",
   "pygments_lexer": "ipython2",
   "version": "2.7.10"
  }
 },
 "nbformat": 4,
 "nbformat_minor": 0
}
