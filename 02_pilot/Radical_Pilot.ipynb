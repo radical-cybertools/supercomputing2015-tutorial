{
 "cells": [
  {
   "cell_type": "markdown",
   "metadata": {},
   "source": [
    "# Radical Pilot Tutorial\n",
    "\n",
    "\n",
    "## 1. Installation (Not needed on Chameleon)\n",
    "\n",
    "Not required on <http://sc15.radical-cybertools.org/>\n",
    "\n",
    "If you want to install Radical-Pilot locally:\n",
    "\n",
    "    pip install radical.pilot\n",
    "    pip install radical.utils\n",
    "    \n",
    "## 2. Radical Pilot Setup\n",
    "\n",
    "Import dependency and create callbacks for state update\n",
    "\n",
    "Documentation: http://radicalpilot.readthedocs.org/en/latest/machconf.html#preconfigured-resources\n",
    "\n",
    "Mongo:\n",
    "    \n",
    "           monogodb\n",
    "           $ db.createCollection(\"sc15-tutorial\", {capped: true, size: 100000, max: 100});"
   ]
  },
  {
   "cell_type": "code",
   "execution_count": 4,
   "metadata": {
    "collapsed": false
   },
   "outputs": [],
   "source": [
    "import os, sys\n",
    "import commands\n",
    "import radical.pilot as rp\n",
    "os.environ[\"RADICAL_PILOT_DBURL\"]=\"mongodb://ec2-54-221-194-147.compute-1.amazonaws.com:24242/giannis\""
   ]
  },
  {
   "cell_type": "code",
   "execution_count": 5,
   "metadata": {
    "collapsed": false
   },
   "outputs": [
    {
     "data": {
      "text/plain": [
       "(0, 'DEBUG')"
      ]
     },
     "execution_count": 5,
     "metadata": {},
     "output_type": "execute_result"
    }
   ],
   "source": [
    "commands.getstatusoutput('echo $RADICAL_PILOT_VERBOSE')"
   ]
  },
  {
   "cell_type": "markdown",
   "metadata": {},
   "source": [
    "## 3. Submit Pilot\n",
    "\n",
    "### 3.1 Create a new Session and Pilot-Manager. "
   ]
  },
  {
   "cell_type": "code",
   "execution_count": 14,
   "metadata": {
    "collapsed": false
   },
   "outputs": [
    {
     "name": "stdout",
     "output_type": "stream",
     "text": [
      "Session id: rp.session.radical-1.radical.016739.0006 Pilot Manager: {'uid': 'pmgr.0002'}\n"
     ]
    }
   ],
   "source": [
    "session = rp.Session()\n",
    "c = rp.Context('ssh')\n",
    "c.user_id = \"radical\"\n",
    "session.add_context(c)\n",
    "pmgr = rp.PilotManager(session=session)\n",
    "\n",
    "print \"Session id: %s Pilot Manager: %s\" % (session.uid, str(pmgr.as_dict()))"
   ]
  },
  {
   "cell_type": "markdown",
   "metadata": {},
   "source": [
    "### 3.2 Submit Pilot and initialize Unit Manager"
   ]
  },
  {
   "cell_type": "code",
   "execution_count": 15,
   "metadata": {
    "collapsed": false
   },
   "outputs": [
    {
     "name": "stdout",
     "output_type": "stream",
     "text": [
      "Initializing Unit Manager ...\n",
      "Registering Compute Pilot with Unit Manager ...\n"
     ]
    }
   ],
   "source": [
    "pdesc = rp.ComputePilotDescription ()\n",
    "pdesc.resource = \"local.localhost\"  # NOTE: This is a \"label\", not a hostname\n",
    "pdesc.runtime  = 10 # minutes\n",
    "pdesc.cores    = 16\n",
    "pdesc.cleanup  = False\n",
    "# submit the pilot.\n",
    "pilot = pmgr.submit_pilots(pdesc)\n",
    "\n",
    "# Combine the ComputePilot, the ComputeUnits and a scheduler via\n",
    "# a UnitManager object.\n",
    "print \"Initializing Unit Manager ...\"\n",
    "umgr = rp.UnitManager (session=session,\n",
    "                       scheduler=rp.SCHED_DIRECT_SUBMISSION)\n",
    "\n",
    "print \"Registering Compute Pilot with Unit Manager ...\"\n",
    "umgr.add_pilots(pilot)"
   ]
  },
  {
   "cell_type": "markdown",
   "metadata": {},
   "source": [
    "### 3.3 Submit Compute Units"
   ]
  },
  {
   "cell_type": "code",
   "execution_count": 16,
   "metadata": {
    "collapsed": false
   },
   "outputs": [
    {
     "name": "stdout",
     "output_type": "stream",
     "text": [
      "Submit Compute Units to Unit Manager ...\n",
      "Waiting for CUs to complete ...\n",
      "All CUs completed successfully!\n",
      "I am CU number 0\n",
      "\n",
      "I am CU number 1\n",
      "\n"
     ]
    }
   ],
   "source": [
    "NUMBER_JOBS  = 2 # the total number of cus to run\n",
    "cudesc_list = []\n",
    "for i in range(NUMBER_JOBS):\n",
    "    # -------- BEGIN USER DEFINED CU DESCRIPTION --------- #\n",
    "    cudesc = rp.ComputeUnitDescription()\n",
    "    cudesc.environment = {'CU_NO': i}\n",
    "    cudesc.executable  = \"/bin/echo\"\n",
    "    cudesc.arguments   = ['I am CU number $CU_NO']\n",
    "    cudesc.cores       = 1\n",
    "    # -------- END USER DEFINED CU DESCRIPTION --------- #\n",
    "    cudesc_list.append(cudesc)\n",
    "# Submit the previously created ComputeUnit descriptions to the\n",
    "# PilotManager. This will trigger the selected scheduler to start\n",
    "# assigning ComputeUnits to the ComputePilots.\n",
    "print \"Submit Compute Units to Unit Manager ...\"\n",
    "cu_set = umgr.submit_units (cudesc_list)\n",
    "print \"Waiting for CUs to complete ...\"\n",
    "umgr.wait_units()\n",
    "print \"All CUs completed successfully!\"\n",
    "for cu in cu_set:\n",
    "    print cu.stdout"
   ]
  },
  {
   "cell_type": "markdown",
   "metadata": {},
   "source": [
    "### 3.4 Close Session"
   ]
  },
  {
   "cell_type": "code",
   "execution_count": 12,
   "metadata": {
    "collapsed": false
   },
   "outputs": [],
   "source": [
    "session.close()"
   ]
  }
 ],
 "metadata": {
  "kernelspec": {
   "display_name": "Python 2",
   "language": "python",
   "name": "python2"
  },
  "language_info": {
   "codemirror_mode": {
    "name": "ipython",
    "version": 2
   },
   "file_extension": ".py",
   "mimetype": "text/x-python",
   "name": "python",
   "nbconvert_exporter": "python",
   "pygments_lexer": "ipython2",
   "version": "2.7.10"
  }
 },
 "nbformat": 4,
 "nbformat_minor": 0
}
