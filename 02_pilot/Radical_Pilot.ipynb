{
 "cells": [
  {
   "cell_type": "markdown",
   "metadata": {},
   "source": [
    "# Radical Pilot Tutorial\n",
    "\n",
    "Utilize the example below to familiarize yourself with Radical-Pilot.\n",
    "\n",
    "* Adapt settings and username \n",
    "* Modify the example to print out the hostname of the machine that runs the Pilot\n",
    "\n",
    "\n",
    "## 1. Installation and Configuration\n",
    "\n",
    "Not required on <http://sc15-aws.radical-cybertools.org/>\n",
    "\n",
    "\n"
   ]
  },
  {
   "cell_type": "code",
   "execution_count": 8,
   "metadata": {
    "collapsed": false
   },
   "outputs": [
    {
     "name": "stdout",
     "output_type": "stream",
     "text": [
      "v0.37.10-123-g2a5e534@tutorial-sc15\r\n"
     ]
    }
   ],
   "source": [
    "%matplotlib inline\n",
    "import os, sys\n",
    "import commands\n",
    "import radical.pilot as rp\n",
    "import pandas as pd\n",
    "import ast\n",
    "import seaborn as sns\n",
    "os.environ[\"RADICAL_PILOT_VERBOSE\"]=\"ERROR\"\n",
    "!/opt/anaconda/bin/radicalpilot-version"
   ]
  },
  {
   "cell_type": "markdown",
   "metadata": {},
   "source": [
    "    \n",
    "## 2. Radical Pilot Setup\n",
    "\n",
    "Import dependency and create callbacks for state update\n",
    "\n",
    "Documentation: http://radicalpilot.readthedocs.org/en/latest/machconf.html#preconfigured-resources"
   ]
  },
  {
   "cell_type": "code",
   "execution_count": 9,
   "metadata": {
    "collapsed": false
   },
   "outputs": [],
   "source": [
    "os.environ[\"RADICAL_PILOT_DBURL\"]=\"mongodb://ec2-54-221-194-147.compute-1.amazonaws.com:24242/sc15-test000\"\n",
    "os.environ[\"RADICAL_PILOT_VERBOSE\"]=\"DEBUG\"\n",
    "\n",
    "def print_details(detail_object):\n",
    "    if type(detail_object)==str:\n",
    "        detail_object = ast.literal_eval(detail_object)\n",
    "    for i in detail_object:\n",
    "        detail_object[i]=str(detail_object[i])\n",
    "    return pd.DataFrame(detail_object.values(), \n",
    "             index=detail_object.keys(), \n",
    "             columns=[\"Value\"])"
   ]
  },
  {
   "cell_type": "markdown",
   "metadata": {},
   "source": [
    "## 3. Local Pilot Example\n",
    "\n",
    "### 3.1 Create a new Session and Pilot-Manager. "
   ]
  },
  {
   "cell_type": "code",
   "execution_count": 10,
   "metadata": {
    "collapsed": false
   },
   "outputs": [
    {
     "name": "stdout",
     "output_type": "stream",
     "text": [
      "Session id: rp.session.ip-10-99-194-113.ec2.internal.iparask.016748.0006 Pilot Manager: {'uid': 'pmgr.0000'}\n"
     ]
    }
   ],
   "source": [
    "session = rp.Session()\n",
    "pmgr = rp.PilotManager(session=session)\n",
    "umgr = rp.UnitManager (session=session,\n",
    "                       scheduler=rp.SCHED_DIRECT_SUBMISSION)\n",
    "print \"Session id: %s Pilot Manager: %s\" % (session.uid, str(pmgr.as_dict()))"
   ]
  },
  {
   "cell_type": "code",
   "execution_count": 11,
   "metadata": {
    "collapsed": false
   },
   "outputs": [
    {
     "data": {
      "text/html": [
       "<div>\n",
       "<table border=\"1\" class=\"dataframe\">\n",
       "  <thead>\n",
       "    <tr style=\"text-align: right;\">\n",
       "      <th></th>\n",
       "      <th>Value</th>\n",
       "    </tr>\n",
       "  </thead>\n",
       "  <tbody>\n",
       "    <tr>\n",
       "      <th>uid</th>\n",
       "      <td>umgr.0000</td>\n",
       "    </tr>\n",
       "    <tr>\n",
       "      <th>scheduler</th>\n",
       "      <td>DirectSubmissionScheduler</td>\n",
       "    </tr>\n",
       "    <tr>\n",
       "      <th>scheduler_details</th>\n",
       "      <td>NO SCHEDULER DETAILS (Not Implemented)</td>\n",
       "    </tr>\n",
       "  </tbody>\n",
       "</table>\n",
       "</div>"
      ],
      "text/plain": [
       "                                                    Value\n",
       "uid                                             umgr.0000\n",
       "scheduler                       DirectSubmissionScheduler\n",
       "scheduler_details  NO SCHEDULER DETAILS (Not Implemented)"
      ]
     },
     "execution_count": 11,
     "metadata": {},
     "output_type": "execute_result"
    }
   ],
   "source": [
    "print_details(umgr.as_dict())"
   ]
  },
  {
   "cell_type": "markdown",
   "metadata": {},
   "source": [
    "### 3.2 Submit Pilot and add to Unit Manager"
   ]
  },
  {
   "cell_type": "code",
   "execution_count": 12,
   "metadata": {
    "collapsed": false
   },
   "outputs": [],
   "source": [
    "pdesc = rp.ComputePilotDescription ()\n",
    "pdesc.resource = \"local.localhost_anaconda\"  # NOTE: This is a \"label\", not a hostname\n",
    "pdesc.runtime  = 10 # minutes\n",
    "pdesc.cores    = 2\n",
    "pdesc.cleanup  = False\n",
    "pilot = pmgr.submit_pilots(pdesc)\n",
    "umgr.add_pilots(pilot)"
   ]
  },
  {
   "cell_type": "code",
   "execution_count": 13,
   "metadata": {
    "collapsed": false
   },
   "outputs": [
    {
     "data": {
      "text/html": [
       "<div>\n",
       "<table border=\"1\" class=\"dataframe\">\n",
       "  <thead>\n",
       "    <tr style=\"text-align: right;\">\n",
       "      <th></th>\n",
       "      <th>Value</th>\n",
       "    </tr>\n",
       "  </thead>\n",
       "  <tbody>\n",
       "    <tr>\n",
       "      <th>uid</th>\n",
       "      <td>pilot.0000</td>\n",
       "    </tr>\n",
       "    <tr>\n",
       "      <th>stdout</th>\n",
       "      <td>None</td>\n",
       "    </tr>\n",
       "    <tr>\n",
       "      <th>start_time</th>\n",
       "      <td>None</td>\n",
       "    </tr>\n",
       "    <tr>\n",
       "      <th>resource_detail</th>\n",
       "      <td>{'cores_per_node': None, 'nodes': None}</td>\n",
       "    </tr>\n",
       "    <tr>\n",
       "      <th>submission_time</th>\n",
       "      <td>1447109865.68</td>\n",
       "    </tr>\n",
       "    <tr>\n",
       "      <th>logfile</th>\n",
       "      <td>None</td>\n",
       "    </tr>\n",
       "    <tr>\n",
       "      <th>resource</th>\n",
       "      <td>local.localhost_anaconda</td>\n",
       "    </tr>\n",
       "    <tr>\n",
       "      <th>log</th>\n",
       "      <td>[]</td>\n",
       "    </tr>\n",
       "    <tr>\n",
       "      <th>sandbox</th>\n",
       "      <td>file://localhost/home/iparask/radical.pilot.sa...</td>\n",
       "    </tr>\n",
       "    <tr>\n",
       "      <th>state</th>\n",
       "      <td>Launching</td>\n",
       "    </tr>\n",
       "    <tr>\n",
       "      <th>stop_time</th>\n",
       "      <td>None</td>\n",
       "    </tr>\n",
       "    <tr>\n",
       "      <th>stderr</th>\n",
       "      <td>None</td>\n",
       "    </tr>\n",
       "  </tbody>\n",
       "</table>\n",
       "</div>"
      ],
      "text/plain": [
       "                                                             Value\n",
       "uid                                                     pilot.0000\n",
       "stdout                                                        None\n",
       "start_time                                                    None\n",
       "resource_detail            {'cores_per_node': None, 'nodes': None}\n",
       "submission_time                                      1447109865.68\n",
       "logfile                                                       None\n",
       "resource                                  local.localhost_anaconda\n",
       "log                                                             []\n",
       "sandbox          file://localhost/home/iparask/radical.pilot.sa...\n",
       "state                                                    Launching\n",
       "stop_time                                                     None\n",
       "stderr                                                        None"
      ]
     },
     "execution_count": 13,
     "metadata": {},
     "output_type": "execute_result"
    }
   ],
   "source": [
    "print_details(pilot.as_dict())"
   ]
  },
  {
   "cell_type": "markdown",
   "metadata": {},
   "source": [
    "### 3.3 Submit Compute Units\n",
    "\n",
    "Create a description of the compute unit, which specifies the details on the executed task."
   ]
  },
  {
   "cell_type": "code",
   "execution_count": 14,
   "metadata": {
    "collapsed": false
   },
   "outputs": [
    {
     "data": {
      "text/html": [
       "<div>\n",
       "<table border=\"1\" class=\"dataframe\">\n",
       "  <thead>\n",
       "    <tr style=\"text-align: right;\">\n",
       "      <th></th>\n",
       "      <th>Value</th>\n",
       "    </tr>\n",
       "  </thead>\n",
       "  <tbody>\n",
       "    <tr>\n",
       "      <th>kernel</th>\n",
       "      <td>None</td>\n",
       "    </tr>\n",
       "    <tr>\n",
       "      <th>executable</th>\n",
       "      <td>/bin/echo</td>\n",
       "    </tr>\n",
       "    <tr>\n",
       "      <th>name</th>\n",
       "      <td>None</td>\n",
       "    </tr>\n",
       "    <tr>\n",
       "      <th>restartable</th>\n",
       "      <td>False</td>\n",
       "    </tr>\n",
       "    <tr>\n",
       "      <th>output_staging</th>\n",
       "      <td>None</td>\n",
       "    </tr>\n",
       "    <tr>\n",
       "      <th>stdout</th>\n",
       "      <td>None</td>\n",
       "    </tr>\n",
       "    <tr>\n",
       "      <th>pre_exec</th>\n",
       "      <td>None</td>\n",
       "    </tr>\n",
       "    <tr>\n",
       "      <th>mpi</th>\n",
       "      <td>False</td>\n",
       "    </tr>\n",
       "    <tr>\n",
       "      <th>environment</th>\n",
       "      <td>{'CU_NO': 1}</td>\n",
       "    </tr>\n",
       "    <tr>\n",
       "      <th>cleanup</th>\n",
       "      <td>False</td>\n",
       "    </tr>\n",
       "    <tr>\n",
       "      <th>arguments</th>\n",
       "      <td>['I am CU number $CU_NO']</td>\n",
       "    </tr>\n",
       "    <tr>\n",
       "      <th>stderr</th>\n",
       "      <td>None</td>\n",
       "    </tr>\n",
       "    <tr>\n",
       "      <th>cores</th>\n",
       "      <td>1</td>\n",
       "    </tr>\n",
       "    <tr>\n",
       "      <th>post_exec</th>\n",
       "      <td>None</td>\n",
       "    </tr>\n",
       "    <tr>\n",
       "      <th>input_staging</th>\n",
       "      <td>None</td>\n",
       "    </tr>\n",
       "  </tbody>\n",
       "</table>\n",
       "</div>"
      ],
      "text/plain": [
       "                                    Value\n",
       "kernel                               None\n",
       "executable                      /bin/echo\n",
       "name                                 None\n",
       "restartable                         False\n",
       "output_staging                       None\n",
       "stdout                               None\n",
       "pre_exec                             None\n",
       "mpi                                 False\n",
       "environment                  {'CU_NO': 1}\n",
       "cleanup                             False\n",
       "arguments       ['I am CU number $CU_NO']\n",
       "stderr                               None\n",
       "cores                                   1\n",
       "post_exec                            None\n",
       "input_staging                        None"
      ]
     },
     "execution_count": 14,
     "metadata": {},
     "output_type": "execute_result"
    }
   ],
   "source": [
    "cudesc = rp.ComputeUnitDescription()\n",
    "cudesc.environment = {'CU_NO': 1}\n",
    "cudesc.executable  = \"/bin/echo\"\n",
    "cudesc.arguments   = ['I am CU number $CU_NO']\n",
    "cudesc.cores       = 1\n",
    "print_details(cudesc.as_dict())"
   ]
  },
  {
   "cell_type": "markdown",
   "metadata": {},
   "source": [
    "Submit the previously created ComputeUnit descriptions to the PilotManager. This will trigger the selected scheduler to start assigning ComputeUnits to the ComputePilots."
   ]
  },
  {
   "cell_type": "code",
   "execution_count": 15,
   "metadata": {
    "collapsed": false
   },
   "outputs": [
    {
     "name": "stdout",
     "output_type": "stream",
     "text": [
      "Submit Compute Units to Unit Manager ...\n",
      "Waiting for CUs to complete ...\n",
      "All CUs completed successfully!\n"
     ]
    }
   ],
   "source": [
    "print \"Submit Compute Units to Unit Manager ...\"\n",
    "cu_set = umgr.submit_units([cudesc])\n",
    "print \"Waiting for CUs to complete ...\"\n",
    "umgr.wait_units()\n",
    "print \"All CUs completed successfully!\"\n",
    "cu_results = cu_set[0]\n",
    "details=cu_results.as_dict()"
   ]
  },
  {
   "cell_type": "code",
   "execution_count": 16,
   "metadata": {
    "collapsed": false
   },
   "outputs": [
    {
     "data": {
      "text/html": [
       "<div>\n",
       "<table border=\"1\" class=\"dataframe\">\n",
       "  <thead>\n",
       "    <tr style=\"text-align: right;\">\n",
       "      <th></th>\n",
       "      <th>Value</th>\n",
       "    </tr>\n",
       "  </thead>\n",
       "  <tbody>\n",
       "    <tr>\n",
       "      <th>log</th>\n",
       "      <td>[&lt;radical.pilot.logentry.Logentry object at 0x...</td>\n",
       "    </tr>\n",
       "    <tr>\n",
       "      <th>state</th>\n",
       "      <td>Done</td>\n",
       "    </tr>\n",
       "    <tr>\n",
       "      <th>working_directory</th>\n",
       "      <td>file://localhost/home/iparask/radical.pilot.sa...</td>\n",
       "    </tr>\n",
       "    <tr>\n",
       "      <th>uid</th>\n",
       "      <td>unit.000000</td>\n",
       "    </tr>\n",
       "    <tr>\n",
       "      <th>submission_time</th>\n",
       "      <td>1447109872.31</td>\n",
       "    </tr>\n",
       "    <tr>\n",
       "      <th>execution_details</th>\n",
       "      <td>{u'control': u'umgr', u'stdout': u'I am CU num...</td>\n",
       "    </tr>\n",
       "    <tr>\n",
       "      <th>stop_time</th>\n",
       "      <td>None</td>\n",
       "    </tr>\n",
       "    <tr>\n",
       "      <th>start_time</th>\n",
       "      <td>None</td>\n",
       "    </tr>\n",
       "    <tr>\n",
       "      <th>exit_code</th>\n",
       "      <td>0</td>\n",
       "    </tr>\n",
       "    <tr>\n",
       "      <th>name</th>\n",
       "      <td>None</td>\n",
       "    </tr>\n",
       "  </tbody>\n",
       "</table>\n",
       "</div>"
      ],
      "text/plain": [
       "                                                               Value\n",
       "log                [<radical.pilot.logentry.Logentry object at 0x...\n",
       "state                                                           Done\n",
       "working_directory  file://localhost/home/iparask/radical.pilot.sa...\n",
       "uid                                                      unit.000000\n",
       "submission_time                                        1447109872.31\n",
       "execution_details  {u'control': u'umgr', u'stdout': u'I am CU num...\n",
       "stop_time                                                       None\n",
       "start_time                                                      None\n",
       "exit_code                                                          0\n",
       "name                                                            None"
      ]
     },
     "execution_count": 16,
     "metadata": {},
     "output_type": "execute_result"
    }
   ],
   "source": [
    "print_details(details)"
   ]
  },
  {
   "cell_type": "code",
   "execution_count": 17,
   "metadata": {
    "collapsed": false
   },
   "outputs": [
    {
     "data": {
      "text/html": [
       "<div>\n",
       "<table border=\"1\" class=\"dataframe\">\n",
       "  <thead>\n",
       "    <tr style=\"text-align: right;\">\n",
       "      <th></th>\n",
       "      <th>Value</th>\n",
       "    </tr>\n",
       "  </thead>\n",
       "  <tbody>\n",
       "    <tr>\n",
       "      <th>control</th>\n",
       "      <td>umgr</td>\n",
       "    </tr>\n",
       "    <tr>\n",
       "      <th>stdout</th>\n",
       "      <td>I am CU number 1\\n</td>\n",
       "    </tr>\n",
       "    <tr>\n",
       "      <th>callbackhistory</th>\n",
       "      <td>[{u'timestamp': 1447109872.362126, u'state': u...</td>\n",
       "    </tr>\n",
       "    <tr>\n",
       "      <th>Agent_Output_Directives</th>\n",
       "      <td>[]</td>\n",
       "    </tr>\n",
       "    <tr>\n",
       "      <th>Agent_Output_Status</th>\n",
       "      <td>None</td>\n",
       "    </tr>\n",
       "    <tr>\n",
       "      <th>Agent_Input_Status</th>\n",
       "      <td>None</td>\n",
       "    </tr>\n",
       "    <tr>\n",
       "      <th>exec_locs</th>\n",
       "      <td>None</td>\n",
       "    </tr>\n",
       "    <tr>\n",
       "      <th>FTW_Input_Directives</th>\n",
       "      <td>[]</td>\n",
       "    </tr>\n",
       "    <tr>\n",
       "      <th>log</th>\n",
       "      <td>[{u'timestamp': 1447109872.320063, u'message':...</td>\n",
       "    </tr>\n",
       "    <tr>\n",
       "      <th>exit_code</th>\n",
       "      <td>0</td>\n",
       "    </tr>\n",
       "    <tr>\n",
       "      <th>FTW_Input_Status</th>\n",
       "      <td>None</td>\n",
       "    </tr>\n",
       "    <tr>\n",
       "      <th>state</th>\n",
       "      <td>Done</td>\n",
       "    </tr>\n",
       "    <tr>\n",
       "      <th>unitmanager</th>\n",
       "      <td>umgr.0000</td>\n",
       "    </tr>\n",
       "    <tr>\n",
       "      <th>statehistory</th>\n",
       "      <td>[{u'timestamp': 1447109872.306738, u'state': u...</td>\n",
       "    </tr>\n",
       "    <tr>\n",
       "      <th>FTW_Output_Directives</th>\n",
       "      <td>[]</td>\n",
       "    </tr>\n",
       "    <tr>\n",
       "      <th>pilot_sandbox</th>\n",
       "      <td>file://localhost/home/iparask/radical.pilot.sa...</td>\n",
       "    </tr>\n",
       "    <tr>\n",
       "      <th>description</th>\n",
       "      <td>{u'kernel': None, u'executable': u'/bin/echo',...</td>\n",
       "    </tr>\n",
       "    <tr>\n",
       "      <th>restartable</th>\n",
       "      <td>False</td>\n",
       "    </tr>\n",
       "    <tr>\n",
       "      <th>started</th>\n",
       "      <td>None</td>\n",
       "    </tr>\n",
       "    <tr>\n",
       "      <th>FTW_Output_Status</th>\n",
       "      <td>None</td>\n",
       "    </tr>\n",
       "    <tr>\n",
       "      <th>finished</th>\n",
       "      <td>None</td>\n",
       "    </tr>\n",
       "    <tr>\n",
       "      <th>Agent_Input_Directives</th>\n",
       "      <td>[]</td>\n",
       "    </tr>\n",
       "    <tr>\n",
       "      <th>pilot</th>\n",
       "      <td>pilot.0000</td>\n",
       "    </tr>\n",
       "    <tr>\n",
       "      <th>submitted</th>\n",
       "      <td>1447109872.31</td>\n",
       "    </tr>\n",
       "    <tr>\n",
       "      <th>sandbox</th>\n",
       "      <td>file://localhost/home/iparask/radical.pilot.sa...</td>\n",
       "    </tr>\n",
       "    <tr>\n",
       "      <th>stderr</th>\n",
       "      <td></td>\n",
       "    </tr>\n",
       "    <tr>\n",
       "      <th>_id</th>\n",
       "      <td>unit.000000</td>\n",
       "    </tr>\n",
       "  </tbody>\n",
       "</table>\n",
       "</div>"
      ],
      "text/plain": [
       "                                                                     Value\n",
       "control                                                               umgr\n",
       "stdout                                                  I am CU number 1\\n\n",
       "callbackhistory          [{u'timestamp': 1447109872.362126, u'state': u...\n",
       "Agent_Output_Directives                                                 []\n",
       "Agent_Output_Status                                                   None\n",
       "Agent_Input_Status                                                    None\n",
       "exec_locs                                                             None\n",
       "FTW_Input_Directives                                                    []\n",
       "log                      [{u'timestamp': 1447109872.320063, u'message':...\n",
       "exit_code                                                                0\n",
       "FTW_Input_Status                                                      None\n",
       "state                                                                 Done\n",
       "unitmanager                                                      umgr.0000\n",
       "statehistory             [{u'timestamp': 1447109872.306738, u'state': u...\n",
       "FTW_Output_Directives                                                   []\n",
       "pilot_sandbox            file://localhost/home/iparask/radical.pilot.sa...\n",
       "description              {u'kernel': None, u'executable': u'/bin/echo',...\n",
       "restartable                                                          False\n",
       "started                                                               None\n",
       "FTW_Output_Status                                                     None\n",
       "finished                                                              None\n",
       "Agent_Input_Directives                                                  []\n",
       "pilot                                                           pilot.0000\n",
       "submitted                                                    1447109872.31\n",
       "sandbox                  file://localhost/home/iparask/radical.pilot.sa...\n",
       "stderr                                                                    \n",
       "_id                                                            unit.000000"
      ]
     },
     "execution_count": 17,
     "metadata": {},
     "output_type": "execute_result"
    }
   ],
   "source": [
    "print_details(details[\"execution_details\"])"
   ]
  },
  {
   "cell_type": "markdown",
   "metadata": {},
   "source": [
    "Process Output of CU"
   ]
  },
  {
   "cell_type": "code",
   "execution_count": 18,
   "metadata": {
    "collapsed": false
   },
   "outputs": [
    {
     "name": "stdout",
     "output_type": "stream",
     "text": [
      "I am CU number 1\n"
     ]
    }
   ],
   "source": [
    "print cu_results.stdout.strip()"
   ]
  },
  {
   "cell_type": "markdown",
   "metadata": {},
   "source": [
    "### 3.4 Exercise\n",
    "\n",
    "Write a Compute Unit that prints out the hostname of the machine!"
   ]
  },
  {
   "cell_type": "markdown",
   "metadata": {},
   "source": [
    "### 3.5 Performance Analysis"
   ]
  },
  {
   "cell_type": "code",
   "execution_count": 19,
   "metadata": {
    "collapsed": false
   },
   "outputs": [],
   "source": [
    "def get_runtime(compute_unit):\n",
    "    details=compute_unit.as_dict()\n",
    "    execution_details=details['execution_details']\n",
    "    state_details=execution_details[\"statehistory\"]\n",
    "    results = {}\n",
    "    for i in state_details:\n",
    "        results[i[\"state\"]]=i[\"timestamp\"]\n",
    "    start = results[\"Scheduling\"]\n",
    "    end = results[\"Done\"]\n",
    "    runtime = end-start\n",
    "    return runtime\n"
   ]
  },
  {
   "cell_type": "code",
   "execution_count": 20,
   "metadata": {
    "collapsed": false
   },
   "outputs": [],
   "source": [
    "import random\n",
    "cudesc_list = []\n",
    "for i in range(100):\n",
    "    cudesc = rp.ComputeUnitDescription()\n",
    "    cudesc.executable  = \"/bin/sleep\"\n",
    "    cudesc.environment = {'CU_NO': i}\n",
    "    cudesc.arguments   = ['%d'%(random.randrange(10))]\n",
    "    cudesc.cores       = 1\n",
    "    cudesc_list.append(cudesc)"
   ]
  },
  {
   "cell_type": "code",
   "execution_count": 21,
   "metadata": {
    "collapsed": false
   },
   "outputs": [],
   "source": [
    "cu_set = umgr.submit_units(cudesc_list)"
   ]
  },
  {
   "cell_type": "code",
   "execution_count": 22,
   "metadata": {
    "collapsed": false
   },
   "outputs": [],
   "source": [
    "states = umgr.wait_units()"
   ]
  },
  {
   "cell_type": "code",
   "execution_count": 23,
   "metadata": {
    "collapsed": false
   },
   "outputs": [],
   "source": [
    "runtimes=[]\n",
    "for compute_unit in cu_set:\n",
    "    str(compute_unit)\n",
    "    runtimes.append(get_runtime(compute_unit))"
   ]
  },
  {
   "cell_type": "code",
   "execution_count": 24,
   "metadata": {
    "collapsed": false
   },
   "outputs": [
    {
     "data": {
      "text/plain": [
       "<matplotlib.axes._subplots.AxesSubplot at 0x7efd8ffb1710>"
      ]
     },
     "execution_count": 24,
     "metadata": {},
     "output_type": "execute_result"
    },
    {
     "data": {
      "image/png": "[encoded data removed]",
      "text/plain": [
       "<matplotlib.figure.Figure at 0x7efd8ffb1d90>"
      ]
     },
     "metadata": {},
     "output_type": "display_data"
    }
   ],
   "source": [
    "sns.distplot(runtimes)"
   ]
  },
  {
   "cell_type": "markdown",
   "metadata": {},
   "source": [
    "### 3.6 Close and Delete Session "
   ]
  },
  {
   "cell_type": "code",
   "execution_count": 25,
   "metadata": {
    "collapsed": false
   },
   "outputs": [],
   "source": [
    "session.close()\n",
    "del session"
   ]
  },
  {
   "cell_type": "markdown",
   "metadata": {},
   "source": [
    "## 4. YARN Pilot Example\n",
    "\n",
    "### 4.1 Create a new Session and Pilot-Manager. "
   ]
  },
  {
   "cell_type": "code",
   "execution_count": 26,
   "metadata": {
    "collapsed": false
   },
   "outputs": [
    {
     "name": "stdout",
     "output_type": "stream",
     "text": [
      "Session id: rp.session.ip-10-99-194-113.ec2.internal.iparask.016748.0007 Pilot Manager: {'uid': 'pmgr.0001'}\n"
     ]
    }
   ],
   "source": [
    "yarn_session = rp.Session()\n",
    "c = rp.Context('ssh')\n",
    "c.user_id = \"\"\n",
    "yarn_session.add_context(c)\n",
    "pmgr = rp.PilotManager(session=yarn_session)\n",
    "umgr = rp.UnitManager (session=yarn_session,\n",
    "                       scheduler=rp.SCHED_DIRECT_SUBMISSION)\n",
    "print \"Session id: %s Pilot Manager: %s\" % (yarn_session.uid, str(pmgr.as_dict()))"
   ]
  },
  {
   "cell_type": "markdown",
   "metadata": {},
   "source": [
    "### 4.2 Submit Pilot and add to Unit Manager"
   ]
  },
  {
   "cell_type": "code",
   "execution_count": 27,
   "metadata": {
    "collapsed": false
   },
   "outputs": [
    {
     "name": "stdout",
     "output_type": "stream",
     "text": [
      "Submitting Compute Pilot to Pilot Manager ...\n"
     ]
    }
   ],
   "source": [
    "pdesc = rp.ComputePilotDescription ()\n",
    "pdesc.resource = \"yarn.aws-vm_anaconda\"  # NOTE: This is a \"label\", not a hostname\n",
    "pdesc.runtime  = 30 # minutes\n",
    "pdesc.cores    = 2\n",
    "pdesc.cleanup  = False\n",
    "# submit the pilot.\n",
    "print \"Submitting Compute Pilot to Pilot Manager ...\"\n",
    "pilot = pmgr.submit_pilots(pdesc)\n",
    "umgr.add_pilots(pilot)"
   ]
  },
  {
   "cell_type": "code",
   "execution_count": 28,
   "metadata": {
    "collapsed": false
   },
   "outputs": [
    {
     "data": {
      "text/html": [
       "<div>\n",
       "<table border=\"1\" class=\"dataframe\">\n",
       "  <thead>\n",
       "    <tr style=\"text-align: right;\">\n",
       "      <th></th>\n",
       "      <th>Value</th>\n",
       "    </tr>\n",
       "  </thead>\n",
       "  <tbody>\n",
       "    <tr>\n",
       "      <th>uid</th>\n",
       "      <td>pilot.0001</td>\n",
       "    </tr>\n",
       "    <tr>\n",
       "      <th>stdout</th>\n",
       "      <td>None</td>\n",
       "    </tr>\n",
       "    <tr>\n",
       "      <th>start_time</th>\n",
       "      <td>None</td>\n",
       "    </tr>\n",
       "    <tr>\n",
       "      <th>resource_detail</th>\n",
       "      <td>{'cores_per_node': None, 'nodes': None}</td>\n",
       "    </tr>\n",
       "    <tr>\n",
       "      <th>submission_time</th>\n",
       "      <td>1447110133.7</td>\n",
       "    </tr>\n",
       "    <tr>\n",
       "      <th>logfile</th>\n",
       "      <td>None</td>\n",
       "    </tr>\n",
       "    <tr>\n",
       "      <th>resource</th>\n",
       "      <td>yarn.aws-vm_anaconda</td>\n",
       "    </tr>\n",
       "    <tr>\n",
       "      <th>log</th>\n",
       "      <td>[]</td>\n",
       "    </tr>\n",
       "    <tr>\n",
       "      <th>sandbox</th>\n",
       "      <td>sftp://sc15-aws.radical-cybertools.org/home/ip...</td>\n",
       "    </tr>\n",
       "    <tr>\n",
       "      <th>state</th>\n",
       "      <td>PendingLaunch</td>\n",
       "    </tr>\n",
       "    <tr>\n",
       "      <th>stop_time</th>\n",
       "      <td>None</td>\n",
       "    </tr>\n",
       "    <tr>\n",
       "      <th>stderr</th>\n",
       "      <td>None</td>\n",
       "    </tr>\n",
       "  </tbody>\n",
       "</table>\n",
       "</div>"
      ],
      "text/plain": [
       "                                                             Value\n",
       "uid                                                     pilot.0001\n",
       "stdout                                                        None\n",
       "start_time                                                    None\n",
       "resource_detail            {'cores_per_node': None, 'nodes': None}\n",
       "submission_time                                       1447110133.7\n",
       "logfile                                                       None\n",
       "resource                                      yarn.aws-vm_anaconda\n",
       "log                                                             []\n",
       "sandbox          sftp://sc15-aws.radical-cybertools.org/home/ip...\n",
       "state                                                PendingLaunch\n",
       "stop_time                                                     None\n",
       "stderr                                                        None"
      ]
     },
     "execution_count": 28,
     "metadata": {},
     "output_type": "execute_result"
    }
   ],
   "source": [
    "print_details(pilot.as_dict())"
   ]
  },
  {
   "cell_type": "markdown",
   "metadata": {},
   "source": [
    "### 4.3 Submit Compute Units\n",
    "\n",
    "Create a description of the compute unit, which specifies the details on the executed task."
   ]
  },
  {
   "cell_type": "code",
   "execution_count": 29,
   "metadata": {
    "collapsed": false
   },
   "outputs": [
    {
     "data": {
      "text/html": [
       "<div>\n",
       "<table border=\"1\" class=\"dataframe\">\n",
       "  <thead>\n",
       "    <tr style=\"text-align: right;\">\n",
       "      <th></th>\n",
       "      <th>Value</th>\n",
       "    </tr>\n",
       "  </thead>\n",
       "  <tbody>\n",
       "    <tr>\n",
       "      <th>kernel</th>\n",
       "      <td>None</td>\n",
       "    </tr>\n",
       "    <tr>\n",
       "      <th>executable</th>\n",
       "      <td>/bin/echo</td>\n",
       "    </tr>\n",
       "    <tr>\n",
       "      <th>name</th>\n",
       "      <td>None</td>\n",
       "    </tr>\n",
       "    <tr>\n",
       "      <th>restartable</th>\n",
       "      <td>False</td>\n",
       "    </tr>\n",
       "    <tr>\n",
       "      <th>output_staging</th>\n",
       "      <td>None</td>\n",
       "    </tr>\n",
       "    <tr>\n",
       "      <th>stdout</th>\n",
       "      <td>None</td>\n",
       "    </tr>\n",
       "    <tr>\n",
       "      <th>pre_exec</th>\n",
       "      <td>None</td>\n",
       "    </tr>\n",
       "    <tr>\n",
       "      <th>mpi</th>\n",
       "      <td>False</td>\n",
       "    </tr>\n",
       "    <tr>\n",
       "      <th>environment</th>\n",
       "      <td>{'CU_NO': 99}</td>\n",
       "    </tr>\n",
       "    <tr>\n",
       "      <th>cleanup</th>\n",
       "      <td>False</td>\n",
       "    </tr>\n",
       "    <tr>\n",
       "      <th>arguments</th>\n",
       "      <td>['I am CU number $CU_NO']</td>\n",
       "    </tr>\n",
       "    <tr>\n",
       "      <th>stderr</th>\n",
       "      <td>None</td>\n",
       "    </tr>\n",
       "    <tr>\n",
       "      <th>cores</th>\n",
       "      <td>1</td>\n",
       "    </tr>\n",
       "    <tr>\n",
       "      <th>post_exec</th>\n",
       "      <td>None</td>\n",
       "    </tr>\n",
       "    <tr>\n",
       "      <th>input_staging</th>\n",
       "      <td>None</td>\n",
       "    </tr>\n",
       "  </tbody>\n",
       "</table>\n",
       "</div>"
      ],
      "text/plain": [
       "                                    Value\n",
       "kernel                               None\n",
       "executable                      /bin/echo\n",
       "name                                 None\n",
       "restartable                         False\n",
       "output_staging                       None\n",
       "stdout                               None\n",
       "pre_exec                             None\n",
       "mpi                                 False\n",
       "environment                 {'CU_NO': 99}\n",
       "cleanup                             False\n",
       "arguments       ['I am CU number $CU_NO']\n",
       "stderr                               None\n",
       "cores                                   1\n",
       "post_exec                            None\n",
       "input_staging                        None"
      ]
     },
     "execution_count": 29,
     "metadata": {},
     "output_type": "execute_result"
    }
   ],
   "source": [
    "cudesc = rp.ComputeUnitDescription()\n",
    "cudesc.environment = {'CU_NO': i}\n",
    "cudesc.executable  = \"/bin/echo\"\n",
    "cudesc.arguments   = ['I am CU number $CU_NO']\n",
    "cudesc.cores       = 1\n",
    "print_details(cudesc.as_dict())"
   ]
  },
  {
   "cell_type": "markdown",
   "metadata": {},
   "source": [
    "Submit the previously created ComputeUnit descriptions to the PilotManager. This will trigger the selected scheduler to start assigning ComputeUnits to the ComputePilots."
   ]
  },
  {
   "cell_type": "code",
   "execution_count": 30,
   "metadata": {
    "collapsed": false
   },
   "outputs": [
    {
     "name": "stdout",
     "output_type": "stream",
     "text": [
      "Submit Compute Units to Unit Manager ...\n",
      "Waiting for CUs to complete ...\n",
      "All CUs completed successfully!\n"
     ]
    }
   ],
   "source": [
    "print \"Submit Compute Units to Unit Manager ...\"\n",
    "cu_set = umgr.submit_units([cudesc])\n",
    "print \"Waiting for CUs to complete ...\"\n",
    "umgr.wait_units()\n",
    "print \"All CUs completed successfully!\"\n",
    "cu_results = cu_set[0]\n",
    "details=cu_results.as_dict()"
   ]
  },
  {
   "cell_type": "code",
   "execution_count": 31,
   "metadata": {
    "collapsed": false
   },
   "outputs": [
    {
     "data": {
      "text/html": [
       "<div>\n",
       "<table border=\"1\" class=\"dataframe\">\n",
       "  <thead>\n",
       "    <tr style=\"text-align: right;\">\n",
       "      <th></th>\n",
       "      <th>Value</th>\n",
       "    </tr>\n",
       "  </thead>\n",
       "  <tbody>\n",
       "    <tr>\n",
       "      <th>log</th>\n",
       "      <td>[&lt;radical.pilot.logentry.Logentry object at 0x...</td>\n",
       "    </tr>\n",
       "    <tr>\n",
       "      <th>state</th>\n",
       "      <td>Done</td>\n",
       "    </tr>\n",
       "    <tr>\n",
       "      <th>working_directory</th>\n",
       "      <td>sftp://sc15-aws.radical-cybertools.org/home/ip...</td>\n",
       "    </tr>\n",
       "    <tr>\n",
       "      <th>uid</th>\n",
       "      <td>unit.000101</td>\n",
       "    </tr>\n",
       "    <tr>\n",
       "      <th>submission_time</th>\n",
       "      <td>1447110133.87</td>\n",
       "    </tr>\n",
       "    <tr>\n",
       "      <th>execution_details</th>\n",
       "      <td>{u'control': u'umgr', u'stdout': u'[... CONTEN...</td>\n",
       "    </tr>\n",
       "    <tr>\n",
       "      <th>stop_time</th>\n",
       "      <td>None</td>\n",
       "    </tr>\n",
       "    <tr>\n",
       "      <th>start_time</th>\n",
       "      <td>None</td>\n",
       "    </tr>\n",
       "    <tr>\n",
       "      <th>exit_code</th>\n",
       "      <td>0</td>\n",
       "    </tr>\n",
       "    <tr>\n",
       "      <th>name</th>\n",
       "      <td>None</td>\n",
       "    </tr>\n",
       "  </tbody>\n",
       "</table>\n",
       "</div>"
      ],
      "text/plain": [
       "                                                               Value\n",
       "log                [<radical.pilot.logentry.Logentry object at 0x...\n",
       "state                                                           Done\n",
       "working_directory  sftp://sc15-aws.radical-cybertools.org/home/ip...\n",
       "uid                                                      unit.000101\n",
       "submission_time                                        1447110133.87\n",
       "execution_details  {u'control': u'umgr', u'stdout': u'[... CONTEN...\n",
       "stop_time                                                       None\n",
       "start_time                                                      None\n",
       "exit_code                                                          0\n",
       "name                                                            None"
      ]
     },
     "execution_count": 31,
     "metadata": {},
     "output_type": "execute_result"
    }
   ],
   "source": [
    "print_details(details)"
   ]
  },
  {
   "cell_type": "raw",
   "metadata": {},
   "source": [
    "print_details(details[\"execution_details\"])"
   ]
  },
  {
   "cell_type": "code",
   "execution_count": 32,
   "metadata": {
    "collapsed": false
   },
   "outputs": [
    {
     "name": "stdout",
     "output_type": "stream",
     "text": [
      "[... CONTENT SHORTENED ...]\n",
      "rotobufRpcEngine:250 - Call: getApplicationReport took 1ms\n",
      "2015-11-09 23:02:44 DEBUG Client:1032 - IPC Client (950834139) connection to /10.63.179.69:8050 from iparask sending #592\n",
      "2015-11-09 23:02:44 DEBUG Client:1089 - IPC Client (950834139) connection to /10.63.179.69:8050 from iparask got value #592\n",
      "2015-11-09 23:02:44 DEBUG ProtobufRpcEngine:250 - Call: getApplicationReport took 20ms\n",
      "2015-11-09 23:02:44 DEBUG Client:1032 - IPC Client (950834139) connection to /10.63.179.69:8050 from iparask sending #593\n",
      "2015-11-09 23:02:44 DEBUG Client:1089 - IPC Client (950834139) connection to /10.63.179.69:8050 from iparask got value #593\n",
      "2015-11-09 23:02:44 DEBUG ProtobufRpcEngine:250 - Call: getApplicationReport took 1ms\n",
      "2015-11-09 23:02:44 INFO  Client:792 - Application has completed successfully. Breaking monitoring loop\n",
      "2015-11-09 23:02:44 INFO  Client:240 - Application completed successfully\n",
      "2015-11-09 23:02:44 DEBUG Client:97 - stopping client from cache: org.apache.hadoop.ipc.Client@7d984acb\n",
      "I am CU number 99\n"
     ]
    }
   ],
   "source": [
    "print cu_results.stdout.strip()"
   ]
  },
  {
   "cell_type": "markdown",
   "metadata": {},
   "source": [
    "### 4.4 Performance Analysis"
   ]
  },
  {
   "cell_type": "code",
   "execution_count": 33,
   "metadata": {
    "collapsed": true
   },
   "outputs": [],
   "source": [
    "cudesc_list = []\n",
    "for i in range(100):\n",
    "    cudesc = rp.ComputeUnitDescription()\n",
    "    cudesc.executable  = \"/bin/sleep\"\n",
    "    cudesc.environment = {'CU_NO': i}\n",
    "    cudesc.arguments   = ['%d'%(random.randrange(10))]\n",
    "    cudesc.cores       = 1\n",
    "    cudesc_list.append(cudesc)"
   ]
  },
  {
   "cell_type": "code",
   "execution_count": 34,
   "metadata": {
    "collapsed": true
   },
   "outputs": [],
   "source": [
    "cu_set = umgr.submit_units(cudesc_list)"
   ]
  },
  {
   "cell_type": "code",
   "execution_count": 35,
   "metadata": {
    "collapsed": true
   },
   "outputs": [],
   "source": [
    "states = umgr.wait_units()"
   ]
  },
  {
   "cell_type": "code",
   "execution_count": 36,
   "metadata": {
    "collapsed": true
   },
   "outputs": [],
   "source": [
    "untimes=[]\n",
    "for compute_unit in cu_set:\n",
    "    str(compute_unit)\n",
    "    runtimes.append(get_runtime(compute_unit))"
   ]
  },
  {
   "cell_type": "code",
   "execution_count": 37,
   "metadata": {
    "collapsed": false
   },
   "outputs": [
    {
     "data": {
      "text/plain": [
       "<matplotlib.axes._subplots.AxesSubplot at 0x7efd8f329210>"
      ]
     },
     "execution_count": 37,
     "metadata": {},
     "output_type": "execute_result"
    },
    {
     "data": {
      "image/png": "[encoded data removed]",
      "text/plain": [
       "<matplotlib.figure.Figure at 0x7efd8f329b50>"
      ]
     },
     "metadata": {},
     "output_type": "display_data"
    }
   ],
   "source": [
    "sns.distplot(runtimes)"
   ]
  },
  {
   "cell_type": "markdown",
   "metadata": {},
   "source": [
    "### 4.5 Close and Delete Session"
   ]
  },
  {
   "cell_type": "code",
   "execution_count": 38,
   "metadata": {
    "collapsed": true
   },
   "outputs": [],
   "source": [
    "yarn_session.close()\n",
    "del yarn_session"
   ]
  },
  {
   "cell_type": "code",
   "execution_count": null,
   "metadata": {
    "collapsed": true
   },
   "outputs": [],
   "source": []
  }
 ],
 "metadata": {
  "kernelspec": {
   "display_name": "Python 2",
   "language": "python",
   "name": "python2"
  },
  "language_info": {
   "codemirror_mode": {
    "name": "ipython",
    "version": 2
   },
   "file_extension": ".py",
   "mimetype": "text/x-python",
   "name": "python",
   "nbconvert_exporter": "python",
   "pygments_lexer": "ipython2",
   "version": "2.7.10"
  }
 },
 "nbformat": 4,
 "nbformat_minor": 0
}
