{
 "cells": [
  {
   "cell_type": "markdown",
   "metadata": {},
   "source": [
    "## 1. A Simple Workload consisting of a Bag-of-Tasks Remote Execution"
   ]
  },
  {
   "cell_type": "code",
   "execution_count": 1,
   "metadata": {
    "collapsed": true
   },
   "outputs": [],
   "source": [
    "import os,sys\n",
    "import radical.pilot as rp\n",
    "\n",
    "os.environ[\"RADICAL_PILOT_DBURL\"]=\"mongodb://ec2-54-221-194-147.compute-1.amazonaws.com:24242/sc15tut\""
   ]
  },
  {
   "cell_type": "markdown",
   "metadata": {},
   "source": [
    "#### Create a Radical Pilot Session"
   ]
  },
  {
   "cell_type": "code",
   "execution_count": 2,
   "metadata": {
    "collapsed": false
   },
   "outputs": [
    {
     "name": "stdout",
     "output_type": "stream",
     "text": [
      "Session id rp.session.radical-1.iparask.016739.0006\n"
     ]
    }
   ],
   "source": [
    "session = rp.Session()\n",
    "print \"Session id %s\"%session.uid"
   ]
  },
  {
   "cell_type": "markdown",
   "metadata": {},
   "source": [
    "#### Create a Radical Pilot context to include your credentials for the Remote Target Machine"
   ]
  },
  {
   "cell_type": "code",
   "execution_count": 3,
   "metadata": {
    "collapsed": true
   },
   "outputs": [],
   "source": [
    "c = rp.Context('ssh')\n",
    "c.user_id = \"\"\n",
    "session.add_context(c)"
   ]
  },
  {
   "cell_type": "markdown",
   "metadata": {},
   "source": [
    "#### Submit the Session to a Pilot Manager"
   ]
  },
  {
   "cell_type": "code",
   "execution_count": 4,
   "metadata": {
    "collapsed": false
   },
   "outputs": [
    {
     "name": "stdout",
     "output_type": "stream",
     "text": [
      "Initializing Pilot Manager ...\n"
     ]
    }
   ],
   "source": [
    "print \"Initializing Pilot Manager ...\"\n",
    "pmgr = rp.PilotManager(session=session)"
   ]
  },
  {
   "cell_type": "markdown",
   "metadata": {},
   "source": [
    "#### Create a Pilot description and submit the pilot to the pilot manager"
   ]
  },
  {
   "cell_type": "code",
   "execution_count": 5,
   "metadata": {
    "collapsed": false
   },
   "outputs": [
    {
     "name": "stdout",
     "output_type": "stream",
     "text": [
      "Submitting Compute Pilot to Pilot Manager ...\n"
     ]
    }
   ],
   "source": [
    "pdesc = rp.ComputePilotDescription ()\n",
    "pdesc.resource = \"xsede.stampede\"  # NOTE: This is a \"label\", not a hostname\n",
    "pdesc.runtime  = 10 # minutes\n",
    "pdesc.cores    = 16\n",
    "pdesc.cleanup  = False\n",
    "pdesc.project  = ''\n",
    "pdesc.queue    = 'normal'\n",
    "# submit the pilot.\n",
    "print \"Submitting Compute Pilot to Pilot Manager ...\"\n",
    "pilot = pmgr.submit_pilots(pdesc)"
   ]
  },
  {
   "cell_type": "markdown",
   "metadata": {},
   "source": [
    "#### Combine the ComputePilot, the ComputeUnits and a scheduler via a UnitManager object."
   ]
  },
  {
   "cell_type": "code",
   "execution_count": 6,
   "metadata": {
    "collapsed": false
   },
   "outputs": [
    {
     "name": "stdout",
     "output_type": "stream",
     "text": [
      "Initializing Unit Manager ...\n"
     ]
    }
   ],
   "source": [
    "print \"Initializing Unit Manager ...\"\n",
    "umgr = rp.UnitManager (session=session,\n",
    "                           scheduler=rp.SCHED_DIRECT_SUBMISSION)"
   ]
  },
  {
   "cell_type": "markdown",
   "metadata": {},
   "source": [
    "#### Add the created ComputePilot to the UnitManager."
   ]
  },
  {
   "cell_type": "code",
   "execution_count": 7,
   "metadata": {
    "collapsed": false
   },
   "outputs": [
    {
     "name": "stdout",
     "output_type": "stream",
     "text": [
      "Registering Compute Pilot with Unit Manager ...\n"
     ]
    }
   ],
   "source": [
    "print \"Registering Compute Pilot with Unit Manager ...\"\n",
    "umgr.add_pilots(pilot)"
   ]
  },
  {
   "cell_type": "markdown",
   "metadata": {},
   "source": [
    "#### Create the description of the tasks to be run"
   ]
  },
  {
   "cell_type": "code",
   "execution_count": 8,
   "metadata": {
    "collapsed": true
   },
   "outputs": [],
   "source": [
    "NUMBER_JOBS  = 64 # the total number of cus to run\n",
    "# submit CUs to pilot job\n",
    "cudesc_list = []\n",
    "for i in range(NUMBER_JOBS):\n",
    "    # -------- BEGIN USER DEFINED CU DESCRIPTION --------- #\n",
    "    cudesc = rp.ComputeUnitDescription()\n",
    "    cudesc.environment = {'CU_NO': i}\n",
    "    cudesc.executable  = \"/bin/echo\"\n",
    "    cudesc.arguments   = ['I am CU number $CU_NO']\n",
    "    cudesc.cores       = 1\n",
    "    # -------- END USER DEFINED CU DESCRIPTION --------- #\n",
    "    cudesc_list.append(cudesc)"
   ]
  },
  {
   "cell_type": "markdown",
   "metadata": {},
   "source": [
    "#### Submit the previously created ComputeUnit descriptions to the\n",
    "#### PilotManager. This will trigger the selected scheduler to start\n",
    "#### assigning ComputeUnits to the ComputePilots.\n",
    " \n",
    "#### Wait until all the tasks are complete"
   ]
  },
  {
   "cell_type": "code",
   "execution_count": 9,
   "metadata": {
    "collapsed": false
   },
   "outputs": [
    {
     "name": "stdout",
     "output_type": "stream",
     "text": [
      "Submit Compute Units to Unit Manager ...\n",
      "Waiting for CUs to complete ...\n"
     ]
    },
    {
     "data": {
      "text/plain": [
       "[u'Done',\n",
       " u'Done',\n",
       " u'Done',\n",
       " u'Done',\n",
       " u'Done',\n",
       " u'Done',\n",
       " u'Done',\n",
       " u'Done',\n",
       " u'Done',\n",
       " u'Done',\n",
       " u'Done',\n",
       " u'Done',\n",
       " u'Done',\n",
       " u'Done',\n",
       " u'Done',\n",
       " u'Done',\n",
       " u'Done',\n",
       " u'Done',\n",
       " u'Done',\n",
       " u'Done',\n",
       " u'Done',\n",
       " u'Done',\n",
       " u'Done',\n",
       " u'Done',\n",
       " u'Done',\n",
       " u'Done',\n",
       " u'Done',\n",
       " u'Done',\n",
       " u'Done',\n",
       " u'Done',\n",
       " u'Done',\n",
       " u'Done',\n",
       " u'Done',\n",
       " u'Done',\n",
       " u'Done',\n",
       " u'Done',\n",
       " u'Done',\n",
       " u'Done',\n",
       " u'Done',\n",
       " u'Done',\n",
       " u'Done',\n",
       " u'Done',\n",
       " u'Done',\n",
       " u'Done',\n",
       " u'Done',\n",
       " u'Done',\n",
       " u'Done',\n",
       " u'Done',\n",
       " u'Done',\n",
       " u'Done',\n",
       " u'Done',\n",
       " u'Done',\n",
       " u'Done',\n",
       " u'Done',\n",
       " u'Done',\n",
       " u'Done',\n",
       " u'Done',\n",
       " u'Done',\n",
       " u'Done',\n",
       " u'Done',\n",
       " u'Done',\n",
       " u'Done',\n",
       " u'Done',\n",
       " u'Done']"
      ]
     },
     "execution_count": 9,
     "metadata": {},
     "output_type": "execute_result"
    }
   ],
   "source": [
    "\n",
    "print \"Submit Compute Units to Unit Manager ...\"\n",
    "cu_set = umgr.submit_units (cudesc_list)\n",
    "print \"Waiting for CUs to complete ...\"\n",
    "umgr.wait_units()"
   ]
  },
  {
   "cell_type": "markdown",
   "metadata": {},
   "source": [
    "#### Printing tasks final state"
   ]
  },
  {
   "cell_type": "code",
   "execution_count": 10,
   "metadata": {
    "collapsed": false
   },
   "outputs": [
    {
     "name": "stdout",
     "output_type": "stream",
     "text": [
      "All CUs completed successfully!\n",
      "* CU unit.000000, state Done, exit code: 0, stdout: I am CU number 0\n",
      "\n",
      "* CU unit.000001, state Done, exit code: 0, stdout: I am CU number 1\n",
      "\n",
      "* CU unit.000002, state Done, exit code: 0, stdout: I am CU number 2\n",
      "\n",
      "* CU unit.000003, state Done, exit code: 0, stdout: I am CU number 3\n",
      "\n",
      "* CU unit.000004, state Done, exit code: 0, stdout: I am CU number 4\n",
      "\n",
      "* CU unit.000005, state Done, exit code: 0, stdout: I am CU number 5\n",
      "\n",
      "* CU unit.000006, state Done, exit code: 0, stdout: I am CU number 6\n",
      "\n",
      "* CU unit.000007, state Done, exit code: 0, stdout: I am CU number 7\n",
      "\n",
      "* CU unit.000008, state Done, exit code: 0, stdout: I am CU number 8\n",
      "\n",
      "* CU unit.000009, state Done, exit code: 0, stdout: I am CU number 9\n",
      "\n",
      "* CU unit.000010, state Done, exit code: 0, stdout: I am CU number 10\n",
      "\n",
      "* CU unit.000011, state Done, exit code: 0, stdout: I am CU number 11\n",
      "\n",
      "* CU unit.000012, state Done, exit code: 0, stdout: I am CU number 12\n",
      "\n",
      "* CU unit.000013, state Done, exit code: 0, stdout: I am CU number 13\n",
      "\n",
      "* CU unit.000014, state Done, exit code: 0, stdout: I am CU number 14\n",
      "\n",
      "* CU unit.000015, state Done, exit code: 0, stdout: I am CU number 15\n",
      "\n",
      "* CU unit.000016, state Done, exit code: 0, stdout: I am CU number 16\n",
      "\n",
      "* CU unit.000017, state Done, exit code: 0, stdout: I am CU number 17\n",
      "\n",
      "* CU unit.000018, state Done, exit code: 0, stdout: I am CU number 18\n",
      "\n",
      "* CU unit.000019, state Done, exit code: 0, stdout: I am CU number 19\n",
      "\n",
      "* CU unit.000020, state Done, exit code: 0, stdout: I am CU number 20\n",
      "\n",
      "* CU unit.000021, state Done, exit code: 0, stdout: I am CU number 21\n",
      "\n",
      "* CU unit.000022, state Done, exit code: 0, stdout: I am CU number 22\n",
      "\n",
      "* CU unit.000023, state Done, exit code: 0, stdout: I am CU number 23\n",
      "\n",
      "* CU unit.000024, state Done, exit code: 0, stdout: I am CU number 24\n",
      "\n",
      "* CU unit.000025, state Done, exit code: 0, stdout: I am CU number 25\n",
      "\n",
      "* CU unit.000026, state Done, exit code: 0, stdout: I am CU number 26\n",
      "\n",
      "* CU unit.000027, state Done, exit code: 0, stdout: I am CU number 27\n",
      "\n",
      "* CU unit.000028, state Done, exit code: 0, stdout: I am CU number 28\n",
      "\n",
      "* CU unit.000029, state Done, exit code: 0, stdout: I am CU number 29\n",
      "\n",
      "* CU unit.000030, state Done, exit code: 0, stdout: I am CU number 30\n",
      "\n",
      "* CU unit.000031, state Done, exit code: 0, stdout: I am CU number 31\n",
      "\n",
      "* CU unit.000032, state Done, exit code: 0, stdout: I am CU number 32\n",
      "\n",
      "* CU unit.000033, state Done, exit code: 0, stdout: I am CU number 33\n",
      "\n",
      "* CU unit.000034, state Done, exit code: 0, stdout: I am CU number 34\n",
      "\n",
      "* CU unit.000035, state Done, exit code: 0, stdout: I am CU number 35\n",
      "\n",
      "* CU unit.000036, state Done, exit code: 0, stdout: I am CU number 36\n",
      "\n",
      "* CU unit.000037, state Done, exit code: 0, stdout: I am CU number 37\n",
      "\n",
      "* CU unit.000038, state Done, exit code: 0, stdout: I am CU number 38\n",
      "\n",
      "* CU unit.000039, state Done, exit code: 0, stdout: I am CU number 39\n",
      "\n",
      "* CU unit.000040, state Done, exit code: 0, stdout: I am CU number 40\n",
      "\n",
      "* CU unit.000041, state Done, exit code: 0, stdout: I am CU number 41\n",
      "\n",
      "* CU unit.000042, state Done, exit code: 0, stdout: I am CU number 42\n",
      "\n",
      "* CU unit.000043, state Done, exit code: 0, stdout: I am CU number 43\n",
      "\n",
      "* CU unit.000044, state Done, exit code: 0, stdout: I am CU number 44\n",
      "\n",
      "* CU unit.000045, state Done, exit code: 0, stdout: I am CU number 45\n",
      "\n",
      "* CU unit.000046, state Done, exit code: 0, stdout: I am CU number 46\n",
      "\n",
      "* CU unit.000047, state Done, exit code: 0, stdout: I am CU number 47\n",
      "\n",
      "* CU unit.000048, state Done, exit code: 0, stdout: I am CU number 48\n",
      "\n",
      "* CU unit.000049, state Done, exit code: 0, stdout: I am CU number 49\n",
      "\n",
      "* CU unit.000050, state Done, exit code: 0, stdout: I am CU number 50\n",
      "\n",
      "* CU unit.000051, state Done, exit code: 0, stdout: I am CU number 51\n",
      "\n",
      "* CU unit.000052, state Done, exit code: 0, stdout: I am CU number 52\n",
      "\n",
      "* CU unit.000053, state Done, exit code: 0, stdout: I am CU number 53\n",
      "\n",
      "* CU unit.000054, state Done, exit code: 0, stdout: I am CU number 54\n",
      "\n",
      "* CU unit.000055, state Done, exit code: 0, stdout: I am CU number 55\n",
      "\n",
      "* CU unit.000056, state Done, exit code: 0, stdout: I am CU number 56\n",
      "\n",
      "* CU unit.000057, state Done, exit code: 0, stdout: I am CU number 57\n",
      "\n",
      "* CU unit.000058, state Done, exit code: 0, stdout: I am CU number 58\n",
      "\n",
      "* CU unit.000059, state Done, exit code: 0, stdout: I am CU number 59\n",
      "\n",
      "* CU unit.000060, state Done, exit code: 0, stdout: I am CU number 60\n",
      "\n",
      "* CU unit.000061, state Done, exit code: 0, stdout: I am CU number 61\n",
      "\n",
      "* CU unit.000062, state Done, exit code: 0, stdout: I am CU number 62\n",
      "\n",
      "* CU unit.000063, state Done, exit code: 0, stdout: I am CU number 63\n",
      "\n"
     ]
    }
   ],
   "source": [
    "print \"All CUs completed successfully!\"\n",
    "for unit in cu_set:\n",
    "    print \"* CU %s, state %s, exit code: %s, stdout: %s\" \\\n",
    "     % (unit.uid, unit.state, unit.exit_code, unit.stdout)"
   ]
  },
  {
   "cell_type": "markdown",
   "metadata": {},
   "source": [
    "#### Always clean up the session"
   ]
  },
  {
   "cell_type": "code",
   "execution_count": 11,
   "metadata": {
    "collapsed": false
   },
   "outputs": [
    {
     "name": "stdout",
     "output_type": "stream",
     "text": [
      "closing session\n"
     ]
    }
   ],
   "source": [
    "print \"closing session\"\n",
    "session.close ()"
   ]
  }
 ],
 "metadata": {
  "kernelspec": {
   "display_name": "Python 2",
   "language": "python",
   "name": "python2"
  },
  "language_info": {
   "codemirror_mode": {
    "name": "ipython",
    "version": 2
   },
   "file_extension": ".py",
   "mimetype": "text/x-python",
   "name": "python",
   "nbconvert_exporter": "python",
   "pygments_lexer": "ipython2",
   "version": "2.7.10"
  }
 },
 "nbformat": 4,
 "nbformat_minor": 0
}
