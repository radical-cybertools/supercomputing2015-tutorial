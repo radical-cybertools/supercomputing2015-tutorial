{
 "cells": [
  {
   "cell_type": "markdown",
   "metadata": {},
   "source": [
    "# 1. A Simple Workload Execution with YARN on Stampede"
   ]
  },
  {
   "cell_type": "markdown",
   "metadata": {},
   "source": [
    "## 1.1 Setting up the enviroment\n",
    "\n",
    "Before running the following example you will need to set a passwordless ssh connection between your tutorial account and your account on TACC Stampede.\n",
    "\n",
    "First, login through ssh to the edge node with the tutorial account and set up a public key:\n",
    "```\n",
    "ssh <user>@sc15-aws.radical-cybertools.org\n",
    "ssh-keygen -t rsa\n",
    "```\n",
    "\n",
    "Hit Return until you are in the terminal command prompt again.\n",
    "\n",
    "Then execute the following command\n",
    "```\n",
    "cat .ssh/id_rsa.pub | ssh <tacc_username>@stampede.tacc.utexas.edu 'cat >> .ssh/authorized_keys'\n",
    "```\n",
    "\n",
    "Verify that everything is set by doing and you can connect without a password request:\n",
    "```\n",
    "ssh <tacc_username>@stampede.tacc.utexas.edu\n",
    "```\n"
   ]
  },
  {
   "cell_type": "markdown",
   "metadata": {},
   "source": [
    "## 1.2 Example\n",
    "\n",
    "### 1.2.1 Radical Pilot Setup"
   ]
  },
  {
   "cell_type": "code",
   "execution_count": 1,
   "metadata": {
    "collapsed": true
   },
   "outputs": [],
   "source": [
    "import os,sys\n",
    "import radical.pilot as rp\n",
    "import ast\n",
    "\n",
    "os.environ[\"RADICAL_PILOT_DBURL\"]=\"mongodb://ec2-54-221-194-147.compute-1.amazonaws.com:24242/sc15tut\"\n",
    "os.environ[\"RADICAL_PILOT_VERBOSE\"]=\"DEBUG\"\n",
    "\n",
    "def print_details(detail_object):\n",
    "    if type(detail_object)==str:\n",
    "        detail_object = ast.literal_eval(detail_object)\n",
    "    for i in detail_object:\n",
    "        detail_object[i]=str(detail_object[i])\n",
    "    return pd.DataFrame(detail_object.values(), \n",
    "             index=detail_object.keys(), \n",
    "             columns=[\"Value\"])"
   ]
  },
  {
   "cell_type": "markdown",
   "metadata": {},
   "source": [
    "### 1.2.2 Create a Radical Pilot Session"
   ]
  },
  {
   "cell_type": "code",
   "execution_count": 2,
   "metadata": {
    "collapsed": false
   },
   "outputs": [
    {
     "name": "stdout",
     "output_type": "stream",
     "text": [
      "Session id rp.session.ip-10-99-194-113.ec2.internal.iparask.016749.0001\n"
     ]
    }
   ],
   "source": [
    "session = rp.Session()\n",
    "print \"Session id %s\"%session.uid"
   ]
  },
  {
   "cell_type": "markdown",
   "metadata": {},
   "source": [
    "### 1.2.3 Create a Radical Pilot context to include your credentials for the Remote Target Machine"
   ]
  },
  {
   "cell_type": "code",
   "execution_count": 3,
   "metadata": {
    "collapsed": true
   },
   "outputs": [],
   "source": [
    "c = rp.Context('ssh')\n",
    "c.user_id = \"\"\n",
    "session.add_context(c)"
   ]
  },
  {
   "cell_type": "markdown",
   "metadata": {},
   "source": [
    "### 1.2.4 Create Pilot and Unit Managers"
   ]
  },
  {
   "cell_type": "code",
   "execution_count": 4,
   "metadata": {
    "collapsed": false
   },
   "outputs": [
    {
     "name": "stdout",
     "output_type": "stream",
     "text": [
      "Initializing Pilot Manager ...\n",
      "Initializing Unit Manager ...\n"
     ]
    }
   ],
   "source": [
    "print \"Initializing Pilot Manager ...\"\n",
    "pmgr = rp.PilotManager(session=session)\n",
    "print \"Initializing Unit Manager ...\"\n",
    "umgr = rp.UnitManager (session=session,\n",
    "                           scheduler=rp.SCHED_DIRECT_SUBMISSION)"
   ]
  },
  {
   "cell_type": "markdown",
   "metadata": {},
   "source": [
    "### 1.2.5 Submit the pilot to the Pilot and Unit Managers"
   ]
  },
  {
   "cell_type": "code",
   "execution_count": 5,
   "metadata": {
    "collapsed": false
   },
   "outputs": [
    {
     "name": "stdout",
     "output_type": "stream",
     "text": [
      "Submitting Compute Pilot to Pilot Manager ...\n",
      "Registering Compute Pilot with Unit Manager ...\n"
     ]
    }
   ],
   "source": [
    "pdesc = rp.ComputePilotDescription ()\n",
    "pdesc.resource = \"yarn.stampede\"  # NOTE: This is a \"label\", not a hostname\n",
    "pdesc.runtime  = 60 # minutes\n",
    "pdesc.cores    = 16\n",
    "pdesc.cleanup  = False\n",
    "pdesc.project  = '' #Include the Allocation here\n",
    "pdesc.queue    = 'development' #You can select a different queue if you want.\n",
    "# submit the pilot.\n",
    "print \"Submitting Compute Pilot to Pilot Manager ...\"\n",
    "pilot = pmgr.submit_pilots(pdesc)\n",
    "print \"Registering Compute Pilot with Unit Manager ...\"\n",
    "umgr.add_pilots(pilot)"
   ]
  },
  {
   "cell_type": "markdown",
   "metadata": {},
   "source": [
    "### 1.2.6 Submit Compute Units\n",
    "\n",
    "First create the description of the compute units which define the task to be executed"
   ]
  },
  {
   "cell_type": "code",
   "execution_count": 6,
   "metadata": {
    "collapsed": true
   },
   "outputs": [],
   "source": [
    "NUMBER_JOBS  = 16\n",
    "cudesc_list = []\n",
    "for i in range(NUMBER_JOBS):\n",
    "    cudesc = rp.ComputeUnitDescription()\n",
    "    cudesc.environment = {'CU_NO': i}\n",
    "    cudesc.executable  = \"/bin/echo\"\n",
    "    cudesc.arguments   = ['I am CU number $CU_NO']\n",
    "    cudesc.cores       = 1\n",
    "    cudesc_list.append(cudesc)"
   ]
  },
  {
   "cell_type": "markdown",
   "metadata": {},
   "source": [
    "Submit the created Compute Units to the Unit Manager."
   ]
  },
  {
   "cell_type": "code",
   "execution_count": 7,
   "metadata": {
    "collapsed": false
   },
   "outputs": [
    {
     "name": "stdout",
     "output_type": "stream",
     "text": [
      "Submit Compute Units to Unit Manager ...\n",
      "Waiting for CUs to complete ...\n",
      "All CUs completed successfully!\n"
     ]
    }
   ],
   "source": [
    "\n",
    "print \"Submit Compute Units to Unit Manager ...\"\n",
    "cu_set = umgr.submit_units (cudesc_list)\n",
    "print \"Waiting for CUs to complete ...\"\n",
    "umgr.wait_units()\n",
    "print \"All CUs completed successfully!\""
   ]
  },
  {
   "cell_type": "markdown",
   "metadata": {},
   "source": [
    "Printing the output of a Compute Unit"
   ]
  },
  {
   "cell_type": "code",
   "execution_count": 8,
   "metadata": {
    "collapsed": false
   },
   "outputs": [
    {
     "name": "stdout",
     "output_type": "stream",
     "text": [
      "* CU unit.000000, state Done, exit code: 0, stdout: [... CONTENT SHORTENED ...]\n",
      "pede.tacc.utexas.edu/129.114.90.162:8032 from tg824689 sending #2466\n",
      "2015-11-10 16:27:25 DEBUG Client:1089 - IPC Client (1726925370) connection to c557-402.stampede.tacc.utexas.edu/129.114.90.162:8032 from tg824689 got value #2466\n",
      "2015-11-10 16:27:25 DEBUG ProtobufRpcEngine:250 - Call: getApplicationReport took 0ms\n",
      "2015-11-10 16:27:25 DEBUG Client:1032 - IPC Client (1726925370) connection to c557-402.stampede.tacc.utexas.edu/129.114.90.162:8032 from tg824689 sending #2467\n",
      "2015-11-10 16:27:25 DEBUG Client:1089 - IPC Client (1726925370) connection to c557-402.stampede.tacc.utexas.edu/129.114.90.162:8032 from tg824689 got value #2467\n",
      "2015-11-10 16:27:25 DEBUG ProtobufRpcEngine:250 - Call: getApplicationReport took 0ms\n",
      "2015-11-10 16:27:25 INFO  Client:792 - Application has completed successfully. Breaking monitoring loop\n",
      "2015-11-10 16:27:25 INFO  Client:240 - Application completed successfully\n",
      "2015-11-10 16:27:25 DEBUG Client:97 - stopping client from cache: org.apache.hadoop.ipc.Client@53e2835b\n",
      "I am CU number 0\n",
      "\n",
      "* CU unit.000001, state Done, exit code: 0, stdout: [... CONTENT SHORTENED ...]\n",
      "pede.tacc.utexas.edu/129.114.90.162:8032 from tg824689 sending #2330\n",
      "2015-11-10 16:26:32 DEBUG Client:1089 - IPC Client (1726925370) connection to c557-402.stampede.tacc.utexas.edu/129.114.90.162:8032 from tg824689 got value #2330\n",
      "2015-11-10 16:26:32 DEBUG ProtobufRpcEngine:250 - Call: getApplicationReport took 1ms\n",
      "2015-11-10 16:26:32 DEBUG Client:1032 - IPC Client (1726925370) connection to c557-402.stampede.tacc.utexas.edu/129.114.90.162:8032 from tg824689 sending #2331\n",
      "2015-11-10 16:26:32 DEBUG Client:1089 - IPC Client (1726925370) connection to c557-402.stampede.tacc.utexas.edu/129.114.90.162:8032 from tg824689 got value #2331\n",
      "2015-11-10 16:26:32 DEBUG ProtobufRpcEngine:250 - Call: getApplicationReport took 1ms\n",
      "2015-11-10 16:26:32 INFO  Client:792 - Application has completed successfully. Breaking monitoring loop\n",
      "2015-11-10 16:26:32 INFO  Client:240 - Application completed successfully\n",
      "2015-11-10 16:26:32 DEBUG Client:97 - stopping client from cache: org.apache.hadoop.ipc.Client@53e2835b\n",
      "I am CU number 1\n",
      "\n",
      "* CU unit.000002, state Done, exit code: 0, stdout: [... CONTENT SHORTENED ...]\n",
      "stampede.tacc.utexas.edu/129.114.90.162:8032 from tg824689 sending #873\n",
      "2015-11-10 16:25:57 DEBUG Client:1089 - IPC Client (1726925370) connection to c557-402.stampede.tacc.utexas.edu/129.114.90.162:8032 from tg824689 got value #873\n",
      "2015-11-10 16:25:57 DEBUG ProtobufRpcEngine:250 - Call: getApplicationReport took 1ms\n",
      "2015-11-10 16:25:57 DEBUG Client:1032 - IPC Client (1726925370) connection to c557-402.stampede.tacc.utexas.edu/129.114.90.162:8032 from tg824689 sending #874\n",
      "2015-11-10 16:25:57 DEBUG Client:1089 - IPC Client (1726925370) connection to c557-402.stampede.tacc.utexas.edu/129.114.90.162:8032 from tg824689 got value #874\n",
      "2015-11-10 16:25:57 DEBUG ProtobufRpcEngine:250 - Call: getApplicationReport took 1ms\n",
      "2015-11-10 16:25:57 INFO  Client:792 - Application has completed successfully. Breaking monitoring loop\n",
      "2015-11-10 16:25:57 INFO  Client:240 - Application completed successfully\n",
      "2015-11-10 16:25:57 DEBUG Client:97 - stopping client from cache: org.apache.hadoop.ipc.Client@53e2835b\n",
      "I am CU number 2\n",
      "\n",
      "* CU unit.000003, state Done, exit code: 0, stdout: [... CONTENT SHORTENED ...]\n",
      "pede.tacc.utexas.edu/129.114.90.162:8032 from tg824689 sending #2523\n",
      "2015-11-10 16:27:17 DEBUG Client:1089 - IPC Client (1726925370) connection to c557-402.stampede.tacc.utexas.edu/129.114.90.162:8032 from tg824689 got value #2523\n",
      "2015-11-10 16:27:17 DEBUG ProtobufRpcEngine:250 - Call: getApplicationReport took 0ms\n",
      "2015-11-10 16:27:17 DEBUG Client:1032 - IPC Client (1726925370) connection to c557-402.stampede.tacc.utexas.edu/129.114.90.162:8032 from tg824689 sending #2524\n",
      "2015-11-10 16:27:17 DEBUG Client:1089 - IPC Client (1726925370) connection to c557-402.stampede.tacc.utexas.edu/129.114.90.162:8032 from tg824689 got value #2524\n",
      "2015-11-10 16:27:17 DEBUG ProtobufRpcEngine:250 - Call: getApplicationReport took 1ms\n",
      "2015-11-10 16:27:17 INFO  Client:792 - Application has completed successfully. Breaking monitoring loop\n",
      "2015-11-10 16:27:17 INFO  Client:240 - Application completed successfully\n",
      "2015-11-10 16:27:17 DEBUG Client:97 - stopping client from cache: org.apache.hadoop.ipc.Client@53e2835b\n",
      "I am CU number 3\n",
      "\n",
      "* CU unit.000004, state Done, exit code: 0, stdout: [... CONTENT SHORTENED ...]\n",
      "pede.tacc.utexas.edu/129.114.90.162:8032 from tg824689 sending #2555\n",
      "2015-11-10 16:27:41 DEBUG Client:1089 - IPC Client (1726925370) connection to c557-402.stampede.tacc.utexas.edu/129.114.90.162:8032 from tg824689 got value #2555\n",
      "2015-11-10 16:27:41 DEBUG ProtobufRpcEngine:250 - Call: getApplicationReport took 0ms\n",
      "2015-11-10 16:27:41 DEBUG Client:1032 - IPC Client (1726925370) connection to c557-402.stampede.tacc.utexas.edu/129.114.90.162:8032 from tg824689 sending #2556\n",
      "2015-11-10 16:27:41 DEBUG Client:1089 - IPC Client (1726925370) connection to c557-402.stampede.tacc.utexas.edu/129.114.90.162:8032 from tg824689 got value #2556\n",
      "2015-11-10 16:27:41 DEBUG ProtobufRpcEngine:250 - Call: getApplicationReport took 0ms\n",
      "2015-11-10 16:27:41 INFO  Client:792 - Application has completed successfully. Breaking monitoring loop\n",
      "2015-11-10 16:27:41 INFO  Client:240 - Application completed successfully\n",
      "2015-11-10 16:27:41 DEBUG Client:97 - stopping client from cache: org.apache.hadoop.ipc.Client@53e2835b\n",
      "I am CU number 4\n",
      "\n",
      "* CU unit.000005, state Done, exit code: 0, stdout: [... CONTENT SHORTENED ...]\n",
      "pede.tacc.utexas.edu/129.114.90.162:8032 from tg824689 sending #2240\n",
      "2015-11-10 16:26:24 DEBUG Client:1089 - IPC Client (1726925370) connection to c557-402.stampede.tacc.utexas.edu/129.114.90.162:8032 from tg824689 got value #2240\n",
      "2015-11-10 16:26:24 DEBUG ProtobufRpcEngine:250 - Call: getApplicationReport took 0ms\n",
      "2015-11-10 16:26:24 DEBUG Client:1032 - IPC Client (1726925370) connection to c557-402.stampede.tacc.utexas.edu/129.114.90.162:8032 from tg824689 sending #2241\n",
      "2015-11-10 16:26:24 DEBUG Client:1089 - IPC Client (1726925370) connection to c557-402.stampede.tacc.utexas.edu/129.114.90.162:8032 from tg824689 got value #2241\n",
      "2015-11-10 16:26:24 DEBUG ProtobufRpcEngine:250 - Call: getApplicationReport took 1ms\n",
      "2015-11-10 16:26:24 INFO  Client:792 - Application has completed successfully. Breaking monitoring loop\n",
      "2015-11-10 16:26:24 INFO  Client:240 - Application completed successfully\n",
      "2015-11-10 16:26:24 DEBUG Client:97 - stopping client from cache: org.apache.hadoop.ipc.Client@53e2835b\n",
      "I am CU number 5\n",
      "\n",
      "* CU unit.000006, state Done, exit code: 0, stdout: [... CONTENT SHORTENED ...]\n",
      "pede.tacc.utexas.edu/129.114.90.162:8032 from tg824689 sending #2541\n",
      "2015-11-10 16:27:10 DEBUG Client:1089 - IPC Client (1726925370) connection to c557-402.stampede.tacc.utexas.edu/129.114.90.162:8032 from tg824689 got value #2541\n",
      "2015-11-10 16:27:10 DEBUG ProtobufRpcEngine:250 - Call: getApplicationReport took 0ms\n",
      "2015-11-10 16:27:10 DEBUG Client:1032 - IPC Client (1726925370) connection to c557-402.stampede.tacc.utexas.edu/129.114.90.162:8032 from tg824689 sending #2542\n",
      "2015-11-10 16:27:10 DEBUG Client:1089 - IPC Client (1726925370) connection to c557-402.stampede.tacc.utexas.edu/129.114.90.162:8032 from tg824689 got value #2542\n",
      "2015-11-10 16:27:10 DEBUG ProtobufRpcEngine:250 - Call: getApplicationReport took 1ms\n",
      "2015-11-10 16:27:10 INFO  Client:792 - Application has completed successfully. Breaking monitoring loop\n",
      "2015-11-10 16:27:10 INFO  Client:240 - Application completed successfully\n",
      "2015-11-10 16:27:10 DEBUG Client:97 - stopping client from cache: org.apache.hadoop.ipc.Client@53e2835b\n",
      "I am CU number 6\n",
      "\n",
      "* CU unit.000007, state Done, exit code: 0, stdout: [... CONTENT SHORTENED ...]\n",
      "pede.tacc.utexas.edu/129.114.90.162:8032 from tg824689 sending #2623\n",
      "2015-11-10 16:27:34 DEBUG Client:1089 - IPC Client (1726925370) connection to c557-402.stampede.tacc.utexas.edu/129.114.90.162:8032 from tg824689 got value #2623\n",
      "2015-11-10 16:27:34 DEBUG ProtobufRpcEngine:250 - Call: getApplicationReport took 1ms\n",
      "2015-11-10 16:27:34 DEBUG Client:1032 - IPC Client (1726925370) connection to c557-402.stampede.tacc.utexas.edu/129.114.90.162:8032 from tg824689 sending #2624\n",
      "2015-11-10 16:27:34 DEBUG Client:1089 - IPC Client (1726925370) connection to c557-402.stampede.tacc.utexas.edu/129.114.90.162:8032 from tg824689 got value #2624\n",
      "2015-11-10 16:27:34 DEBUG ProtobufRpcEngine:250 - Call: getApplicationReport took 0ms\n",
      "2015-11-10 16:27:34 INFO  Client:792 - Application has completed successfully. Breaking monitoring loop\n",
      "2015-11-10 16:27:34 INFO  Client:240 - Application completed successfully\n",
      "2015-11-10 16:27:34 DEBUG Client:97 - stopping client from cache: org.apache.hadoop.ipc.Client@53e2835b\n",
      "I am CU number 7\n",
      "\n",
      "* CU unit.000008, state Done, exit code: 0, stdout: [... CONTENT SHORTENED ...]\n",
      "pede.tacc.utexas.edu/129.114.90.162:8032 from tg824689 sending #2433\n",
      "2015-11-10 16:27:48 DEBUG Client:1089 - IPC Client (1726925370) connection to c557-402.stampede.tacc.utexas.edu/129.114.90.162:8032 from tg824689 got value #2433\n",
      "2015-11-10 16:27:48 DEBUG ProtobufRpcEngine:250 - Call: getApplicationReport took 0ms\n",
      "2015-11-10 16:27:48 DEBUG Client:1032 - IPC Client (1726925370) connection to c557-402.stampede.tacc.utexas.edu/129.114.90.162:8032 from tg824689 sending #2434\n",
      "2015-11-10 16:27:48 DEBUG Client:1089 - IPC Client (1726925370) connection to c557-402.stampede.tacc.utexas.edu/129.114.90.162:8032 from tg824689 got value #2434\n",
      "2015-11-10 16:27:48 DEBUG ProtobufRpcEngine:250 - Call: getApplicationReport took 0ms\n",
      "2015-11-10 16:27:48 INFO  Client:792 - Application has completed successfully. Breaking monitoring loop\n",
      "2015-11-10 16:27:48 INFO  Client:240 - Application completed successfully\n",
      "2015-11-10 16:27:48 DEBUG Client:97 - stopping client from cache: org.apache.hadoop.ipc.Client@53e2835b\n",
      "I am CU number 8\n",
      "\n",
      "* CU unit.000009, state Done, exit code: 0, stdout: [... CONTENT SHORTENED ...]\n",
      "pede.tacc.utexas.edu/129.114.90.162:8032 from tg824689 sending #1209\n",
      "2015-11-10 16:26:04 DEBUG Client:1089 - IPC Client (1726925370) connection to c557-402.stampede.tacc.utexas.edu/129.114.90.162:8032 from tg824689 got value #1209\n",
      "2015-11-10 16:26:04 DEBUG ProtobufRpcEngine:250 - Call: getApplicationReport took 1ms\n",
      "2015-11-10 16:26:04 DEBUG Client:1032 - IPC Client (1726925370) connection to c557-402.stampede.tacc.utexas.edu/129.114.90.162:8032 from tg824689 sending #1210\n",
      "2015-11-10 16:26:04 DEBUG Client:1089 - IPC Client (1726925370) connection to c557-402.stampede.tacc.utexas.edu/129.114.90.162:8032 from tg824689 got value #1210\n",
      "2015-11-10 16:26:04 DEBUG ProtobufRpcEngine:250 - Call: getApplicationReport took 1ms\n",
      "2015-11-10 16:26:04 INFO  Client:792 - Application has completed successfully. Breaking monitoring loop\n",
      "2015-11-10 16:26:04 INFO  Client:240 - Application completed successfully\n",
      "2015-11-10 16:26:04 DEBUG Client:97 - stopping client from cache: org.apache.hadoop.ipc.Client@53e2835b\n",
      "I am CU number 9\n",
      "\n",
      "* CU unit.000010, state Done, exit code: 0, stdout: [... CONTENT SHORTENED ...]\n",
      "ede.tacc.utexas.edu/129.114.90.162:8032 from tg824689 sending #2490\n",
      "2015-11-10 16:26:17 DEBUG Client:1089 - IPC Client (1193204385) connection to c557-402.stampede.tacc.utexas.edu/129.114.90.162:8032 from tg824689 got value #2490\n",
      "2015-11-10 16:26:17 DEBUG ProtobufRpcEngine:250 - Call: getApplicationReport took 1ms\n",
      "2015-11-10 16:26:17 DEBUG Client:1032 - IPC Client (1193204385) connection to c557-402.stampede.tacc.utexas.edu/129.114.90.162:8032 from tg824689 sending #2491\n",
      "2015-11-10 16:26:17 DEBUG Client:1089 - IPC Client (1193204385) connection to c557-402.stampede.tacc.utexas.edu/129.114.90.162:8032 from tg824689 got value #2491\n",
      "2015-11-10 16:26:17 DEBUG ProtobufRpcEngine:250 - Call: getApplicationReport took 1ms\n",
      "2015-11-10 16:26:17 INFO  Client:792 - Application has completed successfully. Breaking monitoring loop\n",
      "2015-11-10 16:26:17 INFO  Client:240 - Application completed successfully\n",
      "2015-11-10 16:26:17 DEBUG Client:97 - stopping client from cache: org.apache.hadoop.ipc.Client@3c1df663\n",
      "I am CU number 10\n",
      "\n",
      "* CU unit.000011, state Done, exit code: 0, stdout: [... CONTENT SHORTENED ...]\n",
      "ede.tacc.utexas.edu/129.114.90.162:8032 from tg824689 sending #2437\n",
      "2015-11-10 16:26:40 DEBUG Client:1089 - IPC Client (1726925370) connection to c557-402.stampede.tacc.utexas.edu/129.114.90.162:8032 from tg824689 got value #2437\n",
      "2015-11-10 16:26:40 DEBUG ProtobufRpcEngine:250 - Call: getApplicationReport took 1ms\n",
      "2015-11-10 16:26:40 DEBUG Client:1032 - IPC Client (1726925370) connection to c557-402.stampede.tacc.utexas.edu/129.114.90.162:8032 from tg824689 sending #2438\n",
      "2015-11-10 16:26:40 DEBUG Client:1089 - IPC Client (1726925370) connection to c557-402.stampede.tacc.utexas.edu/129.114.90.162:8032 from tg824689 got value #2438\n",
      "2015-11-10 16:26:40 DEBUG ProtobufRpcEngine:250 - Call: getApplicationReport took 0ms\n",
      "2015-11-10 16:26:40 INFO  Client:792 - Application has completed successfully. Breaking monitoring loop\n",
      "2015-11-10 16:26:40 INFO  Client:240 - Application completed successfully\n",
      "2015-11-10 16:26:40 DEBUG Client:97 - stopping client from cache: org.apache.hadoop.ipc.Client@53e2835b\n",
      "I am CU number 11\n",
      "\n",
      "* CU unit.000012, state Done, exit code: 0, stdout: [... CONTENT SHORTENED ...]\n",
      "ede.tacc.utexas.edu/129.114.90.162:8032 from tg824689 sending #2447\n",
      "2015-11-10 16:26:47 DEBUG Client:1089 - IPC Client (1726925370) connection to c557-402.stampede.tacc.utexas.edu/129.114.90.162:8032 from tg824689 got value #2447\n",
      "2015-11-10 16:26:47 DEBUG ProtobufRpcEngine:250 - Call: getApplicationReport took 0ms\n",
      "2015-11-10 16:26:47 DEBUG Client:1032 - IPC Client (1726925370) connection to c557-402.stampede.tacc.utexas.edu/129.114.90.162:8032 from tg824689 sending #2448\n",
      "2015-11-10 16:26:47 DEBUG Client:1089 - IPC Client (1726925370) connection to c557-402.stampede.tacc.utexas.edu/129.114.90.162:8032 from tg824689 got value #2448\n",
      "2015-11-10 16:26:47 DEBUG ProtobufRpcEngine:250 - Call: getApplicationReport took 1ms\n",
      "2015-11-10 16:26:47 INFO  Client:792 - Application has completed successfully. Breaking monitoring loop\n",
      "2015-11-10 16:26:47 INFO  Client:240 - Application completed successfully\n",
      "2015-11-10 16:26:47 DEBUG Client:97 - stopping client from cache: org.apache.hadoop.ipc.Client@53e2835b\n",
      "I am CU number 12\n",
      "\n",
      "* CU unit.000013, state Done, exit code: 0, stdout: [... CONTENT SHORTENED ...]\n",
      "ede.tacc.utexas.edu/129.114.90.162:8032 from tg824689 sending #1834\n",
      "2015-11-10 16:26:10 DEBUG Client:1089 - IPC Client (1193204385) connection to c557-402.stampede.tacc.utexas.edu/129.114.90.162:8032 from tg824689 got value #1834\n",
      "2015-11-10 16:26:10 DEBUG ProtobufRpcEngine:250 - Call: getApplicationReport took 0ms\n",
      "2015-11-10 16:26:10 DEBUG Client:1032 - IPC Client (1193204385) connection to c557-402.stampede.tacc.utexas.edu/129.114.90.162:8032 from tg824689 sending #1835\n",
      "2015-11-10 16:26:10 DEBUG Client:1089 - IPC Client (1193204385) connection to c557-402.stampede.tacc.utexas.edu/129.114.90.162:8032 from tg824689 got value #1835\n",
      "2015-11-10 16:26:10 DEBUG ProtobufRpcEngine:250 - Call: getApplicationReport took 1ms\n",
      "2015-11-10 16:26:10 INFO  Client:792 - Application has completed successfully. Breaking monitoring loop\n",
      "2015-11-10 16:26:10 INFO  Client:240 - Application completed successfully\n",
      "2015-11-10 16:26:10 DEBUG Client:97 - stopping client from cache: org.apache.hadoop.ipc.Client@3c1df663\n",
      "I am CU number 13\n",
      "\n",
      "* CU unit.000014, state Done, exit code: 0, stdout: [... CONTENT SHORTENED ...]\n",
      "ampede.tacc.utexas.edu/129.114.90.162:8032 from tg824689 sending #2539\n",
      "2015-11-10 16:26:55 DEBUG Client:1089 - IPC Client (983803009) connection to c557-402.stampede.tacc.utexas.edu/129.114.90.162:8032 from tg824689 got value #2539\n",
      "2015-11-10 16:26:55 DEBUG ProtobufRpcEngine:250 - Call: getApplicationReport took 1ms\n",
      "2015-11-10 16:26:55 DEBUG Client:1032 - IPC Client (983803009) connection to c557-402.stampede.tacc.utexas.edu/129.114.90.162:8032 from tg824689 sending #2540\n",
      "2015-11-10 16:26:55 DEBUG Client:1089 - IPC Client (983803009) connection to c557-402.stampede.tacc.utexas.edu/129.114.90.162:8032 from tg824689 got value #2540\n",
      "2015-11-10 16:26:55 DEBUG ProtobufRpcEngine:250 - Call: getApplicationReport took 1ms\n",
      "2015-11-10 16:26:55 INFO  Client:792 - Application has completed successfully. Breaking monitoring loop\n",
      "2015-11-10 16:26:55 INFO  Client:240 - Application completed successfully\n",
      "2015-11-10 16:26:55 DEBUG Client:97 - stopping client from cache: org.apache.hadoop.ipc.Client@531afc6a\n",
      "I am CU number 14\n",
      "\n",
      "* CU unit.000015, state Done, exit code: 0, stdout: [... CONTENT SHORTENED ...]\n",
      "ede.tacc.utexas.edu/129.114.90.162:8032 from tg824689 sending #2467\n",
      "2015-11-10 16:27:03 DEBUG Client:1089 - IPC Client (1193204385) connection to c557-402.stampede.tacc.utexas.edu/129.114.90.162:8032 from tg824689 got value #2467\n",
      "2015-11-10 16:27:03 DEBUG ProtobufRpcEngine:250 - Call: getApplicationReport took 1ms\n",
      "2015-11-10 16:27:03 DEBUG Client:1032 - IPC Client (1193204385) connection to c557-402.stampede.tacc.utexas.edu/129.114.90.162:8032 from tg824689 sending #2468\n",
      "2015-11-10 16:27:03 DEBUG Client:1089 - IPC Client (1193204385) connection to c557-402.stampede.tacc.utexas.edu/129.114.90.162:8032 from tg824689 got value #2468\n",
      "2015-11-10 16:27:03 DEBUG ProtobufRpcEngine:250 - Call: getApplicationReport took 0ms\n",
      "2015-11-10 16:27:03 INFO  Client:792 - Application has completed successfully. Breaking monitoring loop\n",
      "2015-11-10 16:27:03 INFO  Client:240 - Application completed successfully\n",
      "2015-11-10 16:27:03 DEBUG Client:97 - stopping client from cache: org.apache.hadoop.ipc.Client@3c1df663\n",
      "I am CU number 15\n",
      "\n"
     ]
    }
   ],
   "source": [
    "for unit in cu_set:\n",
    "    print \"* CU %s, state %s, exit code: %s, stdout: %s\" \\\n",
    "     % (unit.uid, unit.state, unit.exit_code, unit.stdout)"
   ]
  },
  {
   "cell_type": "markdown",
   "metadata": {},
   "source": [
    "### 1.2.7 Always clean up the session"
   ]
  },
  {
   "cell_type": "code",
   "execution_count": 9,
   "metadata": {
    "collapsed": false
   },
   "outputs": [],
   "source": [
    "session.close ()\n",
    "del session"
   ]
  },
  {
   "cell_type": "code",
   "execution_count": null,
   "metadata": {
    "collapsed": true
   },
   "outputs": [],
   "source": []
  }
 ],
 "metadata": {
  "kernelspec": {
   "display_name": "Python 2",
   "language": "python",
   "name": "python2"
  },
  "language_info": {
   "codemirror_mode": {
    "name": "ipython",
    "version": 2
   },
   "file_extension": ".py",
   "mimetype": "text/x-python",
   "name": "python",
   "nbconvert_exporter": "python",
   "pygments_lexer": "ipython2",
   "version": "2.7.10"
  }
 },
 "nbformat": 4,
 "nbformat_minor": 0
}
