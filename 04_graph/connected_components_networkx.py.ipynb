{
 "cells": [
  {
   "cell_type": "markdown",
   "metadata": {},
   "source": [
    "# Connected Component Benchmark"
   ]
  },
  {
   "cell_type": "code",
   "execution_count": 1,
   "metadata": {
    "collapsed": true
   },
   "outputs": [],
   "source": [
    "%matplotlib inline\n",
    "import matplotlib.pyplot as plt\n",
    "import networkx as NX\n",
    "import numpy as np\n",
    "import pandas as pd\n",
    "from pandas import DataFrame, Series\n",
    "\n",
    "import time\n",
    "import datetime\n",
    "import os,sys"
   ]
  },
  {
   "cell_type": "markdown",
   "metadata": {},
   "source": [
    "# NetworkX\n",
    "\n",
    "Limits:\n",
    "\n",
    "    - 10 Mio nodes\n",
    "    - 761.97 sec for reading in network\n",
    "    - 76.02 for connected components"
   ]
  },
  {
   "cell_type": "code",
   "execution_count": 3,
   "metadata": {
    "collapsed": false
   },
   "outputs": [
    {
     "name": "stdout",
     "output_type": "stream",
     "text": [
      "['graph_edges_10000_29735.csv', 'graph_edges_1000000_2983785.csv', 'graph_edges_10000000_29860787.csv', 'graph_edges_10000_29752.csv', 'graph_edges_100000_298441.csv']\n"
     ]
    }
   ],
   "source": [
    "OUTPUT_DIR=\"/work/01131/tg804093/graph\"\n",
    "files = os.listdir(OUTPUT_DIR)\n",
    "print str(files)\n",
    "for i in files:\n",
    "    filename = os.path.join(OUTPUT_DIR, i)"
   ]
  },
  {
   "cell_type": "code",
   "execution_count": 4,
   "metadata": {
    "collapsed": false
   },
   "outputs": [
    {
     "name": "stdout",
     "output_type": "stream",
     "text": [
      "Read Time: 761.97\n"
     ]
    }
   ],
   "source": [
    "%%time\n",
    "\n",
    "filename=os.path.join(OUTPUT_DIR,\"graph_edges_10000000_29860787.csv\")\n",
    "start = time.time()\n",
    "nxg = NX.read_edgelist(filename, delimiter=\",\")\n",
    "end_read = time.time()\n",
    "read_time=end_read-start\n",
    "print \"Read Time: %.2f\"%(read_time)"
   ]
  },
  {
   "cell_type": "code",
   "execution_count": 5,
   "metadata": {
    "collapsed": false
   },
   "outputs": [
    {
     "name": "stdout",
     "output_type": "stream",
     "text": [
      "Connected Components: 76.02\n"
     ]
    }
   ],
   "source": [
    "%% time\n",
    "\n",
    "start = time.time()\n",
    "components = NX.connected_components(nxg)\n",
    "end_created = time.time()\n",
    "count = 0\n",
    "for component in components:\n",
    "    #print str(sorted(component))\n",
    "    count = count + 1\n",
    "end_connected = time.time()\n",
    "connected_component_time = time.time()\n",
    "print \"Connected Components: %.2f\"%(end_connected-start)"
   ]
  },
  {
   "cell_type": "code",
   "execution_count": null,
   "metadata": {
    "collapsed": true
   },
   "outputs": [],
   "source": []
  }
 ],
 "metadata": {
  "kernelspec": {
   "display_name": "Python 2",
   "language": "python",
   "name": "python2"
  },
  "language_info": {
   "codemirror_mode": {
    "name": "ipython",
    "version": 2
   },
   "file_extension": ".py",
   "mimetype": "text/x-python",
   "name": "python",
   "nbconvert_exporter": "python",
   "pygments_lexer": "ipython2",
   "version": "2.7.10"
  }
 },
 "nbformat": 4,
 "nbformat_minor": 0
}
