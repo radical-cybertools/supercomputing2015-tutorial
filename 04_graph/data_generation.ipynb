{
 "cells": [
  {
   "cell_type": "markdown",
   "metadata": {},
   "source": [
    "# Generate Graphs for Connected Component"
   ]
  },
  {
   "cell_type": "code",
   "execution_count": 3,
   "metadata": {
    "collapsed": true
   },
   "outputs": [],
   "source": [
    "%matplotlib inline\n",
    "import matplotlib.pyplot as plt\n",
    "import networkx as NX\n",
    "import numpy as np\n",
    "import pandas as pd\n",
    "from pandas import DataFrame, Series\n",
    "\n",
    "import time\n",
    "import datetime\n",
    "import os,sys\n",
    "\n",
    "OUTPUT_DIR=\"/work/01131/tg804093/graph\"\n",
    "\n",
    "try:\n",
    "    os.makedirs(OUTPUT_DIR)\n",
    "except:\n",
    "    pass"
   ]
  },
  {
   "cell_type": "markdown",
   "metadata": {},
   "source": [
    "# Characteristics of Leaflet Finder Graphs\n",
    "\n",
    "    count    24056.000000\n",
    "    mean         5.971566\n",
    "    std          1.305737\n",
    "    min          2.000000\n",
    "    25%          5.000000\n",
    "    50%          6.000000\n",
    "    75%          7.000000\n",
    "    max         12.000000\n",
    "    \n",
    "    \n",
    "Using NetworkX the largest graph that can be generated on a Stampede node with 32 GB memory is **10 Mio** nodes."
   ]
  },
  {
   "cell_type": "code",
   "execution_count": 2,
   "metadata": {
    "collapsed": false
   },
   "outputs": [],
   "source": [
    "#OUTPUT_DIR=os.path.join(os.getcwd(), \"data\")\n",
    "\n",
    "\n",
    "#number_of_nodes=[    10000, \n",
    "#                    100000,\n",
    "#                   1000000,\n",
    "#                  10000000,\n",
    "#                 100000000,\n",
    "#                1000000000]\n",
    "number_of_nodes=[10]\n",
    "\n",
    "captured_times = {}\n",
    "for number in number_of_nodes:\n",
    "    start = time.time()\n",
    "    degree_vector = np.random.normal(5.971566, 1.305737, number)\n",
    "    graph = NX.expected_degree_graph(degree_vector)\n",
    "    NX.write_edgelist(graph,\n",
    "                      os.path.join(OUTPUT_DIR, \n",
    "                        \"graph_edges_%d_%d.csv\"%(number, NX.number_of_edges(graph))),\n",
    "                      delimiter=\",\")\n",
    "    \n",
    "    end = time.time()\n",
    "    captured_times[number]=end-start"
   ]
  },
  {
   "cell_type": "code",
   "execution_count": 21,
   "metadata": {
    "collapsed": false
   },
   "outputs": [
    {
     "data": {
      "text/plain": [
       "'{20000: 1.1708459854125977, 40000: 2.56634783744812, 640000: 49.59387397766113, 80000: 5.55070686340332, 1280000: 108.38637399673462, 160000: 11.38257098197937, 10000: 1.0456390380859375, 320000: 23.956480979919434}'"
      ]
     },
     "execution_count": 21,
     "metadata": {},
     "output_type": "execute_result"
    }
   ],
   "source": [
    "str(captured_times)"
   ]
  },
  {
   "cell_type": "code",
   "execution_count": 24,
   "metadata": {
    "collapsed": false
   },
   "outputs": [
    {
     "name": "stdout",
     "output_type": "stream",
     "text": [
      "total 124280\r\n",
      "-rw-------  1 tg804093 G-800683 65940271 Aug  1 13:41 graph_edges_1280000_3819403.csv\r\n",
      "drwx------  2 tg804093 G-800683     4096 Aug  1 13:40 .\r\n",
      "-rw-------  1 tg804093 G-800683 31826390 Aug  1 13:39 graph_edges_640000_1911152.csv\r\n",
      "-rw-------  1 tg804093 G-800683 15576940 Aug  1 13:38 graph_edges_320000_955401.csv\r\n",
      "-rw-------  1 tg804093 G-800683  7461452 Aug  1 13:38 graph_edges_160000_478000.csv\r\n",
      "-rw-------  1 tg804093 G-800683  3504310 Aug  1 13:38 graph_edges_80000_238049.csv\r\n",
      "-rw-------  1 tg804093 G-800683  1727441 Aug  1 13:37 graph_edges_40000_119599.csv\r\n",
      "-rw-------  1 tg804093 G-800683   819338 Aug  1 13:37 graph_edges_20000_58979.csv\r\n",
      "-rw-------  1 tg804093 G-800683   379940 Aug  1 13:37 graph_edges_10000_29735.csv\r\n",
      "drwx------ 12 tg804093 G-800683     4096 Aug  1 13:31 ..\r\n"
     ]
    }
   ],
   "source": [
    "!ls -lta {OUTPUT_DIR}"
   ]
  },
  {
   "cell_type": "code",
   "execution_count": 26,
   "metadata": {
    "collapsed": false
   },
   "outputs": [
    {
     "data": {
      "text/plain": [
       "<matplotlib.axes._subplots.AxesSubplot at 0x2b93147bb5d0>"
      ]
     },
     "execution_count": 26,
     "metadata": {},
     "output_type": "execute_result"
    },
    {
     "data": {
      "image/png": "[encoded data removed]",
      "text/plain": [
       "<matplotlib.figure.Figure at 0x2b931419ca90>"
      ]
     },
     "metadata": {},
     "output_type": "display_data"
    }
   ],
   "source": [
    "pd = DataFrame.from_dict(captured_times, orient=\"index\")\n",
    "pd.plot(kind=\"bar\")"
   ]
  },
  {
   "cell_type": "markdown",
   "metadata": {},
   "source": [
    "## Spark"
   ]
  },
  {
   "cell_type": "code",
   "execution_count": 1,
   "metadata": {
    "collapsed": false
   },
   "outputs": [
    {
     "name": "stdout",
     "output_type": "stream",
     "text": [
      "SPARK HOME: /home1/01131/tg804093/src/supercomputing2015-tutorial/02_hadoop_on_hpc/work/spark-1.4.1-bin-hadoop2.6\n"
     ]
    }
   ],
   "source": [
    "#SPARK_HOME=\"/usr/local/Cellar/apache-spark/1.4.1/libexec\"\n",
    "#os.environ[\"SPARK_HOME\"]=SPARK_HOME\n",
    "%run ../util/init_spark.py\n",
    "%run ../env.py\n",
    "print \"SPARK HOME: %s\"%os.environ[\"SPARK_HOME\"]\n",
    "\n",
    "sc = SparkContext(\"spark://129.114.82.28:7077\",\n",
    "                  \"Pilot-Spark\")"
   ]
  },
  {
   "cell_type": "code",
   "execution_count": null,
   "metadata": {
    "collapsed": false
   },
   "outputs": [],
   "source": [
    "%%time\n",
    "from pyspark.mllib.random import RandomRDDs\n",
    "import random\n",
    "\n",
    "NUMBER_NODES_SCENARIO=[1000000000, 10000000000, 10000000000, 1000000000000]\n",
    "NUMBER_PARTITIONS=32\n",
    "\n",
    "print \"Generate Scenarios: %s to OUTPUT directory: %s\"%(str(NUMBER_NODES_SCENARIO, OUTPUT_DIR))\n",
    "\n",
    "def generate_random_edges(tuple):\n",
    "    \"\"\"(source, <number of edges for source)\"\"\"\n",
    "    edges = []\n",
    "    source = tuple[0]\n",
    "    for i in range(0, tuple[1]):\n",
    "        destination = random.randrange(NUMBER_NODES)\n",
    "        if destination > source: \n",
    "            edges.append((source, destination))\n",
    "            # counter.add(1)\n",
    "    return edges\n",
    "\n",
    "\n",
    "measurements= {}\n",
    "for i in NUMBER_NODES_SCENARIO:\n",
    "    #counter = sc.accumulator(0)\n",
    "    NUMBER_NODES = i\n",
    "    start = time.time()\n",
    "    random_edges_rdd = RandomRDDs.normalRDD(sc, size=NUMBER_NODES, numPartitions=NUMBER_PARTITIONS) \\\n",
    "                             .map(lambda v: int(round(5.971566  + 1.305737  * v)))\\\n",
    "                             .zipWithIndex()\\\n",
    "                             .map(lambda a: (a[1], a[0]))\\\n",
    "                             .flatMap(lambda n: generate_random_edges(n))\\\n",
    "                             .map(lambda tuple: \"%s,%s\"%(tuple))\n",
    "                              \n",
    "    number_edges = random_edges_rdd.count()\n",
    "    #number_edges = counter.value\n",
    "    print \"Number of Edges: %d\"%number_edges\n",
    "\n",
    "    random_edges_rdd.saveAsTextFile(os.path.join(OUTPUT_DIR, \n",
    "                        \"graph_edges_%d_%d.csv\"%(NUMBER_NODES, number_edges)))\n",
    "    end = time.time()\n",
    "    measurements[NUMBER_NODES]=end-start\n",
    "\n",
    "    \n",
    "print \"Framework, NumberComputeNodes, NumberPartitions, NumberGraphNodes, Time\"\n",
    "for key, value in measurements.iteritems():\n",
    "    print \"Spark, 2, %d, %d, %.2f\"%(NUMBER_PARTITIONS, key, value)"
   ]
  },
  {
   "cell_type": "code",
   "execution_count": null,
   "metadata": {
    "collapsed": true
   },
   "outputs": [],
   "source": []
  }
 ],
 "metadata": {
  "kernelspec": {
   "display_name": "Python 2",
   "language": "python",
   "name": "python2"
  },
  "language_info": {
   "codemirror_mode": {
    "name": "ipython",
    "version": 2
   },
   "file_extension": ".py",
   "mimetype": "text/x-python",
   "name": "python",
   "nbconvert_exporter": "python",
   "pygments_lexer": "ipython2",
   "version": "2.7.10"
  }
 },
 "nbformat": 4,
 "nbformat_minor": 0
}
